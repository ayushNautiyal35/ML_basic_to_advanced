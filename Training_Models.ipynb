{
  "nbformat": 4,
  "nbformat_minor": 0,
  "metadata": {
    "colab": {
      "provenance": [],
      "authorship_tag": "ABX9TyMtvw7f3gG+mLhz5mQOHsSP",
      "include_colab_link": true
    },
    "kernelspec": {
      "name": "python3",
      "display_name": "Python 3"
    },
    "language_info": {
      "name": "python"
    }
  },
  "cells": [
    {
      "cell_type": "markdown",
      "metadata": {
        "id": "view-in-github",
        "colab_type": "text"
      },
      "source": [
        "<a href=\"https://colab.research.google.com/github/ayushNautiyal35/ML_basic_to_advanced/blob/main/Training_Models.ipynb\" target=\"_parent\"><img src=\"https://colab.research.google.com/assets/colab-badge.svg\" alt=\"Open In Colab\"/></a>"
      ]
    },
    {
      "cell_type": "markdown",
      "source": [
        "#***Training Models***\n",
        "\n",
        "---\n",
        "\n"
      ],
      "metadata": {
        "id": "ysT9Xqx8MSdm"
      }
    },
    {
      "cell_type": "markdown",
      "source": [
        "#1. Linear Regression"
      ],
      "metadata": {
        "id": "JYwnajd2Melk"
      }
    },
    {
      "cell_type": "markdown",
      "source": [
        " A linear model makes a prediction by simply computing a weighted\n",
        "sum of the input features, plus a constant called the bias term.\n",
        "\n",
        "y = θ0+ θ1x1+ θ2x2+ ⋯ + θnxn\n",
        "\n",
        "• ŷ is the predicted value.\n",
        "\n",
        "• n is number of features.\n",
        "\n",
        "• xi is the ith feature value.\n",
        "\n",
        "• θj is the j model parameters includeing the bias term θ0 and feature weights θ1,θ2,...θm.\n",
        "\n",
        "This can be written as :\n",
        "\n",
        "y = hθ(x) = θ · x\n",
        "\n",
        "where ,\n",
        "\n",
        "• θ is the model’s parameter vector, containing the bias term θ0 and the feature weights θ1 to θn.\n",
        "\n",
        "• x is the instance’s feature vector, containing x0\n",
        " to xn\n",
        ", with x0\n",
        " always equal to 1.\n",
        "\n",
        "\n",
        "• θ · x is the dot product of the vectors θ and x, which is of course equal to θ0x0+ θ1x1+ θ2x2+ ⋯ + θnxn.\n",
        "\n",
        "\n",
        "• hθ is the hypothesis function, using the model parameters θ.\n",
        "\n",
        "\n"
      ],
      "metadata": {
        "id": "Oww3_gJ2NCGm"
      }
    },
    {
      "cell_type": "markdown",
      "source": [
        "To train a linear regression model we need to find the value of  θ that minimizes the value of RMSE.\n",
        "For that we have two method:\n",
        "\n",
        "\n",
        "1.closed form equation.\n",
        "\n",
        "2. Gradient Descent."
      ],
      "metadata": {
        "id": "FhytftYhOyAg"
      }
    },
    {
      "cell_type": "markdown",
      "source": [
        " **The Normal Equation**"
      ],
      "metadata": {
        "id": "spszVlV1P4S0"
      }
    },
    {
      "cell_type": "markdown",
      "source": [
        "To find the value of  θ that minimizes the MSE,there exist a closed-form solution- i n other words, a mathematical equation that gives the result directly. This is called the Normal Equation.\n",
        "\n",
        "θ^ = ((X^T)X)^−1 X^T y\n",
        "\n",
        "• θ^ is the value of θ that minimizes the cost function.\n",
        "\n",
        "\n",
        "• y is the vector of target values containing y^(1) to y^(m)."
      ],
      "metadata": {
        "id": "3XPv2EPGSA4V"
      }
    },
    {
      "cell_type": "code",
      "source": [
        "import numpy as np\n",
        "np.random.seed(42)\n",
        "m=100\n",
        "x=2*np.random.rand(m,1)\n",
        "y=4+3*x+np.random.rand(m,1)\n",
        "y"
      ],
      "metadata": {
        "colab": {
          "base_uri": "https://localhost:8080/"
        },
        "id": "NbYN8AsUS8Zh",
        "outputId": "c5b6e9ed-8a4d-44b8-8a75-d7a0e55fcc07"
      },
      "execution_count": 75,
      "outputs": [
        {
          "output_type": "execute_result",
          "data": {
            "text/plain": [
              "array([[ 6.2786699 ],\n",
              "       [10.34069625],\n",
              "       [ 8.70631963],\n",
              "       [ 8.1005216 ],\n",
              "       [ 5.84367832],\n",
              "       [ 5.18525935],\n",
              "       [ 4.7588846 ],\n",
              "       [ 9.95260801],\n",
              "       [ 7.83548824],\n",
              "       [ 8.32541538],\n",
              "       [ 4.41325842],\n",
              "       [ 9.9806804 ],\n",
              "       [ 9.9243535 ],\n",
              "       [ 6.08215504],\n",
              "       [ 5.72435356],\n",
              "       [ 5.97188765],\n",
              "       [ 6.62912553],\n",
              "       [ 7.33510865],\n",
              "       [ 7.48422911],\n",
              "       [ 6.28671708],\n",
              "       [ 8.47855752],\n",
              "       [ 5.73305446],\n",
              "       [ 6.07087137],\n",
              "       [ 6.30822298],\n",
              "       [ 6.96435507],\n",
              "       [ 9.13816356],\n",
              "       [ 6.01605746],\n",
              "       [ 7.94613721],\n",
              "       [ 7.56143954],\n",
              "       [ 4.78944978],\n",
              "       [ 8.06268011],\n",
              "       [ 5.24525255],\n",
              "       [ 4.51017493],\n",
              "       [10.03092839],\n",
              "       [10.7367019 ],\n",
              "       [ 9.17358702],\n",
              "       [ 6.34647324],\n",
              "       [ 5.28905164],\n",
              "       [ 8.46902776],\n",
              "       [ 7.61269705],\n",
              "       [ 5.6946767 ],\n",
              "       [ 7.22284376],\n",
              "       [ 4.70357963],\n",
              "       [ 9.75680072],\n",
              "       [ 5.83752038],\n",
              "       [ 8.01202065],\n",
              "       [ 6.47983079],\n",
              "       [ 7.62308715],\n",
              "       [ 7.33174043],\n",
              "       [ 5.3877732 ],\n",
              "       [10.72577365],\n",
              "       [ 8.89035883],\n",
              "       [ 9.78188852],\n",
              "       [ 9.85841686],\n",
              "       [ 8.57305033],\n",
              "       [ 9.77330068],\n",
              "       [ 5.20309056],\n",
              "       [ 5.93751679],\n",
              "       [ 4.50900128],\n",
              "       [ 6.68019833],\n",
              "       [ 6.69984687],\n",
              "       [ 6.26040002],\n",
              "       [ 9.60595477],\n",
              "       [ 6.67629464],\n",
              "       [ 5.77589683],\n",
              "       [ 8.09147899],\n",
              "       [ 5.16632541],\n",
              "       [ 8.99970039],\n",
              "       [ 4.488079  ],\n",
              "       [10.51221456],\n",
              "       [ 9.31103298],\n",
              "       [ 5.20888192],\n",
              "       [ 4.54522576],\n",
              "       [ 9.11926435],\n",
              "       [ 8.88631685],\n",
              "       [ 8.54840944],\n",
              "       [ 9.31855982],\n",
              "       [ 4.83100326],\n",
              "       [ 7.08752436],\n",
              "       [ 4.8327353 ],\n",
              "       [ 9.51968691],\n",
              "       [ 7.85326228],\n",
              "       [ 6.91008177],\n",
              "       [ 5.25868946],\n",
              "       [ 6.12383556],\n",
              "       [ 6.61108398],\n",
              "       [ 9.19485927],\n",
              "       [ 8.38054564],\n",
              "       [ 9.85292703],\n",
              "       [ 7.07514184],\n",
              "       [ 4.81066824],\n",
              "       [ 9.17668448],\n",
              "       [ 9.46512835],\n",
              "       [ 8.00076464],\n",
              "       [ 8.96483287],\n",
              "       [ 7.31198315],\n",
              "       [ 7.86235266],\n",
              "       [ 7.46235637],\n",
              "       [ 5.03960118],\n",
              "       [ 5.42722411]])"
            ]
          },
          "metadata": {},
          "execution_count": 75
        }
      ]
    },
    {
      "cell_type": "markdown",
      "source": [
        "Now lets compute θ^  using normal equation. we will use inv() function from Numpy linear algebra module (np.linalg) to compute the inverse of a matrix and the dot() method for matrix multiplication.@ operator performs multplication."
      ],
      "metadata": {
        "id": "O2eg6CPcUj4l"
      }
    },
    {
      "cell_type": "code",
      "source": [
        "from sklearn.preprocessing import add_dummy_feature\n",
        "x_b=add_dummy_feature(x) #add x0=1 to each instance\n",
        "theta_best=np.linalg.inv(x_b.T @ x_b)@x_b.T @y"
      ],
      "metadata": {
        "id": "JqS3DBxrXQ72"
      },
      "execution_count": 76,
      "outputs": []
    },
    {
      "cell_type": "code",
      "source": [
        "theta_best"
      ],
      "metadata": {
        "colab": {
          "base_uri": "https://localhost:8080/"
        },
        "id": "OLnsJCi-X12k",
        "outputId": "f3cc39cd-a808-4315-8d8a-0ea45e6aa160"
      },
      "execution_count": 77,
      "outputs": [
        {
          "output_type": "execute_result",
          "data": {
            "text/plain": [
              "array([[4.51359766],\n",
              "       [2.98323418]])"
            ]
          },
          "metadata": {},
          "execution_count": 77
        }
      ]
    },
    {
      "cell_type": "markdown",
      "source": [
        "The fnction we used to calculate y=4+3x1+Gaussian Noise.\n",
        "\n",
        "We hope for θ0=4 and θ1=3 instead of what we get 4.51 and 2.98.\n",
        "It is due to gaussian noise.\n"
      ],
      "metadata": {
        "id": "-B2WFVQZYHrS"
      }
    },
    {
      "cell_type": "code",
      "source": [
        "x_new=np.array([[0],[2]])\n",
        "x_new_b= add_dummy_feature(x_new)\n",
        "y_predict=x_new_b @ theta_best\n",
        "y_predict"
      ],
      "metadata": {
        "colab": {
          "base_uri": "https://localhost:8080/"
        },
        "id": "udTcHPkLYg27",
        "outputId": "ab996090-dc88-4531-9c81-368510c918c2"
      },
      "execution_count": 78,
      "outputs": [
        {
          "output_type": "execute_result",
          "data": {
            "text/plain": [
              "array([[ 4.51359766],\n",
              "       [10.48006601]])"
            ]
          },
          "metadata": {},
          "execution_count": 78
        }
      ]
    },
    {
      "cell_type": "code",
      "source": [
        "import matplotlib.pyplot as plt\n",
        "plt.plot(x_new,y_predict,\"r-\",label=\"Predictions\")\n",
        "plt.plot(x,y,\"b.\")\n",
        "plt.show()"
      ],
      "metadata": {
        "colab": {
          "base_uri": "https://localhost:8080/",
          "height": 433
        },
        "id": "uNL9BJWfZ3Wq",
        "outputId": "96049aff-3098-4a6e-e7df-9479815fb611"
      },
      "execution_count": 79,
      "outputs": [
        {
          "output_type": "display_data",
          "data": {
            "text/plain": [
              "<Figure size 640x480 with 1 Axes>"
            ],
            "image/png": "[encoded data removed]"
          },
          "metadata": {}
        }
      ]
    },
    {
      "cell_type": "markdown",
      "source": [
        "Performing linear regression using scikit learn is relatively straight forward"
      ],
      "metadata": {
        "id": "vPqINKkydVvN"
      }
    },
    {
      "cell_type": "code",
      "source": [
        "from sklearn.linear_model import LinearRegression"
      ],
      "metadata": {
        "id": "FXi_S3Yedffi"
      },
      "execution_count": 80,
      "outputs": []
    },
    {
      "cell_type": "code",
      "source": [
        "lin_reg=LinearRegression()\n",
        "lin_reg.fit(x,y)\n",
        "lin_reg.intercept_,lin_reg.coef_\n"
      ],
      "metadata": {
        "colab": {
          "base_uri": "https://localhost:8080/"
        },
        "id": "7pR7B6NWdmI6",
        "outputId": "e229ca7d-3365-45bd-9f1d-8da04d7338ae"
      },
      "execution_count": 81,
      "outputs": [
        {
          "output_type": "execute_result",
          "data": {
            "text/plain": [
              "(array([4.51359766]), array([[2.98323418]]))"
            ]
          },
          "metadata": {},
          "execution_count": 81
        }
      ]
    },
    {
      "cell_type": "code",
      "source": [
        "lin_reg.predict(x_new)"
      ],
      "metadata": {
        "colab": {
          "base_uri": "https://localhost:8080/"
        },
        "id": "UmGHfKtcd48U",
        "outputId": "4ade9313-7b5e-4581-a418-4b4a6bc45280"
      },
      "execution_count": 82,
      "outputs": [
        {
          "output_type": "execute_result",
          "data": {
            "text/plain": [
              "array([[ 4.51359766],\n",
              "       [10.48006601]])"
            ]
          },
          "metadata": {},
          "execution_count": 82
        }
      ]
    },
    {
      "cell_type": "markdown",
      "source": [
        "The LinearRegression class is based on the scipy.linalg.lstsq() function (the\n",
        "name stands for “least squares”), which you could call directly"
      ],
      "metadata": {
        "id": "viE9B1Qjeah7"
      }
    },
    {
      "cell_type": "code",
      "source": [
        "theta_best_svd,residuals,rank,s=np.linalg.lstsq(x_b,y,rcond=1e-6)\n",
        "theta_best_svd"
      ],
      "metadata": {
        "colab": {
          "base_uri": "https://localhost:8080/"
        },
        "id": "efaijvWpecb1",
        "outputId": "e503152b-fb2b-47fa-b50d-a6260f0a105c"
      },
      "execution_count": 83,
      "outputs": [
        {
          "output_type": "execute_result",
          "data": {
            "text/plain": [
              "array([[4.51359766],\n",
              "       [2.98323418]])"
            ]
          },
          "metadata": {},
          "execution_count": 83
        }
      ]
    },
    {
      "cell_type": "markdown",
      "source": [
        "This function computes θ = X\n",
        "+\n",
        "y, where X+ is the pseudoinverse of X (specifically the\n",
        "Moore-Penrose inverse). You can use np.linalg.pinv() to compute the pseudoin‐\n",
        "verse directly:\n"
      ],
      "metadata": {
        "id": "N_E56wMge3CF"
      }
    },
    {
      "cell_type": "code",
      "source": [
        "np.linalg.pinv(x_b)@y"
      ],
      "metadata": {
        "colab": {
          "base_uri": "https://localhost:8080/"
        },
        "id": "ousM_A9PfDiC",
        "outputId": "afefdaae-3f74-48bc-b338-0a7780f2a12c"
      },
      "execution_count": 84,
      "outputs": [
        {
          "output_type": "execute_result",
          "data": {
            "text/plain": [
              "array([[4.51359766],\n",
              "       [2.98323418]])"
            ]
          },
          "metadata": {},
          "execution_count": 84
        }
      ]
    },
    {
      "cell_type": "markdown",
      "source": [
        "The pseudoinverse itself is computed using a standard matrix factorization technique\n",
        "called Singular Value Decomposition (SVD) that can decompose the training set\n",
        "matrix X into the matrix multiplication of three matrices U Σ VT\n",
        "(see\n",
        "numpy.linalg.svd()). The pseudoinverse is computed as X\n",
        "+\n",
        "= VΣ+U\n",
        "T\n",
        ". To compute\n",
        "the matrix Σ+, the algorithm takes Σ and sets to zero all values smaller than a tiny\n",
        "threshold value, then it replaces all the non-zero values with their inverse, and finally\n",
        "it transposes the resulting matrix. This approach is more efficient than computing the\n",
        "Normal Equation, plus it handles edge cases nicely: indeed, the Normal Equation may\n",
        "not work if the matrix XTX is not invertible (i.e., singular), such as if m < n or if some\n",
        "features are redundant, but the pseudoinverse is always defined.\n"
      ],
      "metadata": {
        "id": "wUqrt3EofQUE"
      }
    },
    {
      "cell_type": "markdown",
      "source": [
        "**Computational Complexity**"
      ],
      "metadata": {
        "id": "lCuWsIx5fadv"
      }
    },
    {
      "cell_type": "markdown",
      "source": [
        "The Normal Equation computes the inverse of XT X, which is an (n + 1) × (n + 1)\n",
        "matrix (where n is the number of features). The computational complexity of inverting\n",
        "such a matrix is typically about O(n^\n",
        "2.4) to O(n^\n",
        "3\n",
        ") (depending on the implementation).\n",
        "\n",
        "The SVD approach used by Scikit-Learn’s LinearRegression class is about O(n\n",
        "2\n",
        "). If\n",
        "you double the number of features, you multiply the computation time by roughly 4.\n",
        "\n",
        "Also, once you have trained your Linear Regression model (using the Normal Equation or any other algorithm), predictions are very fast: the computational complexity\n",
        "is linear with regards to both the number of instances you want to make predictions\n",
        "on and the number of features."
      ],
      "metadata": {
        "id": "4v6Qyj9TfqJH"
      }
    },
    {
      "cell_type": "markdown",
      "source": [
        "**Gradient Descent**"
      ],
      "metadata": {
        "id": "kan4WdMAgMJw"
      }
    },
    {
      "cell_type": "markdown",
      "source": [
        "Gradient Descent is a very generic optimization algorithm capable of finding optimal\n",
        "solutions to a wide range of problems. The general idea of Gradient Descent is to\n",
        "tweak parameters iteratively in order to minimize a cost function.\n",
        "\n",
        " it measures the local gradient of the error function with regards to the\n",
        "parameter vector θ, and it goes in the direction of descending gradient. Once the gra‐\n",
        "dient is zero, you have reached a minimum\n",
        "\n",
        "Concretely, you start by filling θ with random values (this is called random initializa‐\n",
        "tion), and then you improve it gradually, taking one baby step at a time, each step\n",
        "attempting to decrease the cost function (e.g., the MSE), until the algorithm converges\n",
        "to a minimum.\n",
        "\n",
        "An important parameter in Gradient Descent is the size of the steps, determined by\n",
        "the learning rate hyperparameter. If the learning rate is too small, then the algorithm\n",
        "will have to go through many iterations to converge, which will take a long time\n",
        "\n",
        "On the other hand, if the learning rate is too high, you might jump across the valley\n",
        "and end up on the other side, possibly even higher up than you were before. This\n",
        "might make the algorithm diverge, with larger and larger values, failing to find a good\n",
        "solution\n",
        "\n",
        "Fortunately, the MSE cost function for a Linear Regression model happens to be a\n",
        "convex function, which means that if you pick any two points on the curve, the line\n",
        "segment joining them never crosses the curve. This implies that there are no local\n",
        "minima, just one global minimum. It is also a continuous function with a slope that\n",
        "never changes abruptly.4\n",
        " These two facts have a great consequence: Gradient Descent\n",
        "is guaranteed to approach arbitrarily close the global minimum (if you wait long\n",
        "enough and if the learning rate is not too high).\n",
        "In fact, the cost function has the shape of a bowl, but it can be an elongated bowl if\n",
        "the features have very different scales\n",
        "\n",
        "When using Gradient Descent, you should ensure that all features\n",
        "have a similar scale (e.g., using Scikit-Learn’s StandardScaler\n",
        "class), or else it will take much longer to converge.\n",
        "\n",
        "Training a model means searching for a\n",
        "combination of model parameters that minimizes a cost function (over the training\n",
        "set). It is a search in the model’s parameter space: the more parameters a model has,\n",
        "the more dimensions this space has, and the harder the search is."
      ],
      "metadata": {
        "id": "QmB5sqqCgRId"
      }
    },
    {
      "cell_type": "markdown",
      "source": [
        "**Batch Gradient Descent**"
      ],
      "metadata": {
        "id": "MhQw338Xhzw_"
      }
    },
    {
      "cell_type": "markdown",
      "source": [
        "To implement Gradient Descent, you need to compute the gradient of the cost func‐\n",
        "tion with regards to each model parameter θj\n",
        ". In other words, you need to calculate\n",
        "how much the cost function will change if you change θj\n",
        "just a little bit. This is called\n",
        "a partial derivative\n",
        "\n",
        "![image.png](data:image/png;base64,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)\n",
        "\n",
        "Partial derivative of cost function.\n",
        "\n"
      ],
      "metadata": {
        "id": "8X4pcd4HiFsV"
      }
    },
    {
      "cell_type": "code",
      "source": [
        "eta=0.1\n",
        "n_epochs=1000\n",
        "m=len(x_b)\n",
        "np.random.seed(42)\n",
        "theta=np.random.randn(2,1)\n",
        "for epoch in range(n_epochs):\n",
        "  gradients=2/m * x_b.T@(x_b @theta -y)\n",
        "  theta= theta-eta*gradients"
      ],
      "metadata": {
        "id": "pAB73mhJkNjV"
      },
      "execution_count": 85,
      "outputs": []
    },
    {
      "cell_type": "code",
      "source": [
        "theta"
      ],
      "metadata": {
        "colab": {
          "base_uri": "https://localhost:8080/"
        },
        "id": "d7AIWm-ukbAp",
        "outputId": "10f4147a-08e1-47e5-f4e6-bd1858ede9ba"
      },
      "execution_count": 86,
      "outputs": [
        {
          "output_type": "execute_result",
          "data": {
            "text/plain": [
              "array([[4.51359766],\n",
              "       [2.98323418]])"
            ]
          },
          "metadata": {},
          "execution_count": 86
        }
      ]
    },
    {
      "cell_type": "markdown",
      "source": [
        "Each iteration over the training set is called an epoch."
      ],
      "metadata": {
        "id": "_i4VOq8Xi2dq"
      }
    },
    {
      "cell_type": "markdown",
      "source": [
        "You may wonder how to set the number of iterations?\n",
        "\n",
        "\n",
        "A simple solution is to set a very large number of iterations but to interrupt the algorithm when the\n",
        "gradient vector becomes tiny—that is, when its norm becomes smaller than a tiny\n",
        "number ϵ (called the tolerance)—because this happens when Gradient Descent has\n",
        "(almost) reached the minimum."
      ],
      "metadata": {
        "id": "NxJn2snSkvsy"
      }
    },
    {
      "cell_type": "markdown",
      "source": [
        "Convergence Rate:\n",
        "\n",
        "When the cost function is convex and its slope does not change abruptly (as is the\n",
        "case for the MSE cost function), Batch Gradient Descent with a fixed learning rate\n",
        "will eventually converge to the optimal solution, but you may have to wait a while: it\n",
        "can take O(1/ϵ) iterations to reach the optimum within a range of ϵ depending on the\n",
        "shape of the cost function. If you divide the tolerance by 10 to have a more precise\n",
        "solution, then the algorithm may have to run about 10 times longer.\n"
      ],
      "metadata": {
        "id": "qNjLU75ilRCW"
      }
    },
    {
      "cell_type": "markdown",
      "source": [
        "**Stochastic Gradient Descent**"
      ],
      "metadata": {
        "id": "KXmMol5GlW_w"
      }
    },
    {
      "cell_type": "markdown",
      "source": [
        "The main problem with Batch Gradient Descent is the fact that it uses the whole\n",
        "training set to compute the gradients at every step, which makes it very slow when\n",
        "the training set is large. At the opposite extreme, Stochastic Gradient Descent just\n",
        "picks a random instance in the training set at every step and computes the gradients\n",
        "based only on that single instance. Obviously this makes the algorithm much faster\n",
        "since it has very little data to manipulate at every iteration. It also makes it possible to\n",
        "train on huge training sets, since only one instance needs to be in memory at each\n",
        "iteration.\n",
        "\n",
        "On the other hand, due to its stochastic (i.e., random) nature, this algorithm is much\n",
        "less regular than Batch Gradient Descent: instead of gently decreasing until it reaches\n",
        "the minimum, the cost function will bounce up and down, decreasing only on average. Over time it will end up very close to the minimum, but once it gets there it will\n",
        "continue to bounce around, never settling down. So once the algorithm stops, the final parameter values are good, but not optimal."
      ],
      "metadata": {
        "id": "IaOeaTmLldrm"
      }
    },
    {
      "cell_type": "markdown",
      "source": [
        "When the cost function is very irregular, this can actually help the\n",
        "algorithm jump out of local minima, so Stochastic Gradient Descent has a better\n",
        "chance of finding the global minimum than Batch Gradient Descent does.\n",
        "\n",
        "Therefore randomness is good to escape from local optima, but bad because it means\n",
        "that the algorithm can never settle at the minimum. One solution to this dilemma is\n",
        "to gradually reduce the learning rate. The steps start out large (which helps make\n",
        "quick progress and escape local minima), then get smaller and smaller, allowing the\n",
        "algorithm to settle at the global minimum. This process is akin to simulated annealing, an algorithm inspired from the process of annealing in metallurgy where molten\n",
        "metal is slowly cooled down. The function that determines the learning rate at each\n",
        "iteration is called the learning schedule. If the learning rate is reduced too quickly, you\n",
        "may get stuck in a local minimum, or even end up frozen halfway to the minimum. If\n",
        "the learning rate is reduced too slowly, you may jump around the minimum for a\n",
        "long time and end up with a suboptimal solution if you halt training too early.\n"
      ],
      "metadata": {
        "id": "Os3Z-JoWkR8I"
      }
    },
    {
      "cell_type": "code",
      "source": [
        "import numpy as np\n",
        "n_epochs=50\n",
        "t0,t1=5,50\n",
        "def learning_schedule(t):\n",
        "  return t0/(t+t1)\n",
        "\n",
        "np.random.seed(42)\n",
        "theta=np.random.randn(2,1)\n",
        "\n",
        "for epoch in range(n_epochs):\n",
        "  for iteration in range(m):\n",
        "    random_index=np.random.randint(m)\n",
        "    xi=x_b[random_index:random_index+1]\n",
        "    yi=y[random_index : random_index+1]\n",
        "    gradients=2*xi.T @ (xi@theta-yi)\n",
        "    eta= learning_schedule(epoch*m +iteration)\n",
        "    theta=theta-eta*gradients"
      ],
      "metadata": {
        "id": "tSrebgauklxY"
      },
      "execution_count": 87,
      "outputs": []
    },
    {
      "cell_type": "markdown",
      "source": [
        "While the batch gradient descent code iterated 1000 times through the whole training set, this code goes through the training set only 50 times and reaches a pretty good solution"
      ],
      "metadata": {
        "id": "aVLexNp9l25h"
      }
    },
    {
      "cell_type": "code",
      "source": [
        "theta"
      ],
      "metadata": {
        "colab": {
          "base_uri": "https://localhost:8080/"
        },
        "id": "byLcZvuemPyM",
        "outputId": "9e28d785-1c1e-428e-99b1-766bde1b16bd"
      },
      "execution_count": 88,
      "outputs": [
        {
          "output_type": "execute_result",
          "data": {
            "text/plain": [
              "array([[4.51548062],\n",
              "       [2.9775157 ]])"
            ]
          },
          "metadata": {},
          "execution_count": 88
        }
      ]
    },
    {
      "cell_type": "markdown",
      "source": [
        " since instances are picked randomly, some instances may be picked several\n",
        "times per epoch while others may not be picked at all. If you want to be sure that the\n",
        "algorithm goes through every instance at each epoch, another approach is to shuffle\n",
        "the training set (making sure to shuffle the input features and the labels jointly), then\n",
        "go through it instance by instance, then shuffle it again, and so on."
      ],
      "metadata": {
        "id": "3LuQHwWemT9r"
      }
    },
    {
      "cell_type": "markdown",
      "source": [
        "To perform Linear Regression using SGD with Scikit-Learn, you can use the SGDRe\n",
        "gressor class, which defaults to optimizing the squared error cost function."
      ],
      "metadata": {
        "id": "skYGcn0Bm459"
      }
    },
    {
      "cell_type": "code",
      "source": [
        "from sklearn.linear_model import SGDRegressor\n",
        "sgd_reg=SGDRegressor(max_iter=1000,tol=1e-5,penalty=None,eta0=0.01,n_iter_no_change=100,random_state=42)\n",
        "sgd_reg.fit(x,y.ravel()) #y.ravel() beacuse fit() excepts 1D targets\n",
        "sgd_reg.intercept_,sgd_reg.coef_"
      ],
      "metadata": {
        "colab": {
          "base_uri": "https://localhost:8080/"
        },
        "id": "2nmgoka-m9L5",
        "outputId": "61c1eba6-d2f9-4193-e441-88c683cc03bf"
      },
      "execution_count": 89,
      "outputs": [
        {
          "output_type": "execute_result",
          "data": {
            "text/plain": [
              "(array([4.50316965]), array([2.99156535]))"
            ]
          },
          "metadata": {},
          "execution_count": 89
        }
      ]
    },
    {
      "cell_type": "markdown",
      "source": [
        "**Mini-Batch Gradient Descent**"
      ],
      "metadata": {
        "id": "Kloum-tHpJpP"
      }
    },
    {
      "cell_type": "markdown",
      "source": [
        "p, instead of computing the gradients based on the full train‐\n",
        "ing set (as in Batch GD) or based on just one instance (as in Stochastic GD), Minibatch GD computes the gradients on small random sets of instances called minibatches. The main advantage of Mini-batch GD over Stochastic GD is that you can\n",
        "get a performance boost from hardware optimization of matrix operations, especially\n",
        "when using GPUs.\n",
        "\n",
        "\n",
        "The algorithm’s progress in parameter space is less erratic than with SGD, especially\n",
        "with fairly large mini-batches. As a result, Mini-batch GD will end up walking\n",
        "around a bit closer to the minimum than SGD. But, on the other hand, it may be\n",
        "harder for it to escape from local minima\n",
        "\n",
        "Batch GD takes a lot of time to take each step, and Stochastic GD and Mini-batch GD would also reach the minimum if you used a good learning schedule.\n"
      ],
      "metadata": {
        "id": "v2P0sKLKpOkK"
      }
    },
    {
      "cell_type": "markdown",
      "source": [
        "**Polynomial Regression**"
      ],
      "metadata": {
        "id": "ImqrZGwapjYP"
      }
    },
    {
      "cell_type": "markdown",
      "source": [
        "you can actually use a linear model to fit nonlinear data. A simple way to do this is to\n",
        "add powers of each feature as new features, then train a linear model on this extended\n",
        "set of features. This technique is called Polynomial Regression.\n",
        "\n",
        "\n"
      ],
      "metadata": {
        "id": "M2aIQuAMl-_W"
      }
    },
    {
      "cell_type": "code",
      "source": [
        "np.random.seed(42)\n",
        "m=100\n",
        "x=6*np.random.rand(m,1)-3\n",
        "y=0.5*x**2 +x+2+np.random.randn(m,1)\n",
        "plt.plot(x,y,\"b.\")\n",
        "plt.show()"
      ],
      "metadata": {
        "colab": {
          "base_uri": "https://localhost:8080/",
          "height": 430
        },
        "id": "guDsEMpBmr67",
        "outputId": "6e944d38-c7d6-4f48-b95c-7bfe121fb25f"
      },
      "execution_count": 90,
      "outputs": [
        {
          "output_type": "display_data",
          "data": {
            "text/plain": [
              "<Figure size 640x480 with 1 Axes>"
            ],
            "image/png": "[encoded data removed]"
          },
          "metadata": {}
        }
      ]
    },
    {
      "cell_type": "markdown",
      "source": [
        "Clearly, a straight line will never fit this data properly. So let’s use Scikit-Learn’s Poly\n",
        "nomialFeatures class to transform our training data, adding the square (2nd-degree\n",
        "polynomial) of each feature in the training set as new features."
      ],
      "metadata": {
        "id": "SGT6ALiFofaJ"
      }
    },
    {
      "cell_type": "code",
      "source": [
        "from sklearn.preprocessing import PolynomialFeatures\n",
        "poly_features=PolynomialFeatures(degree=2,include_bias=False)\n",
        "x_poly=poly_features.fit_transform(x)\n",
        "x[0]"
      ],
      "metadata": {
        "colab": {
          "base_uri": "https://localhost:8080/"
        },
        "id": "yTNFmNQOooRI",
        "outputId": "de927c8c-ceac-4774-b3e1-1ab1ee5b544c"
      },
      "execution_count": 91,
      "outputs": [
        {
          "output_type": "execute_result",
          "data": {
            "text/plain": [
              "array([-0.75275929])"
            ]
          },
          "metadata": {},
          "execution_count": 91
        }
      ]
    },
    {
      "cell_type": "code",
      "source": [
        "x_poly[0]"
      ],
      "metadata": {
        "colab": {
          "base_uri": "https://localhost:8080/"
        },
        "id": "SdC7Ue4ppCeC",
        "outputId": "1b97c750-f808-4654-ebdd-757f12968f99"
      },
      "execution_count": 92,
      "outputs": [
        {
          "output_type": "execute_result",
          "data": {
            "text/plain": [
              "array([-0.75275929,  0.56664654])"
            ]
          },
          "metadata": {},
          "execution_count": 92
        }
      ]
    },
    {
      "cell_type": "markdown",
      "source": [
        "X_poly now contains the original feature of X plus the square of this feature. Now you\n",
        "can fit a LinearRegression model to this extended training data."
      ],
      "metadata": {
        "id": "jUSUTkngpHmD"
      }
    },
    {
      "cell_type": "code",
      "source": [
        "lin_reg=LinearRegression()\n",
        "lin_reg.fit(x_poly,y)\n",
        "lin_reg.intercept_,lin_reg.coef_"
      ],
      "metadata": {
        "colab": {
          "base_uri": "https://localhost:8080/"
        },
        "id": "R3G02gO4pM_M",
        "outputId": "75d894b4-c189-4509-bc9d-83ca7b7a23f0"
      },
      "execution_count": 93,
      "outputs": [
        {
          "output_type": "execute_result",
          "data": {
            "text/plain": [
              "(array([1.78134581]), array([[0.93366893, 0.56456263]]))"
            ]
          },
          "metadata": {},
          "execution_count": 93
        }
      ]
    },
    {
      "cell_type": "markdown",
      "source": [
        "when there are multiple features, Polynomial Regression is capable of finding relationships between features (which is something a plain Linear Regression\n",
        "model cannot do). This is made possible by the fact that PolynomialFeatures also\n",
        "adds all combinations of features up to the given degree."
      ],
      "metadata": {
        "id": "dNPrc_wqqyB8"
      }
    },
    {
      "cell_type": "markdown",
      "source": [
        "**Learning Curves**"
      ],
      "metadata": {
        "id": "g-AMihgxq7nE"
      }
    },
    {
      "cell_type": "markdown",
      "source": [
        "Scikit-Learn has a useful learning_curve() function to help with this: it trains and evaluates the model using cross-validation.\n",
        "By default it retains the model on growing subsets of the training set,but if the model supports incremental learning you can set exploit_incremental_learning=True when calling learning_curve() and it will train the model incrementally instead.\n",
        "The function returns the training set sizes at which it evaluated the model, and the training and validation scores it measured for each size and for each cross-validation fold."
      ],
      "metadata": {
        "id": "6r5BXoq5rGPz"
      }
    },
    {
      "cell_type": "code",
      "source": [
        "from sklearn.model_selection import learning_curve\n",
        "train_sizes,train_scores,valid_scores=learning_curve(\n",
        "    LinearRegression(),x,y,train_sizes=np.linspace(0.01,1.0,40),cv=5,scoring=\"neg_root_mean_squared_error\")\n",
        "train_errors= -train_scores.mean(axis=1)\n",
        "valid_errors= -valid_scores.mean(axis=1)\n",
        "\n",
        "plt.plot(train_sizes,train_errors,\"r-+\",linewidth=2,label=\"train\")\n",
        "plt.plot(train_sizes,valid_errors,\"b-\",linewidth=3,label=\"valid\")\n",
        "plt.show()"
      ],
      "metadata": {
        "colab": {
          "base_uri": "https://localhost:8080/",
          "height": 430
        },
        "id": "fdGzk5Xos7hR",
        "outputId": "f68f846a-1057-4df4-9c1d-0a83c6128491"
      },
      "execution_count": 94,
      "outputs": [
        {
          "output_type": "display_data",
          "data": {
            "text/plain": [
              "<Figure size 640x480 with 1 Axes>"
            ],
            "image/png": "[encoded data removed]"
          },
          "metadata": {}
        }
      ]
    },
    {
      "cell_type": "markdown",
      "source": [
        "This model is underfitting. When there are just one or two instances in the training set, the model can fit them perfectly. But as new instances are added it becomes impossible for the model to fit the training data perfectly, both because the data is noisy and because it is not linear at all.\n",
        "\n",
        "If we talk about validation error when the model is trained on very few training instances, it is incapable of generalizing properly, which is why the validation error is initially quite large.Then as the model is shown more training examples, it learns, and thus the validation error slowly goes down.\n",
        "\n",
        "Now lets look at the learning curves of a 10th degree polynomial model on the same data."
      ],
      "metadata": {
        "id": "RSuf8Mq5uo6i"
      }
    },
    {
      "cell_type": "code",
      "source": [
        "from sklearn.pipeline import make_pipeline\n",
        "polynomial_regression=make_pipeline(\n",
        "    PolynomialFeatures(degree=10,include_bias=False), LinearRegression()\n",
        ")\n",
        "train_sizes,train_scores,valid_scores=learning_curve(\n",
        "    polynomial_regression,x,y,train_sizes=np.linspace(0.01,1.0,40),cv=5,scoring=\"neg_root_mean_squared_error\"\n",
        ")\n",
        "train_errors= -train_scores.mean(axis=1)\n",
        "valid_errors= -valid_scores.mean(axis=1)\n",
        "plt.plot(train_sizes,train_errors,\"r-+\",linewidth=2,label=\"train\")\n",
        "plt.plot(train_sizes,valid_errors,\"b-\",linewidth=3,label=\"valid\")\n",
        "plt.show()"
      ],
      "metadata": {
        "colab": {
          "base_uri": "https://localhost:8080/",
          "height": 430
        },
        "id": "V9XfRS9ayf9N",
        "outputId": "e40b887d-2a8a-4074-d125-8570b9807d9d"
      },
      "execution_count": 95,
      "outputs": [
        {
          "output_type": "display_data",
          "data": {
            "text/plain": [
              "<Figure size 640x480 with 1 Axes>"
            ],
            "image/png": "[encoded data removed]"
          },
          "metadata": {}
        }
      ]
    },
    {
      "cell_type": "markdown",
      "source": [
        "These learning curves look a bit like the previous ones, but there are two very important differences:\n",
        "• The error on the training data is much lower than with the Linear Regression\n",
        "model.\n",
        "• There is a gap between the curves. This means that the model performs significantly better on the training data than on the validation data, which is the hallmark of an overfitting model. However, if you used a much larger training set,\n",
        "the two curves would continue to get closer."
      ],
      "metadata": {
        "id": "xGlA1y674gFH"
      }
    },
    {
      "cell_type": "markdown",
      "source": [
        "**Regularized Linear Models**"
      ],
      "metadata": {
        "id": "5KzRO8WD4nLz"
      }
    },
    {
      "cell_type": "markdown",
      "source": [
        "A simple way to regularize a polynomial model is to reduce the number of polynomial degrees. For a linear model, regularization is typically achieved by constraining the weights of the model.\n",
        "\n",
        "There are 3 ways of constraining the weights:\n"
      ],
      "metadata": {
        "id": "FzF5MLc-7-ys"
      }
    },
    {
      "cell_type": "markdown",
      "source": [
        "i. Ridge Regression"
      ],
      "metadata": {
        "id": "z0tHRYAJ8hCl"
      }
    },
    {
      "cell_type": "markdown",
      "source": [
        "Ridge Regression (also called Tikhonov regularization) is a regularized version of Linear Regression: a regularization term equal to\n",
        " ![image.png](data:image/png;base64,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)\n",
        "is added to the cost function.\n",
        "This forces the learning algorithm to not only fit the data but also keep the model\n",
        "weights as small as possible. Note that the regularization term should only be added\n",
        "to the cost function during training. Once the model is trained, you want to evaluate\n",
        "the model’s performance using the unregularized performance measure.\n",
        "\n",
        "The hyperparameter α controls how much you want to regularize the model. If α = 0\n",
        "then Ridge Regression is just Linear Regression. If α is very large, then all weights end\n",
        "up very close to zero and the result is a flat line going through the data’s mean.\n",
        "\n",
        "![image.png](data:image/png;base64,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)\n",
        "Ridge regression cost function\n"
      ],
      "metadata": {
        "id": "HvKrkO9-8y8a"
      }
    },
    {
      "cell_type": "markdown",
      "source": [
        "For Gradient Descent, just add αw to the MSE gradient vector.\n",
        "\n",
        "\n",
        "As with Linear Regression, we can perform Ridge Regression either by computing a\n",
        "closed-form equation or by performing Gradient Descent. The pros and cons are the\n",
        "same.\n",
        "\n",
        "![image.png](data:image/png;base64,iVBORw0KGgoAAAANSUhEUgAAALgAAAAdCAYAAAAZ4qaaAAAAAXNSR0IArs4c6QAAAARnQU1BAACxjwv8YQUAAAAJcEhZcwAADsMAAA7DAcdvqGQAAAp/SURBVHhe7ZwNUFNXFsdPEqJrEUTt4gesnVoBtRYVShXssrVWZdUWEiQ4FoRFdJkstlXbSlkRp+LXMou2dkUXqZYSqyAFrbthRCvKWlDbYsxshQoWGVykawgVqEDy+O8LXCofVgSSQtj8Zt6Q/+Fy896555177rshAvCQBQuDFCH7acEcaK4hdeZuigqPpeP/bWZGCw/DEuDmhNCWXH73NNXlf0HlTcxm4aH0KcAN1U1WVhaVlJQwS//RXKuh6kYm2uC0pKkZTJlOSENsf02jrU2Zl5qpVlNNXV2pIXN0Za899e2331JcXBy5uLhQbm4uJSYmkl6vZ7/tOz/88AMdPnyYqe5opoqUNRQUlUCJCeHk9WwQbd+/l7YG+VNMvo61GZgYEkRFRQVTA4DmCkpZE0RRCYmUEO5FzwZtp/17t1KQfwwNcFc+GMMis6ecPHkSx44dY6oVfpCwY8cOVFZWMkvfiIqKwo0bN5jqjgbkZ2ThOz3/6vNIuAYocJe3Nl7MxHGDcQCj0WgQFhbGFMDdzkHC+jfwxhv3j7VRh1CoYw10hdjksQDvV3DMYGQa8pGR9R30vE8/j3RFgKLFk7iYebzFv+ZGrwLc1Gi1WkilUqZ6AoeyXfMwe/NVtMWDORASEoLr168z1Q18gMd4zDddgLfBlWHXvNnYfNWcPNmVPhVzzfXldPHEJ5R+rpTqmM0YHD16lBYtWsRUT2gi1dVKcnZ9iqyYxRyQyWSUnJzM1ENoriZV5ieUV1ZMOQeVVFTP7KagSUVXK53J9Slz8mRXeh3g+qIkWvr0PEq4CVJt+i15Rp6k7420CDl//jx5eHjwr5roqwNyWi71I19fX/KThtEHlxpIc2Y7hRhsfjIKT8il6rb31ZeSqsieprkOZQa+h68OkHy5lPz4v/f1k1LYB5eoQXOGtocYbH4kC0+g3J86MB21pzeSJEpJtUy3x3CtFy5cYOohCEfR9ICddPb7m3Ri42KabM3sj0LTV3RAvpykfrwf+OuWhn1Alxo0dGZ7SIvNTxZOCbnVrLHBlSoqsp9G7VxpnrBM3jO4SnwkGQXxtGhc5mcwbaoEtuIpeLugkTXoG87OzmhqamJKh5vpoXASC2Dl/DrO1RtMKsR6PYNQRTFfKbZDm4qlU1ZD2cHIN7+ZjlAnMQRWzni9tQOoYr3wTKgCxZ3amgTuNg762kH0uAyfaJitE5MmTUJjo3H897PobiI91AligRWcXz+HVlfGwuuZUCg6OUKbuhRTVis7+tcM6V2A3zmIV2yEsJMdRR0vdZfewTSxGNM3ft3n2re8vBxubm5MtaGFMmISPzA28I5XozhpBQJ3qzs4n9NcQfpb3hg93gebs0u6DIxWGYFJ/E1i4x0PdXESVgTuhrqb0eMqspF07Js+X5O+9D1IJoyGSGgH34O3+ZVCVxYvXoz8/HymTIhWiYhJ/M1u4414dTGSVgRidwdHcNBcScdb3qMx3mczskvMO8R7FeCNF9bD2UqEcbL9KPjyS1w+sRYz+OCxlR1pyQp9ITs7G8uWLWPqPlxVOoIcRBCOmACPlR+jrKcreq4K6UEOfJCNwASPlfj4ETrQXYzG3JXHcY/pB8Oh6uz7iF67HM+7r0Tarf8gLXIF9vy77bbQ4cq7wfhzSgzceR8NX5iIB60P161bB74OZ8qU8OebHgQHkRAjJnhg5cdlMO7DkWrkxUsw3dEBDhO88KfMUqg/CoHHE67w3XkOGhOvjTvTqxoc9XXEDzrdK1ZS0r59tP/IJb7+BjX++CNxrE0bjXk7KbCl7ut0+MeSsoY1asePfB/Dhg1j6j5CewltiVlAtrUVVFpxl3r8xF1oT5ItMbTAtpYqSivorpEe2dee30jBSTa0On4/rZt6mpK27qDjoyMobCpbnDV+QalqJwoICCTf6VZUf/4IpZV19hK1XPO9e/eYMiVCspdsoZgFtlRbUUoVxnLET4yk59ftocgZ9VRZ2URjnJ6gqb9zpwker9GeN71plCn3qB4EC/Qe0VjwNqbwGdwh/J8tpYC+aDtmi4UY9WpGN9muexQKBeRyOVPt4OvYTPkSeLvZQSi0h29yTzMPh9uZcizxdoOdUAh73+QHzwKNefjLcikkEgkk86bAfuIc+BleS2TYrNSyRgz9dSTMdcYqpWHe0uPatlmwdduIgnbTWE1WKCa7L4U8Uo6lM/lzFwzF7G3fdDn3uLg4xMfHM2VauNuZkC/xhpudEEJ7XyT3eDrsnppPgzFWKIb7uyqU7AnDuhxDMfvL07savDoFkhFCPLb4AO7wsvGLNzHZagi8dhZ3GTidKhWb3olq2bjpcGxMRkEta9SOlJQUrFmzhqk2OJQrQvByTD5qVNvgaS2AaLwMiluPPt9x5QqEvByD/BoVtnlaQyAaD5niFt/zz9NtiXLnABaNmIv3yg29NKJwkxtGvHKIXzEw+JvyUMBLiFJegUqlwpWcaMwaKoB45iZc6VTYGzbJDIfJ4cqhCHkZMfk1UG3zhLVAhPEyBXrgykej/hQinhBBPOMPiPjj1vsbVb8wvXyK8j2OBI6B2GElTtbxmfHvv8dw2xfxXknXTMBpy6C+qmoZ4A6H+gY0D0gcaWlpWLVqFVOt1BXGY/5zkTht2FTjl7V566fyC04RHANSHm13ra4Q8fOfQ2RrB6jLW4+pfD0scgxAykM66C7Audt7MX/4LGwr0qH6X3/Du1GBmOy6AWcLTiGvkuNntnjMfWErvml7C30p/uo9FAIrJ7yW23G1Ehsbi127djFlKupQGD8fz0Webtnp5R2B9VP5BafIEQEpht1LY9KAvLXOsBLa4KU9xu770eldgPPoy9KwesZv4B68FjIPd6w4VMTnsL7z2WefITg4uFXoS5ARLYXrSD4TPOmDuJwqcDo1kgNdMExAIIE1nBbK8eHPpgc9SjKiIXUdCZH4SfjE5aCK00GdHAiXYQIQCWDttBDyDwtZ+450m8H117D7xZGwmzgb/lvOQlOdhmX2j8N9bRaunYlHgKsdrBxewFvHSlsGWPd1Ivyc+ADn3/dXE32w6R+3Wvvh2bBhA/bt28eU8dGXZCBa6oqRIjGe9IlDThUHnToZgS7D+PMhCKydsFD+IWttHHSXo+E6VobDhmm+n+h1gLfA1aKytBSVtca7PwsKCuDj48OUGdBwB7eq6lmpw+FutbZXjxUNn0fJyMhganCgL03Aq2uyWx4l9xd9W9MKh9PYiRNp7HARM/SdmTNnUnFxMVNmwNDRNN7+MbYlLCSbkXa9+pgAX7aRp6cnU+YPV3mW4iI+pXGBc6knG67G5pd+aNMtQ4YMIUdHR6qqqmKWwY/hY8b19fU0btw4ZjF36unE2zLaWj6bpB5DmK1/GHABbmDOnDlUWFjI1ODn2rVr5O7uztRgwJp8916ky8ffoVn9G98DM8CXLFlCp06dYmrwY7hWwzUPJoQ2E2m6y6h+D7ABm8HLysqM+h9CA5m8vDwKCAhgyoIxGZABbkAul1NqaipTgxelUkn+/v4kEhlvoW7hPgP6e1EMC80xY8YwNTj5f7jG/sTyxT8WBjUDtkSxYMEYWALcwqDGEuAWBjFE/wOU8c+oh4BBcgAAAABJRU5ErkJggg==)\n",
        "\n",
        "Ridge regression closed-form solution"
      ],
      "metadata": {
        "id": "GDr0u40a92sY"
      }
    },
    {
      "cell_type": "code",
      "source": [
        "from sklearn.linear_model import Ridge\n",
        "ridge_reg=Ridge(alpha=0.1,solver=\"cholesky\")\n",
        "ridge_reg.fit(x,y)\n",
        "ridge_reg.predict([[1.5]])"
      ],
      "metadata": {
        "colab": {
          "base_uri": "https://localhost:8080/"
        },
        "id": "Zlowfq0y_BZ4",
        "outputId": "84bc0817-276c-40b0-c137-a591dd68e5d3"
      },
      "execution_count": 96,
      "outputs": [
        {
          "output_type": "execute_result",
          "data": {
            "text/plain": [
              "array([[4.82899748]])"
            ]
          },
          "metadata": {},
          "execution_count": 96
        }
      ]
    },
    {
      "cell_type": "markdown",
      "source": [
        "And using SGD:"
      ],
      "metadata": {
        "id": "KIWD5dzLAdgO"
      }
    },
    {
      "cell_type": "code",
      "source": [
        "sgd_reg=SGDRegressor(penalty=\"l2\",alpha=0.1/m, tol=None,max_iter=1000,eta0=0.01,random_state=42)\n",
        "sgd_reg.fit(x,y.ravel())\n",
        "sgd_reg.predict([[1.5]])"
      ],
      "metadata": {
        "colab": {
          "base_uri": "https://localhost:8080/"
        },
        "id": "AX67RQDCAi0U",
        "outputId": "5ea1da74-b9a3-4164-ecb1-77baeeef8851"
      },
      "execution_count": 97,
      "outputs": [
        {
          "output_type": "execute_result",
          "data": {
            "text/plain": [
              "array([4.82830117])"
            ]
          },
          "metadata": {},
          "execution_count": 97
        }
      ]
    },
    {
      "cell_type": "markdown",
      "source": [
        "ii. Lasso Regression"
      ],
      "metadata": {
        "id": "-gmIaEbvBQwd"
      }
    },
    {
      "cell_type": "markdown",
      "source": [
        "Least Absolute Shrinkage and Selection Operator Regression (simply called Lasso\n",
        "Regression) is another regularized version of Linear Regression: just like Ridge\n",
        "Regression, it adds a regularization term to the cost function, but it uses the ℓ1 norm\n",
        "of the weight vector instead of half the square of the ℓ2\n",
        " norm.\n",
        "\n",
        " ![image.png](data:image/png;base64,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)\n",
        "\n",
        " Lasso regression cost function"
      ],
      "metadata": {
        "id": "R9gpZaexBcio"
      }
    },
    {
      "cell_type": "markdown",
      "source": [
        "An important characteristic of Lasso Regression is that it tends to completely eliminate the weights of the least important features (i.e., set them to zero). For example,\n",
        "the dashed line in the right plot on (with α = 10-7) looks quadratic, almost\n",
        "linear: all the weights for the high-degree polynomial features are equal to zero. In\n",
        "other words, Lasso Regression automatically performs feature selection and outputs a\n",
        "sparse model (i.e., with few nonzero feature weights)."
      ],
      "metadata": {
        "id": "FIeFz2FqBvgn"
      }
    },
    {
      "cell_type": "markdown",
      "source": [
        "The gradient get smaller as the parameters approach the gloabal optimum,so gradietn descent naturally slows don. This limits the bouncing around,which helps ridge  converges faster than lasso regression.\n",
        "\n"
      ],
      "metadata": {
        "id": "uv-Eb79kB57N"
      }
    },
    {
      "cell_type": "code",
      "source": [
        "from sklearn.linear_model import Lasso\n",
        "lasso_reg=Lasso(alpha=0.1)\n",
        "lasso_reg.fit(x,y)\n",
        "lasso_reg.predict([[1.5]])"
      ],
      "metadata": {
        "colab": {
          "base_uri": "https://localhost:8080/"
        },
        "id": "eSeXAqJAChSB",
        "outputId": "eb5a2615-aa2a-4431-c8ef-a87a90f79239"
      },
      "execution_count": 98,
      "outputs": [
        {
          "output_type": "execute_result",
          "data": {
            "text/plain": [
              "array([4.77621741])"
            ]
          },
          "metadata": {},
          "execution_count": 98
        }
      ]
    },
    {
      "cell_type": "markdown",
      "source": [
        "iii. Elastic Net Regression"
      ],
      "metadata": {
        "id": "yeaHmwMoDcMK"
      }
    },
    {
      "cell_type": "markdown",
      "source": [
        "It is a middle ground between ridge regression and lasso regression. The regularization term is aweighted sum of both ridge and lasso's regularization terms, and you can control the mix ration r.When r=0, elastic net is equivalent to ridge regression and when r=1, it is equivalent to lasso regression.\n",
        "\n",
        "![image.png](data:image/png;base64,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)\n",
        "\n",
        "Elastic net cost function"
      ],
      "metadata": {
        "id": "eyq3a7X1Dk6q"
      }
    },
    {
      "cell_type": "markdown",
      "source": [
        "So when should you use plain Linear Regression (i.e., without any regularization),\n",
        "Ridge, Lasso, or Elastic Net? It is almost always preferable to have at least a little bit of\n",
        "regularization, so generally you should avoid plain Linear Regression. Ridge is a good\n",
        "default, but if you suspect that only a few features are actually useful, you should prefer Lasso or Elastic Net since they tend to reduce the useless features weights down to\n",
        "zero as we have discussed. In general, Elastic Net is preferred over Lasso since Lasso\n",
        "may behave erratically when the number of features is greater than the number of\n",
        "training instances or when several features are strongly correlated.\n"
      ],
      "metadata": {
        "id": "zXvILHZ2EhKT"
      }
    },
    {
      "cell_type": "code",
      "source": [
        "from sklearn.linear_model import ElasticNet\n",
        "elastic_net=ElasticNet(alpha=0.1,l1_ratio=0.5)\n",
        "elastic_net.fit(x,y)\n",
        "elastic_net.predict([[1.5]])"
      ],
      "metadata": {
        "colab": {
          "base_uri": "https://localhost:8080/"
        },
        "id": "X9UobN13Eu_I",
        "outputId": "cbef877e-8be4-48ff-e2d9-3be4c27c8c64"
      },
      "execution_count": 99,
      "outputs": [
        {
          "output_type": "execute_result",
          "data": {
            "text/plain": [
              "array([4.78114505])"
            ]
          },
          "metadata": {},
          "execution_count": 99
        }
      ]
    },
    {
      "cell_type": "markdown",
      "source": [
        "**Early Stopping**"
      ],
      "metadata": {
        "id": "Ykc_uV3fEtuM"
      }
    },
    {
      "cell_type": "markdown",
      "source": [
        "A very different way to regularize iterative learning algorithms such as Gradient\n",
        "Descent is to stop training as soon as the validation error reaches a minimum. This is\n",
        "called early stopping.\n",
        "\n",
        "As the\n",
        "epochs go by, the algorithm learns and its prediction error (RMSE) on the training set\n",
        "naturally goes down, and so does its prediction error on the validation set. However after a while the validation error stops decreasing and actually starts to go back up.\n",
        "This indicates that the model has started to overfit the training data. With early stopping you just stop training as soon as the validation error reaches the minimum. It is\n",
        "such a simple and efficient regularization technique that Geoffrey Hinton called it a\n",
        "“beautiful free lunch.”\n"
      ],
      "metadata": {
        "id": "ekbGCNHUFTRw"
      }
    },
    {
      "cell_type": "markdown",
      "source": [
        "#**2.Logistic Regression**"
      ],
      "metadata": {
        "id": "cJxDTJBLawOa"
      }
    },
    {
      "cell_type": "markdown",
      "source": [
        "Logistic Regression (also called Logit Regression) is commonly used to estimate the probability that an instance belongs to a particular class\n",
        "(e.g., what is the probability that this email is spam?). If the estimated probability is\n",
        "greater than 50%, then the model predicts that the instance belongs to that class\n",
        "(called the positive class, labeled “1”), or else it predicts that it does not (i.e., it\n",
        "belongs to the negative class, labeled “0”). This makes it a binary classifier.\n",
        "\n",
        " Just like a Linear Regression model, a Logistic Regression\n",
        "model computes a weighted sum of the input features (plus a bias term), but instead\n",
        "of outputting the result directly like the Linear Regression model does, it outputs the\n",
        "logistic of this result.\n",
        "\n",
        "![image.png](data:image/png;base64,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)\n",
        "\n",
        "Logistic function"
      ],
      "metadata": {
        "id": "tH682BvicEV8"
      }
    },
    {
      "cell_type": "markdown",
      "source": [
        "The objective of training is to set the parameter vector θ so that the model estimates high probabilities for positive instances (y =\n",
        "1) and low probabilities for negative instances (y = 0). This idea is captured by the\n",
        "cost function.\n",
        "\n",
        "![image.png](data:image/png;base64,iVBORw0KGgoAAAANSUhEUgAAALwAAAA6CAYAAAAKoDNuAAAAAXNSR0IArs4c6QAAAARnQU1BAACxjwv8YQUAAAAJcEhZcwAADsMAAA7DAcdvqGQAAA7ESURBVHhe7Z0JVBRXFoZ/gWYTFVxxAeM2owJRVLIgmCDRCDGCcZAQjTGi0ZnoaNQoMCrRkURMIDHLqHFGTQSMUaLGiZqZjAZFRIgLBKJxAdlXbQRUlu6+U1X9ENnC0kVjuus7p07XfVXddHX99eq++25dOhEHJCT0BAP2KiGhF0iCl9ArJMFL6BWS4CX0CknwEnqFTgm+qqoK8+fPR2lpKWt5tKisrMSBAweYVcv333+PNWvWQC6XC3ZsbCzS09OFdQlx0SnBh4eHY9SoUejatStr0RzVvQJcPvMtDsRkQMna2sq7776LESNGMEtNdHS0cIEGBQVhw4YNKCgogJOTEwIDA9HuEWNFPuKjPsaHEfEoVLE2HUenBH/69GnMnTuXWeJw72Yc/rl6LlbtvwEFa2sLGRkZuHr1Kuzs7FgLcOfOHVhaWsLHxwfm5ubCBREfHw8TExM4OzsjIiKC7ak5ZZe+wqfRv6CC2ahIwra123HV2BxFPxxEbJE2FK9EydUfcSwhHx12ffETT7rC+PHj2ZqYVFLc23Y09M3/UQVraQubNm2iqKgoZjVPXl4ePffcc8zSFAXd2PUauS36mnKVvK2km5960Pi1F6ha2K4FlHl0ettych9gTPZBidr7u/XQqR5eqVRCpRK/7+jEXjXh2LFjcHV1ZVYNKuQfD8bfIrMa9HjW1tbIzc1FeXk5a9EEQwyeuxsntvqgr3DGq5CUmAzDbpaiHFuLMLCGy8IQLHbr3qFuhU4J3tDQEPfv32dWO6EqxJlPV2LZuo0IXuKHmUu/xM9Mk+U/bcPiRYHYFLIUr7w4DS9N90Pw0QLBdcnOzsaAAQPUOwooUZiwG6tXfI6TP3yERV5OsHd9C4dza6XP+/InTpxgVttR3TqNcP/nMMZnK7JUSmQd3YLd8cW4eXwzAoKjkFLPV1PlfIuVzzjhz0fKeAsZ27zxdECseqOGGBh2rOR0SvBGRkaorq5mVnugRPqOeZh7wgEB76zB+i3heCHrbUxfeYwbACZi04JQVHoFI+BvIZjZ/SJu2q/EWs8+SEtLw8CBA9lnMJQZuHGrBGV3nfGXD8PwefRO+NzfgY+/yWc7AMOGDRP8fk0x6OGK113MkV5cCeJ6exvPJZgx0gyDXwhE6PpXYG/EdhRQIPVCJRzHVSPmZBJ3LzCAuQFB1sWKbWdUnkaorze8vLzqLTMQfKyE7fTooVOC79Spk+DWtJxKnA71hXeDk+aFGcGciOujysbhvTHo4fQUevG/nEFfvOg5DnnfRnM6KUBuoQqGRryTYIxePS1QJi8VIjt3794VBqV1MByMsT0Kkd5vDMZ04WyD7ujeVQZTM5l6Owf/nnv37jFLM0zMTTmptwQjOLzog6mPD4Q8JxcKVR6OJ9liyfy60SWYuGL1vkM4fPhwvSUa6z0s2U6PHjon+Nb58CZwXb0PhxqctMOIXu/B9nkIVSnulCtRwblNNQFD064WnLw5y9QNi94agfiwjfjqm634PGkMApa4cn9BHX83NjZWv+EBKhT/dBGl9mMxhFOiqvgkYjJd4D25B9vOfTsTE+G9HYGpjQ26yguRf/ZLpDotx0t96klFkYzI4CAhfFp3WYud58QYd7QPei74lsEN7rnP5URt9AdMnGCLtJM/IE24kSiRcS0TnZ95nlPsHZQrrOE8xQ2P2U7BB99Fwv+Pal+B76kbji2q8FPir/jjWEfIUILYsD1QrdyM121qTwn/HjMzM2ZpCH8M3FJzofJrKmr6tzLq1w+9ik7hw6O9Me/VQQ3vDga2cPHxg59f/cUXbsOa/s7EnR+VkluYrXXUwRrdwN3dnXJzc5klBkq6nbiL/MdYkJnDHNoeV0gkj6PNXmPJbcEH9K/tweQ/9x06zsf6FFdo24v9qWvf4eQ4dhw5ub5Ac4L2Uup9ouTkZJowYQL7TEb1RVo7ypwGTl5C64KDKGRvKpWzTTWsX7+ewsPDmdV2FJn/o/enDyZZHzda9U0KXfvve+T1mIx6TVhK/4zN446yEQq30ZR+k+nTKyIFEJU5dGpHIHkOlJGZnS9tiEpkG7SLTgmej1tnZ2czq32plmdTel75Q2Ipp+SdK2hZ+BE6d+kinf1uC80cakV/2ltOnFtCtra2XOfG9bEMZcHn5GnrR19ezyG5gjXWY8aMGRQTE8MsbaKkzK+X09Iv0qmJr/a7pf1dGtVdZJ77Fnv3x+BGO7t27eXSNIaRZX88Zt35gU9YFf93zP5YBr8lU/HEqNF4ytMfL7vYYZCtTPDfHR0dkZqayvYGqs8n4JchT2DCoH6wbGI0mZKSIsy4ahcVCr4PwvJT47F69mMtHOj+fhBd8HyUJCQkRG0ormDHn+zgHp4BSloH16cX498saSM0NFSkSZVatCn4+hjZjMJI+R68veITfHXwAHa+vx6xo99D4FPqwaqnp6eQ+iBQlYNDUf/BbdxDXt5ddVs9rl27BgcHByHUqj3K8fMuf3iHmuCtd19ik1Q6BuvpRYMbqRPXk3FrSsr7Yjp1l9lTUCLnB8ojaHpXGY1YFU+V3NacnBxasGCB8B6xeP755yktLY1Z2kdReImO7N5KW3cfpLj0uh55SUkJTZ06lVtTUkHCQYrcu58OHjlOsb/KG/WhAwICtO/OlCbT8cNxlFbaqFevE4gq+IyMjIcGZ8W0a1oXMrCcSfv4c1+dQIH2MpKNWkMX2DiI91HPnDmjNkTAw8ODuJ6RWY8eu3btoqNHjzKrafLz8+nNN99kloSYtPmmpZL/hMj3g7F4yggMn39QaNuzZw84EQvrqPoVKVfuo5MZUJJyHucv5aOCuzsr0q/iapV6F19fX+E9YsG7NAYGj+59mM/k7NWrF7Oapri4GJs3b2aWhJi0rUxHxXmEzvoH+n20A6/2zkFqemfYDe8u5KIfOXIEtra2QOV/sWiYB3aU2WPaDCf07HQPl4/uw5lbHthZdASvd4Ewizh06FAhSaou/AzoHITFVTyIG9dgNHpR45NCHBMnThQmjbp04acuJSQaQejnW4WSMrdPpZHzv2sQN+Z6L1IoWCCrMp5WjTAiw/7z6SifV6u4Qu89JSOD7rMo+r56F57evXtTVVUVs9oO7xpNmzaNWRISjdOG+38Zfjweh76jHVF/Po1P3OIzFgWM/wD74Z1B8jzk8sEY5W3cKiEYDX8c9rXpIsJMYsN8EQWSI4MR1GDaOhBrd55j+9SFGwCL/vCHhO7ResGr7qOsrArlpXcEd6P8lx9wSj3PLsSba7MVu2GK7xT0qr6Es/F3OZ8/BanZ5nDxnSHkjtTAi71z587MqsEAti4+jUxb+8HXbRjbpy5cD4/PPvuMWRISTcB6+lagoF8+mkg9ejiQh+/rtGr3RSplW8aNG0fXr19nFofiJn39xmiyGfsqvTXTicbO2U1X+Jgko7S0lGxsbJilOZMmTaKioiJmSUg0pI1hyUq6nZ1LJfXmncPCwig0NJRZNSipLO8G3cgrazBNHRERQcuWLWOW5nh6eta94LSEUqmkEydOMKv94HNyNm7cSNxdUbAvXrxIhYWFwrpEy2hjDM8YVv37olu9eedZs2bh4EF1iLIWA1hYD8Zga4sG09T79+/Ha6+9xizN6ahZVu5Ch4WFBbPah3PnzglPPy1cuFCocFBWVoYhQ4ZgxYoVbA+JliBq0LpPnz7w9vYWTk5zcD2x8ETP6NGjWYvmcBdwi+PwYpXf4EOqiYmJwuN47QWfgsGnGixduhQ9e/bEunXrhI6FD7/yVRD4Uh9tQirToTmrVq1CQkICs5qGLz70IOdGJFojeLHKb0RGRgoXeR2UJbj64zEk5IujIv7uMXv2bGYBVlZWmDNnjrDOv27fvl1Y/y0ehTIdioIE7PvkA3z0ZQwyHnwRLSM4NjoCP2jNzMxkVnOIU37j2WefFVIqalDmnaZty91pgDHLIdICI0eOJO4uwKzG6PgyHcqCQ/TGk14UdiGTkv8xnRyn/4tudEDuseg9fEfCHU+rUgs0LVHBVwzLyspSzywzDKxdsDBkMdy6i/nTNl3Og4d3p06ePMmsxujoMh0KpG4LwX8cFuIvjjZwmPdXuKRsxidxLMdEi+i14OvQhvIbly9fFsYhDTGAeNUomi/nwfvxycnJzGpIh5fp4H7bU6euYJC9PYRkaZPH4TAkB2djtV8/UxK8QNvKbzRajUBsWlDOo7nqBh1epkOVi9wCgoWlJROcKbp1k+FWfu0xaAudE7w6tUE75TcqKipgamrKf0IraOV3a0E5Dz49o7kCVB1bpkMGIxlBUV17K1EquIvIhK/poF10tIfXTvkNXuytL6PRyu/GuRTNlfNo24X324hapsNoAGz7GaEwJ1sdEVMVo/AWYcCgesWptICOCr5l8PtrUn6DzwFq3JXgP1cFpSgTYc2X82g8H6ke/LFyS80Frd0yHVaYNPVp5J45BWHoURKHsxlPYNqU3urN2oQ76TqDs7Pzg2n330ac8htyuZyGDh3KPlONMucU7Qj0pIEyM7Lz3UBRibfZljbSgnIe8+bNo0OHDjGrIY9EmY6Kn2mrzzPkHfA+vfPKJPL5JIkeyhLXGjol+CeffLJOKYy20JryGzz8I41ZWVnCenvQknIeDg4OVFZWxiwxaK8yHZUkz7xOGbcfyiDUMjrl0shkMuExP01oTfkNHg8PD+Ff1LQXzZXzKCoqElI6xMvlac8yHcawtBkCW6v6ZQe1h04Jnp9yLywsZJY4NFd+g0+Y49wJYV10WlDOg09t8Pf3Z5am6H6ZDp06JHd3d2zZskUYjIqFQX8/RCR+h7fHcEPGUiOM8AlG2FIXWLFfzsbGBvb29khKSlI3iIYKhUmJUL4Qhi+Wj4XybnWDWVZ+sHr+/Hm8/PLLrEVDytKR2+MNRB0OhrOOPhbctoe4H1H4yAj/3/D49Nn2Ttd9GIVCIaTuTp48mbVohwsXLqBv377CItEydErwEhLNoYNemoRE00iCl9ArJMFL6BWS4CX0CknwEnqFJHgJvUISvIReIQleQq+QBC+hV0iCl9ArJMFL6BWS4CX0COD/T0FfHqY7Ji4AAAAASUVORK5CYII=)\n",
        "\n",
        "Cost function of as single training instance.\n",
        "\n"
      ],
      "metadata": {
        "id": "0yaP9gB_eF58"
      }
    },
    {
      "cell_type": "markdown",
      "source": [
        "Let’s use the iris dataset to illustrate Logistic Regression. This is a famous dataset that\n",
        "contains the sepal and petal length and width of 150 iris flowers of three different\n",
        "species: Iris-Setosa, Iris-Versicolor, and Iris-Virginica."
      ],
      "metadata": {
        "id": "OoZuqcyIf2Lf"
      }
    },
    {
      "cell_type": "code",
      "source": [
        "from sklearn.datasets import load_iris\n",
        "iris=load_iris(as_frame=True)\n",
        "list(iris)"
      ],
      "metadata": {
        "colab": {
          "base_uri": "https://localhost:8080/"
        },
        "id": "dXntBrlrf_bv",
        "outputId": "f4cff81e-5411-4f16-af29-dc6c8fda868a"
      },
      "execution_count": 100,
      "outputs": [
        {
          "output_type": "execute_result",
          "data": {
            "text/plain": [
              "['data',\n",
              " 'target',\n",
              " 'frame',\n",
              " 'target_names',\n",
              " 'DESCR',\n",
              " 'feature_names',\n",
              " 'filename',\n",
              " 'data_module']"
            ]
          },
          "metadata": {},
          "execution_count": 100
        }
      ]
    },
    {
      "cell_type": "code",
      "source": [
        "iris.data.head()"
      ],
      "metadata": {
        "colab": {
          "base_uri": "https://localhost:8080/",
          "height": 206
        },
        "id": "d4rwddDRgS9a",
        "outputId": "6391c8a7-871d-44dc-ddbf-3e257db6e995"
      },
      "execution_count": 101,
      "outputs": [
        {
          "output_type": "execute_result",
          "data": {
            "text/plain": [
              "   sepal length (cm)  sepal width (cm)  petal length (cm)  petal width (cm)\n",
              "0                5.1               3.5                1.4               0.2\n",
              "1                4.9               3.0                1.4               0.2\n",
              "2                4.7               3.2                1.3               0.2\n",
              "3                4.6               3.1                1.5               0.2\n",
              "4                5.0               3.6                1.4               0.2"
            ],
            "text/html": [
              "\n",
              "  <div id=\"df-36982174-c16b-45d7-86ec-ec327d5fa536\" class=\"colab-df-container\">\n",
              "    <div>\n",
              "<style scoped>\n",
              "    .dataframe tbody tr th:only-of-type {\n",
              "        vertical-align: middle;\n",
              "    }\n",
              "\n",
              "    .dataframe tbody tr th {\n",
              "        vertical-align: top;\n",
              "    }\n",
              "\n",
              "    .dataframe thead th {\n",
              "        text-align: right;\n",
              "    }\n",
              "</style>\n",
              "<table border=\"1\" class=\"dataframe\">\n",
              "  <thead>\n",
              "    <tr style=\"text-align: right;\">\n",
              "      <th></th>\n",
              "      <th>sepal length (cm)</th>\n",
              "      <th>sepal width (cm)</th>\n",
              "      <th>petal length (cm)</th>\n",
              "      <th>petal width (cm)</th>\n",
              "    </tr>\n",
              "  </thead>\n",
              "  <tbody>\n",
              "    <tr>\n",
              "      <th>0</th>\n",
              "      <td>5.1</td>\n",
              "      <td>3.5</td>\n",
              "      <td>1.4</td>\n",
              "      <td>0.2</td>\n",
              "    </tr>\n",
              "    <tr>\n",
              "      <th>1</th>\n",
              "      <td>4.9</td>\n",
              "      <td>3.0</td>\n",
              "      <td>1.4</td>\n",
              "      <td>0.2</td>\n",
              "    </tr>\n",
              "    <tr>\n",
              "      <th>2</th>\n",
              "      <td>4.7</td>\n",
              "      <td>3.2</td>\n",
              "      <td>1.3</td>\n",
              "      <td>0.2</td>\n",
              "    </tr>\n",
              "    <tr>\n",
              "      <th>3</th>\n",
              "      <td>4.6</td>\n",
              "      <td>3.1</td>\n",
              "      <td>1.5</td>\n",
              "      <td>0.2</td>\n",
              "    </tr>\n",
              "    <tr>\n",
              "      <th>4</th>\n",
              "      <td>5.0</td>\n",
              "      <td>3.6</td>\n",
              "      <td>1.4</td>\n",
              "      <td>0.2</td>\n",
              "    </tr>\n",
              "  </tbody>\n",
              "</table>\n",
              "</div>\n",
              "    <div class=\"colab-df-buttons\">\n",
              "\n",
              "  <div class=\"colab-df-container\">\n",
              "    <button class=\"colab-df-convert\" onclick=\"convertToInteractive('df-36982174-c16b-45d7-86ec-ec327d5fa536')\"\n",
              "            title=\"Convert this dataframe to an interactive table.\"\n",
              "            style=\"display:none;\">\n",
              "\n",
              "  <svg xmlns=\"http://www.w3.org/2000/svg\" height=\"24px\" viewBox=\"0 -960 960 960\">\n",
              "    <path d=\"M120-120v-720h720v720H120Zm60-500h600v-160H180v160Zm220 220h160v-160H400v160Zm0 220h160v-160H400v160ZM180-400h160v-160H180v160Zm440 0h160v-160H620v160ZM180-180h160v-160H180v160Zm440 0h160v-160H620v160Z\"/>\n",
              "  </svg>\n",
              "    </button>\n",
              "\n",
              "  <style>\n",
              "    .colab-df-container {\n",
              "      display:flex;\n",
              "      gap: 12px;\n",
              "    }\n",
              "\n",
              "    .colab-df-convert {\n",
              "      background-color: #E8F0FE;\n",
              "      border: none;\n",
              "      border-radius: 50%;\n",
              "      cursor: pointer;\n",
              "      display: none;\n",
              "      fill: #1967D2;\n",
              "      height: 32px;\n",
              "      padding: 0 0 0 0;\n",
              "      width: 32px;\n",
              "    }\n",
              "\n",
              "    .colab-df-convert:hover {\n",
              "      background-color: #E2EBFA;\n",
              "      box-shadow: 0px 1px 2px rgba(60, 64, 67, 0.3), 0px 1px 3px 1px rgba(60, 64, 67, 0.15);\n",
              "      fill: #174EA6;\n",
              "    }\n",
              "\n",
              "    .colab-df-buttons div {\n",
              "      margin-bottom: 4px;\n",
              "    }\n",
              "\n",
              "    [theme=dark] .colab-df-convert {\n",
              "      background-color: #3B4455;\n",
              "      fill: #D2E3FC;\n",
              "    }\n",
              "\n",
              "    [theme=dark] .colab-df-convert:hover {\n",
              "      background-color: #434B5C;\n",
              "      box-shadow: 0px 1px 3px 1px rgba(0, 0, 0, 0.15);\n",
              "      filter: drop-shadow(0px 1px 2px rgba(0, 0, 0, 0.3));\n",
              "      fill: #FFFFFF;\n",
              "    }\n",
              "  </style>\n",
              "\n",
              "    <script>\n",
              "      const buttonEl =\n",
              "        document.querySelector('#df-36982174-c16b-45d7-86ec-ec327d5fa536 button.colab-df-convert');\n",
              "      buttonEl.style.display =\n",
              "        google.colab.kernel.accessAllowed ? 'block' : 'none';\n",
              "\n",
              "      async function convertToInteractive(key) {\n",
              "        const element = document.querySelector('#df-36982174-c16b-45d7-86ec-ec327d5fa536');\n",
              "        const dataTable =\n",
              "          await google.colab.kernel.invokeFunction('convertToInteractive',\n",
              "                                                    [key], {});\n",
              "        if (!dataTable) return;\n",
              "\n",
              "        const docLinkHtml = 'Like what you see? Visit the ' +\n",
              "          '<a target=\"_blank\" href=https://colab.research.google.com/notebooks/data_table.ipynb>data table notebook</a>'\n",
              "          + ' to learn more about interactive tables.';\n",
              "        element.innerHTML = '';\n",
              "        dataTable['output_type'] = 'display_data';\n",
              "        await google.colab.output.renderOutput(dataTable, element);\n",
              "        const docLink = document.createElement('div');\n",
              "        docLink.innerHTML = docLinkHtml;\n",
              "        element.appendChild(docLink);\n",
              "      }\n",
              "    </script>\n",
              "  </div>\n",
              "\n",
              "\n",
              "<div id=\"df-c9988632-c5b2-47e7-8d82-e2aa85397500\">\n",
              "  <button class=\"colab-df-quickchart\" onclick=\"quickchart('df-c9988632-c5b2-47e7-8d82-e2aa85397500')\"\n",
              "            title=\"Suggest charts.\"\n",
              "            style=\"display:none;\">\n",
              "\n",
              "<svg xmlns=\"http://www.w3.org/2000/svg\" height=\"24px\"viewBox=\"0 0 24 24\"\n",
              "     width=\"24px\">\n",
              "    <g>\n",
              "        <path d=\"M19 3H5c-1.1 0-2 .9-2 2v14c0 1.1.9 2 2 2h14c1.1 0 2-.9 2-2V5c0-1.1-.9-2-2-2zM9 17H7v-7h2v7zm4 0h-2V7h2v10zm4 0h-2v-4h2v4z\"/>\n",
              "    </g>\n",
              "</svg>\n",
              "  </button>\n",
              "\n",
              "<style>\n",
              "  .colab-df-quickchart {\n",
              "      --bg-color: #E8F0FE;\n",
              "      --fill-color: #1967D2;\n",
              "      --hover-bg-color: #E2EBFA;\n",
              "      --hover-fill-color: #174EA6;\n",
              "      --disabled-fill-color: #AAA;\n",
              "      --disabled-bg-color: #DDD;\n",
              "  }\n",
              "\n",
              "  [theme=dark] .colab-df-quickchart {\n",
              "      --bg-color: #3B4455;\n",
              "      --fill-color: #D2E3FC;\n",
              "      --hover-bg-color: #434B5C;\n",
              "      --hover-fill-color: #FFFFFF;\n",
              "      --disabled-bg-color: #3B4455;\n",
              "      --disabled-fill-color: #666;\n",
              "  }\n",
              "\n",
              "  .colab-df-quickchart {\n",
              "    background-color: var(--bg-color);\n",
              "    border: none;\n",
              "    border-radius: 50%;\n",
              "    cursor: pointer;\n",
              "    display: none;\n",
              "    fill: var(--fill-color);\n",
              "    height: 32px;\n",
              "    padding: 0;\n",
              "    width: 32px;\n",
              "  }\n",
              "\n",
              "  .colab-df-quickchart:hover {\n",
              "    background-color: var(--hover-bg-color);\n",
              "    box-shadow: 0 1px 2px rgba(60, 64, 67, 0.3), 0 1px 3px 1px rgba(60, 64, 67, 0.15);\n",
              "    fill: var(--button-hover-fill-color);\n",
              "  }\n",
              "\n",
              "  .colab-df-quickchart-complete:disabled,\n",
              "  .colab-df-quickchart-complete:disabled:hover {\n",
              "    background-color: var(--disabled-bg-color);\n",
              "    fill: var(--disabled-fill-color);\n",
              "    box-shadow: none;\n",
              "  }\n",
              "\n",
              "  .colab-df-spinner {\n",
              "    border: 2px solid var(--fill-color);\n",
              "    border-color: transparent;\n",
              "    border-bottom-color: var(--fill-color);\n",
              "    animation:\n",
              "      spin 1s steps(1) infinite;\n",
              "  }\n",
              "\n",
              "  @keyframes spin {\n",
              "    0% {\n",
              "      border-color: transparent;\n",
              "      border-bottom-color: var(--fill-color);\n",
              "      border-left-color: var(--fill-color);\n",
              "    }\n",
              "    20% {\n",
              "      border-color: transparent;\n",
              "      border-left-color: var(--fill-color);\n",
              "      border-top-color: var(--fill-color);\n",
              "    }\n",
              "    30% {\n",
              "      border-color: transparent;\n",
              "      border-left-color: var(--fill-color);\n",
              "      border-top-color: var(--fill-color);\n",
              "      border-right-color: var(--fill-color);\n",
              "    }\n",
              "    40% {\n",
              "      border-color: transparent;\n",
              "      border-right-color: var(--fill-color);\n",
              "      border-top-color: var(--fill-color);\n",
              "    }\n",
              "    60% {\n",
              "      border-color: transparent;\n",
              "      border-right-color: var(--fill-color);\n",
              "    }\n",
              "    80% {\n",
              "      border-color: transparent;\n",
              "      border-right-color: var(--fill-color);\n",
              "      border-bottom-color: var(--fill-color);\n",
              "    }\n",
              "    90% {\n",
              "      border-color: transparent;\n",
              "      border-bottom-color: var(--fill-color);\n",
              "    }\n",
              "  }\n",
              "</style>\n",
              "\n",
              "  <script>\n",
              "    async function quickchart(key) {\n",
              "      const quickchartButtonEl =\n",
              "        document.querySelector('#' + key + ' button');\n",
              "      quickchartButtonEl.disabled = true;  // To prevent multiple clicks.\n",
              "      quickchartButtonEl.classList.add('colab-df-spinner');\n",
              "      try {\n",
              "        const charts = await google.colab.kernel.invokeFunction(\n",
              "            'suggestCharts', [key], {});\n",
              "      } catch (error) {\n",
              "        console.error('Error during call to suggestCharts:', error);\n",
              "      }\n",
              "      quickchartButtonEl.classList.remove('colab-df-spinner');\n",
              "      quickchartButtonEl.classList.add('colab-df-quickchart-complete');\n",
              "    }\n",
              "    (() => {\n",
              "      let quickchartButtonEl =\n",
              "        document.querySelector('#df-c9988632-c5b2-47e7-8d82-e2aa85397500 button');\n",
              "      quickchartButtonEl.style.display =\n",
              "        google.colab.kernel.accessAllowed ? 'block' : 'none';\n",
              "    })();\n",
              "  </script>\n",
              "</div>\n",
              "    </div>\n",
              "  </div>\n"
            ]
          },
          "metadata": {},
          "execution_count": 101
        }
      ]
    },
    {
      "cell_type": "code",
      "source": [
        "iris.target.head()"
      ],
      "metadata": {
        "colab": {
          "base_uri": "https://localhost:8080/"
        },
        "id": "LO25kQMNgY6s",
        "outputId": "cd805cb5-9786-4da0-b141-9ac457db2380"
      },
      "execution_count": 102,
      "outputs": [
        {
          "output_type": "execute_result",
          "data": {
            "text/plain": [
              "0    0\n",
              "1    0\n",
              "2    0\n",
              "3    0\n",
              "4    0\n",
              "Name: target, dtype: int64"
            ]
          },
          "metadata": {},
          "execution_count": 102
        }
      ]
    },
    {
      "cell_type": "code",
      "source": [
        "iris.target_names"
      ],
      "metadata": {
        "colab": {
          "base_uri": "https://localhost:8080/"
        },
        "id": "TS6xUWKTgdex",
        "outputId": "370f055f-da8e-4ed7-d4e6-972f702173d1"
      },
      "execution_count": 103,
      "outputs": [
        {
          "output_type": "execute_result",
          "data": {
            "text/plain": [
              "array(['setosa', 'versicolor', 'virginica'], dtype='<U10')"
            ]
          },
          "metadata": {},
          "execution_count": 103
        }
      ]
    },
    {
      "cell_type": "code",
      "source": [
        "from sklearn.linear_model import LogisticRegression\n",
        "from sklearn.model_selection import train_test_split\n",
        "\n",
        "x=iris.data[['petal width (cm)']].values\n",
        "y=iris.target_names[iris.target]=='virginica'\n",
        "x_train,x_test,y_train,y_test= train_test_split(x,y,random_state=42)\n",
        "\n",
        "log_reg=LogisticRegression(random_state=42)\n",
        "log_reg.fit(x_train,y_train)"
      ],
      "metadata": {
        "colab": {
          "base_uri": "https://localhost:8080/",
          "height": 74
        },
        "id": "kTkvad5BgkTw",
        "outputId": "385682e0-8e42-4cf6-b260-046541f79149"
      },
      "execution_count": 104,
      "outputs": [
        {
          "output_type": "execute_result",
          "data": {
            "text/plain": [
              "LogisticRegression(random_state=42)"
            ],
            "text/html": [
              "<style>#sk-container-id-20 {color: black;background-color: white;}#sk-container-id-20 pre{padding: 0;}#sk-container-id-20 div.sk-toggleable {background-color: white;}#sk-container-id-20 label.sk-toggleable__label {cursor: pointer;display: block;width: 100%;margin-bottom: 0;padding: 0.3em;box-sizing: border-box;text-align: center;}#sk-container-id-20 label.sk-toggleable__label-arrow:before {content: \"▸\";float: left;margin-right: 0.25em;color: #696969;}#sk-container-id-20 label.sk-toggleable__label-arrow:hover:before {color: black;}#sk-container-id-20 div.sk-estimator:hover label.sk-toggleable__label-arrow:before {color: black;}#sk-container-id-20 div.sk-toggleable__content {max-height: 0;max-width: 0;overflow: hidden;text-align: left;background-color: #f0f8ff;}#sk-container-id-20 div.sk-toggleable__content pre {margin: 0.2em;color: black;border-radius: 0.25em;background-color: #f0f8ff;}#sk-container-id-20 input.sk-toggleable__control:checked~div.sk-toggleable__content {max-height: 200px;max-width: 100%;overflow: auto;}#sk-container-id-20 input.sk-toggleable__control:checked~label.sk-toggleable__label-arrow:before {content: \"▾\";}#sk-container-id-20 div.sk-estimator input.sk-toggleable__control:checked~label.sk-toggleable__label {background-color: #d4ebff;}#sk-container-id-20 div.sk-label input.sk-toggleable__control:checked~label.sk-toggleable__label {background-color: #d4ebff;}#sk-container-id-20 input.sk-hidden--visually {border: 0;clip: rect(1px 1px 1px 1px);clip: rect(1px, 1px, 1px, 1px);height: 1px;margin: -1px;overflow: hidden;padding: 0;position: absolute;width: 1px;}#sk-container-id-20 div.sk-estimator {font-family: monospace;background-color: #f0f8ff;border: 1px dotted black;border-radius: 0.25em;box-sizing: border-box;margin-bottom: 0.5em;}#sk-container-id-20 div.sk-estimator:hover {background-color: #d4ebff;}#sk-container-id-20 div.sk-parallel-item::after {content: \"\";width: 100%;border-bottom: 1px solid gray;flex-grow: 1;}#sk-container-id-20 div.sk-label:hover label.sk-toggleable__label {background-color: #d4ebff;}#sk-container-id-20 div.sk-serial::before {content: \"\";position: absolute;border-left: 1px solid gray;box-sizing: border-box;top: 0;bottom: 0;left: 50%;z-index: 0;}#sk-container-id-20 div.sk-serial {display: flex;flex-direction: column;align-items: center;background-color: white;padding-right: 0.2em;padding-left: 0.2em;position: relative;}#sk-container-id-20 div.sk-item {position: relative;z-index: 1;}#sk-container-id-20 div.sk-parallel {display: flex;align-items: stretch;justify-content: center;background-color: white;position: relative;}#sk-container-id-20 div.sk-item::before, #sk-container-id-20 div.sk-parallel-item::before {content: \"\";position: absolute;border-left: 1px solid gray;box-sizing: border-box;top: 0;bottom: 0;left: 50%;z-index: -1;}#sk-container-id-20 div.sk-parallel-item {display: flex;flex-direction: column;z-index: 1;position: relative;background-color: white;}#sk-container-id-20 div.sk-parallel-item:first-child::after {align-self: flex-end;width: 50%;}#sk-container-id-20 div.sk-parallel-item:last-child::after {align-self: flex-start;width: 50%;}#sk-container-id-20 div.sk-parallel-item:only-child::after {width: 0;}#sk-container-id-20 div.sk-dashed-wrapped {border: 1px dashed gray;margin: 0 0.4em 0.5em 0.4em;box-sizing: border-box;padding-bottom: 0.4em;background-color: white;}#sk-container-id-20 div.sk-label label {font-family: monospace;font-weight: bold;display: inline-block;line-height: 1.2em;}#sk-container-id-20 div.sk-label-container {text-align: center;}#sk-container-id-20 div.sk-container {/* jupyter's `normalize.less` sets `[hidden] { display: none; }` but bootstrap.min.css set `[hidden] { display: none !important; }` so we also need the `!important` here to be able to override the default hidden behavior on the sphinx rendered scikit-learn.org. See: https://github.com/scikit-learn/scikit-learn/issues/21755 */display: inline-block !important;position: relative;}#sk-container-id-20 div.sk-text-repr-fallback {display: none;}</style><div id=\"sk-container-id-20\" class=\"sk-top-container\"><div class=\"sk-text-repr-fallback\"><pre>LogisticRegression(random_state=42)</pre><b>In a Jupyter environment, please rerun this cell to show the HTML representation or trust the notebook. <br />On GitHub, the HTML representation is unable to render, please try loading this page with nbviewer.org.</b></div><div class=\"sk-container\" hidden><div class=\"sk-item\"><div class=\"sk-estimator sk-toggleable\"><input class=\"sk-toggleable__control sk-hidden--visually\" id=\"sk-estimator-id-36\" type=\"checkbox\" checked><label for=\"sk-estimator-id-36\" class=\"sk-toggleable__label sk-toggleable__label-arrow\">LogisticRegression</label><div class=\"sk-toggleable__content\"><pre>LogisticRegression(random_state=42)</pre></div></div></div></div></div>"
            ]
          },
          "metadata": {},
          "execution_count": 104
        }
      ]
    },
    {
      "cell_type": "code",
      "source": [
        "x_new=np.linspace(0,3,1000).reshape(-1,1)\n",
        "y_probab=log_reg.predict_proba(x_new)\n",
        "decision_boundary=x_new[y_probab[:,1]>=0.5][0,0]\n",
        "\n",
        "plt.plot(x_new,y_probab[:,0],\"b--\",linewidth=2,label='Not Iris Virginica Proba')\n",
        "plt.plot(x_new,y_probab[:,1],\"g-\",linewidth=2,label=\"Iris Virginica Proba\")\n",
        "plt.plot([decision_boundary,decision_boundary],[0,1],\"k:\",linewidth=2,label='Decision Boundary')\n",
        "plt.show()"
      ],
      "metadata": {
        "colab": {
          "base_uri": "https://localhost:8080/",
          "height": 430
        },
        "id": "R2W4hTesh6F0",
        "outputId": "e76b2092-7892-4fc7-99b4-5d710b7e9425"
      },
      "execution_count": 105,
      "outputs": [
        {
          "output_type": "display_data",
          "data": {
            "text/plain": [
              "<Figure size 640x480 with 1 Axes>"
            ],
            "image/png": "[encoded data removed]"
          },
          "metadata": {}
        }
      ]
    },
    {
      "cell_type": "markdown",
      "source": [
        "The petal width of Iris-Virginica flowers (represented by triangles) ranges from 1.4\n",
        "cm to 2.5 cm, while the other iris flowers (represented by squares) generally have a\n",
        "smaller petal width, ranging from 0.1 cm to 1.8 cm. Notice that there is a bit of overlap. Above about 2 cm the classifier is highly confident that the flower is an IrisVirginica (it outputs a high probability to that class), while below 1 cm it is highly\n",
        "confident that it is not an Iris-Virginica (high probability for the “Not Iris-Virginica”\n",
        "class). In between these extremes, the classifier is unsure. However, if you ask it to\n",
        "predict the class (using the predict() method rather than the predict_proba()\n",
        "method), it will return whichever class is the most likely. Therefore, there is a decision\n",
        "boundary at around 1.6 cm where both probabilities are equal to 50%: if the petal\n",
        "width is higher than 1.6 cm, the classifier will predict that the flower is an IrisVirginica, or else it will predict that it is not (even if it is not very confident):"
      ],
      "metadata": {
        "id": "gTZ30DgNjdbY"
      }
    },
    {
      "cell_type": "code",
      "source": [
        "decision_boundary"
      ],
      "metadata": {
        "colab": {
          "base_uri": "https://localhost:8080/"
        },
        "id": "gNU3ZEPtjj7n",
        "outputId": "ffc078d4-3859-492c-ae27-82e0984f1b6c"
      },
      "execution_count": 106,
      "outputs": [
        {
          "output_type": "execute_result",
          "data": {
            "text/plain": [
              "1.6516516516516517"
            ]
          },
          "metadata": {},
          "execution_count": 106
        }
      ]
    },
    {
      "cell_type": "code",
      "source": [
        "log_reg.predict([[1.7],[1.5]])"
      ],
      "metadata": {
        "colab": {
          "base_uri": "https://localhost:8080/"
        },
        "id": "dhSP_Lx8j3es",
        "outputId": "cf40ccdd-42bb-4fc3-d572-53a3873a9a23"
      },
      "execution_count": 107,
      "outputs": [
        {
          "output_type": "execute_result",
          "data": {
            "text/plain": [
              "array([ True, False])"
            ]
          },
          "metadata": {},
          "execution_count": 107
        }
      ]
    },
    {
      "cell_type": "markdown",
      "source": [
        "**Softmax Regression**"
      ],
      "metadata": {
        "id": "G7V5jN0EkXac"
      }
    },
    {
      "cell_type": "markdown",
      "source": [
        "The Logistic Regression model can be generalized to support multiple classes directly,\n",
        "without having to train and combine multiple binary classifiers . This is called Softmax Regression, or Multinomial Logistic Regression.\n",
        "The idea is quite simple: when given an instance x, the Softmax Regression model\n",
        "first computes a score sk\n",
        "(x) for each class k, then estimates the probability of each\n",
        "class by applying the somax function (also called the normalized exponential) to the\n",
        "scores.\n",
        "\n",
        "![image.png](data:image/png;base64,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)\n",
        "\n",
        "Softmax score for class k.\n",
        "\n",
        "Note that each class has its own dedicated parameter vector θ\n",
        "(k). All these vectors are\n",
        "typically stored as rows in a parameter matrix Θ.\n"
      ],
      "metadata": {
        "id": "Uel4Ih8akbo8"
      }
    },
    {
      "cell_type": "markdown",
      "source": [
        "let’s take a look at training. The objective is to have a model that estimates a high\n",
        "probability for the target class (and consequently a low probability for the other\n",
        "classes). Minimizing the cost function, called the cross\n",
        "entropy, should lead to this objective because it penalizes the model when it estimates\n",
        "a low probability for a target class. Cross entropy is frequently used to measure how well a set of estimated class probabilities match the target classes.\n",
        "\n",
        "![image.png](data:image/png;base64,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)\n",
        "\n",
        "Cross Entropy cost function"
      ],
      "metadata": {
        "id": "dwux1GlamcMk"
      }
    },
    {
      "cell_type": "code",
      "source": [
        "x=iris.data[['petal length (cm)','petal width (cm)']].values\n",
        "y=iris['target']\n",
        "x_trai,x_test,y_train,y_test=train_test_split(x,y,random_state=42)\n",
        "\n",
        "softmax_reg=LogisticRegression(C=30,random_state=42)\n",
        "softmax_reg.fit(x_train,y_train)"
      ],
      "metadata": {
        "colab": {
          "base_uri": "https://localhost:8080/",
          "height": 74
        },
        "id": "EvSvVIyVnRPF",
        "outputId": "e695e65b-14f5-4064-e288-99a15ef146ec"
      },
      "execution_count": 108,
      "outputs": [
        {
          "output_type": "execute_result",
          "data": {
            "text/plain": [
              "LogisticRegression(C=30, random_state=42)"
            ],
            "text/html": [
              "<style>#sk-container-id-21 {color: black;background-color: white;}#sk-container-id-21 pre{padding: 0;}#sk-container-id-21 div.sk-toggleable {background-color: white;}#sk-container-id-21 label.sk-toggleable__label {cursor: pointer;display: block;width: 100%;margin-bottom: 0;padding: 0.3em;box-sizing: border-box;text-align: center;}#sk-container-id-21 label.sk-toggleable__label-arrow:before {content: \"▸\";float: left;margin-right: 0.25em;color: #696969;}#sk-container-id-21 label.sk-toggleable__label-arrow:hover:before {color: black;}#sk-container-id-21 div.sk-estimator:hover label.sk-toggleable__label-arrow:before {color: black;}#sk-container-id-21 div.sk-toggleable__content {max-height: 0;max-width: 0;overflow: hidden;text-align: left;background-color: #f0f8ff;}#sk-container-id-21 div.sk-toggleable__content pre {margin: 0.2em;color: black;border-radius: 0.25em;background-color: #f0f8ff;}#sk-container-id-21 input.sk-toggleable__control:checked~div.sk-toggleable__content {max-height: 200px;max-width: 100%;overflow: auto;}#sk-container-id-21 input.sk-toggleable__control:checked~label.sk-toggleable__label-arrow:before {content: \"▾\";}#sk-container-id-21 div.sk-estimator input.sk-toggleable__control:checked~label.sk-toggleable__label {background-color: #d4ebff;}#sk-container-id-21 div.sk-label input.sk-toggleable__control:checked~label.sk-toggleable__label {background-color: #d4ebff;}#sk-container-id-21 input.sk-hidden--visually {border: 0;clip: rect(1px 1px 1px 1px);clip: rect(1px, 1px, 1px, 1px);height: 1px;margin: -1px;overflow: hidden;padding: 0;position: absolute;width: 1px;}#sk-container-id-21 div.sk-estimator {font-family: monospace;background-color: #f0f8ff;border: 1px dotted black;border-radius: 0.25em;box-sizing: border-box;margin-bottom: 0.5em;}#sk-container-id-21 div.sk-estimator:hover {background-color: #d4ebff;}#sk-container-id-21 div.sk-parallel-item::after {content: \"\";width: 100%;border-bottom: 1px solid gray;flex-grow: 1;}#sk-container-id-21 div.sk-label:hover label.sk-toggleable__label {background-color: #d4ebff;}#sk-container-id-21 div.sk-serial::before {content: \"\";position: absolute;border-left: 1px solid gray;box-sizing: border-box;top: 0;bottom: 0;left: 50%;z-index: 0;}#sk-container-id-21 div.sk-serial {display: flex;flex-direction: column;align-items: center;background-color: white;padding-right: 0.2em;padding-left: 0.2em;position: relative;}#sk-container-id-21 div.sk-item {position: relative;z-index: 1;}#sk-container-id-21 div.sk-parallel {display: flex;align-items: stretch;justify-content: center;background-color: white;position: relative;}#sk-container-id-21 div.sk-item::before, #sk-container-id-21 div.sk-parallel-item::before {content: \"\";position: absolute;border-left: 1px solid gray;box-sizing: border-box;top: 0;bottom: 0;left: 50%;z-index: -1;}#sk-container-id-21 div.sk-parallel-item {display: flex;flex-direction: column;z-index: 1;position: relative;background-color: white;}#sk-container-id-21 div.sk-parallel-item:first-child::after {align-self: flex-end;width: 50%;}#sk-container-id-21 div.sk-parallel-item:last-child::after {align-self: flex-start;width: 50%;}#sk-container-id-21 div.sk-parallel-item:only-child::after {width: 0;}#sk-container-id-21 div.sk-dashed-wrapped {border: 1px dashed gray;margin: 0 0.4em 0.5em 0.4em;box-sizing: border-box;padding-bottom: 0.4em;background-color: white;}#sk-container-id-21 div.sk-label label {font-family: monospace;font-weight: bold;display: inline-block;line-height: 1.2em;}#sk-container-id-21 div.sk-label-container {text-align: center;}#sk-container-id-21 div.sk-container {/* jupyter's `normalize.less` sets `[hidden] { display: none; }` but bootstrap.min.css set `[hidden] { display: none !important; }` so we also need the `!important` here to be able to override the default hidden behavior on the sphinx rendered scikit-learn.org. See: https://github.com/scikit-learn/scikit-learn/issues/21755 */display: inline-block !important;position: relative;}#sk-container-id-21 div.sk-text-repr-fallback {display: none;}</style><div id=\"sk-container-id-21\" class=\"sk-top-container\"><div class=\"sk-text-repr-fallback\"><pre>LogisticRegression(C=30, random_state=42)</pre><b>In a Jupyter environment, please rerun this cell to show the HTML representation or trust the notebook. <br />On GitHub, the HTML representation is unable to render, please try loading this page with nbviewer.org.</b></div><div class=\"sk-container\" hidden><div class=\"sk-item\"><div class=\"sk-estimator sk-toggleable\"><input class=\"sk-toggleable__control sk-hidden--visually\" id=\"sk-estimator-id-37\" type=\"checkbox\" checked><label for=\"sk-estimator-id-37\" class=\"sk-toggleable__label sk-toggleable__label-arrow\">LogisticRegression</label><div class=\"sk-toggleable__content\"><pre>LogisticRegression(C=30, random_state=42)</pre></div></div></div></div></div>"
            ]
          },
          "metadata": {},
          "execution_count": 108
        }
      ]
    },
    {
      "cell_type": "code",
      "source": [
        " softmax_reg.predict([[5]])"
      ],
      "metadata": {
        "colab": {
          "base_uri": "https://localhost:8080/"
        },
        "id": "4znqImIwn7Z5",
        "outputId": "2a907488-eb1c-443b-cd55-73b2a364a082"
      },
      "execution_count": 109,
      "outputs": [
        {
          "output_type": "execute_result",
          "data": {
            "text/plain": [
              "array([2])"
            ]
          },
          "metadata": {},
          "execution_count": 109
        }
      ]
    },
    {
      "cell_type": "code",
      "source": [
        "softmax_reg.predict_proba([[5]]).round(2)"
      ],
      "metadata": {
        "colab": {
          "base_uri": "https://localhost:8080/"
        },
        "id": "z5TILJoEpI9C",
        "outputId": "a70a8008-88f4-4535-bca5-621cc82fbc78"
      },
      "execution_count": 110,
      "outputs": [
        {
          "output_type": "execute_result",
          "data": {
            "text/plain": [
              "array([[0., 0., 1.]])"
            ]
          },
          "metadata": {},
          "execution_count": 110
        }
      ]
    },
    {
      "cell_type": "markdown",
      "source": [
        "#**3.Support Vector Machine**"
      ],
      "metadata": {
        "id": "MPWxI1Kau7DK"
      }
    },
    {
      "cell_type": "markdown",
      "source": [
        "A Support Vector Machine (SVM) is a very powerful and versatile Machine Learning\n",
        "model, capable of performing linear or nonlinear classification, regression, and even\n",
        "outlier detection. It is one of the most popular models in Machine Learning, and anyone interested in Machine Learning should have it in their toolbox. SVMs are particularly well suited for classification of complex but small- or medium-sized datasets."
      ],
      "metadata": {
        "id": "5g9kbFyDvfO_"
      }
    },
    {
      "cell_type": "markdown",
      "source": [
        "**Linear SVM Classification**"
      ],
      "metadata": {
        "id": "_SI-WvElw2pX"
      }
    },
    {
      "cell_type": "markdown",
      "source": [
        "You can think of an SVM classifier as fitting the widest possible street (represented by the parallel dashed lines) between the classes.\n",
        "This is called large margin classification.\n",
        "\n",
        "Notice that adding more training instances “off the street” will not affect the decision\n",
        "boundary at all: it is fully determined (or “supported”) by the instances located on the\n",
        "edge of the street. These instances are called the support vectors."
      ],
      "metadata": {
        "id": "R-_t_vWuxCS4"
      }
    },
    {
      "cell_type": "markdown",
      "source": [
        "**Soft Margin Classification**"
      ],
      "metadata": {
        "id": "ulZ983pMxomk"
      }
    },
    {
      "cell_type": "markdown",
      "source": [
        "If we strictly impose that all instances be off the street and on the right side, this is\n",
        "called hard margin classification. There are two main issues with hard margin classification. First, it only works if the data is linearly separable, and second it is quite sensitive to outliers.\n",
        "\n",
        "To avoid these issues it is preferable to use a more flexible model. The objective is to\n",
        "find a good balance between keeping the street as large as possible and limiting the\n",
        "margin violations (i.e., instances that end up in the middle of the street or even on the\n",
        "wrong side). This is called soft margin classification.\n",
        "\n",
        "In Scikit-Learn SVM classes, you can control this balance using the C hyperparameter: a smaller C value leads to a wider street but more margin violations.\n",
        "\n",
        "The following Scikit-Learn code loads the iris dataset, scales the features, and then\n",
        "trains a linear SVM model (using the LinearSVC class with C = 1 and the hinge loss\n",
        "function, described shortly) to detect Iris-Virginica flowers.\n",
        "\n",
        "\n"
      ],
      "metadata": {
        "id": "0rkLF5HGxzk9"
      }
    },
    {
      "cell_type": "code",
      "source": [
        "from sklearn.datasets import load_iris\n",
        "from sklearn.pipeline import make_pipeline\n",
        "from sklearn.preprocessing import StandardScaler\n",
        "from sklearn.svm import LinearSVC\n",
        "\n",
        "iris=load_iris(as_frame=True)\n",
        "x=iris.data[[\"petal length (cm)\",\"petal width (cm)\"]].values\n",
        "y=(iris.target==2)\n",
        "\n",
        "svm_clf= make_pipeline(StandardScaler(),LinearSVC(C=1,random_state=42))\n",
        "\n",
        "svm_clf.fit(x,y)"
      ],
      "metadata": {
        "colab": {
          "base_uri": "https://localhost:8080/",
          "height": 125
        },
        "id": "hhjpK0yezrvP",
        "outputId": "32209bb4-4396-42aa-a39f-0f2668544208"
      },
      "execution_count": 111,
      "outputs": [
        {
          "output_type": "execute_result",
          "data": {
            "text/plain": [
              "Pipeline(steps=[('standardscaler', StandardScaler()),\n",
              "                ('linearsvc', LinearSVC(C=1, random_state=42))])"
            ],
            "text/html": [
              "<style>#sk-container-id-22 {color: black;background-color: white;}#sk-container-id-22 pre{padding: 0;}#sk-container-id-22 div.sk-toggleable {background-color: white;}#sk-container-id-22 label.sk-toggleable__label {cursor: pointer;display: block;width: 100%;margin-bottom: 0;padding: 0.3em;box-sizing: border-box;text-align: center;}#sk-container-id-22 label.sk-toggleable__label-arrow:before {content: \"▸\";float: left;margin-right: 0.25em;color: #696969;}#sk-container-id-22 label.sk-toggleable__label-arrow:hover:before {color: black;}#sk-container-id-22 div.sk-estimator:hover label.sk-toggleable__label-arrow:before {color: black;}#sk-container-id-22 div.sk-toggleable__content {max-height: 0;max-width: 0;overflow: hidden;text-align: left;background-color: #f0f8ff;}#sk-container-id-22 div.sk-toggleable__content pre {margin: 0.2em;color: black;border-radius: 0.25em;background-color: #f0f8ff;}#sk-container-id-22 input.sk-toggleable__control:checked~div.sk-toggleable__content {max-height: 200px;max-width: 100%;overflow: auto;}#sk-container-id-22 input.sk-toggleable__control:checked~label.sk-toggleable__label-arrow:before {content: \"▾\";}#sk-container-id-22 div.sk-estimator input.sk-toggleable__control:checked~label.sk-toggleable__label {background-color: #d4ebff;}#sk-container-id-22 div.sk-label input.sk-toggleable__control:checked~label.sk-toggleable__label {background-color: #d4ebff;}#sk-container-id-22 input.sk-hidden--visually {border: 0;clip: rect(1px 1px 1px 1px);clip: rect(1px, 1px, 1px, 1px);height: 1px;margin: -1px;overflow: hidden;padding: 0;position: absolute;width: 1px;}#sk-container-id-22 div.sk-estimator {font-family: monospace;background-color: #f0f8ff;border: 1px dotted black;border-radius: 0.25em;box-sizing: border-box;margin-bottom: 0.5em;}#sk-container-id-22 div.sk-estimator:hover {background-color: #d4ebff;}#sk-container-id-22 div.sk-parallel-item::after {content: \"\";width: 100%;border-bottom: 1px solid gray;flex-grow: 1;}#sk-container-id-22 div.sk-label:hover label.sk-toggleable__label {background-color: #d4ebff;}#sk-container-id-22 div.sk-serial::before {content: \"\";position: absolute;border-left: 1px solid gray;box-sizing: border-box;top: 0;bottom: 0;left: 50%;z-index: 0;}#sk-container-id-22 div.sk-serial {display: flex;flex-direction: column;align-items: center;background-color: white;padding-right: 0.2em;padding-left: 0.2em;position: relative;}#sk-container-id-22 div.sk-item {position: relative;z-index: 1;}#sk-container-id-22 div.sk-parallel {display: flex;align-items: stretch;justify-content: center;background-color: white;position: relative;}#sk-container-id-22 div.sk-item::before, #sk-container-id-22 div.sk-parallel-item::before {content: \"\";position: absolute;border-left: 1px solid gray;box-sizing: border-box;top: 0;bottom: 0;left: 50%;z-index: -1;}#sk-container-id-22 div.sk-parallel-item {display: flex;flex-direction: column;z-index: 1;position: relative;background-color: white;}#sk-container-id-22 div.sk-parallel-item:first-child::after {align-self: flex-end;width: 50%;}#sk-container-id-22 div.sk-parallel-item:last-child::after {align-self: flex-start;width: 50%;}#sk-container-id-22 div.sk-parallel-item:only-child::after {width: 0;}#sk-container-id-22 div.sk-dashed-wrapped {border: 1px dashed gray;margin: 0 0.4em 0.5em 0.4em;box-sizing: border-box;padding-bottom: 0.4em;background-color: white;}#sk-container-id-22 div.sk-label label {font-family: monospace;font-weight: bold;display: inline-block;line-height: 1.2em;}#sk-container-id-22 div.sk-label-container {text-align: center;}#sk-container-id-22 div.sk-container {/* jupyter's `normalize.less` sets `[hidden] { display: none; }` but bootstrap.min.css set `[hidden] { display: none !important; }` so we also need the `!important` here to be able to override the default hidden behavior on the sphinx rendered scikit-learn.org. See: https://github.com/scikit-learn/scikit-learn/issues/21755 */display: inline-block !important;position: relative;}#sk-container-id-22 div.sk-text-repr-fallback {display: none;}</style><div id=\"sk-container-id-22\" class=\"sk-top-container\"><div class=\"sk-text-repr-fallback\"><pre>Pipeline(steps=[(&#x27;standardscaler&#x27;, StandardScaler()),\n",
              "                (&#x27;linearsvc&#x27;, LinearSVC(C=1, random_state=42))])</pre><b>In a Jupyter environment, please rerun this cell to show the HTML representation or trust the notebook. <br />On GitHub, the HTML representation is unable to render, please try loading this page with nbviewer.org.</b></div><div class=\"sk-container\" hidden><div class=\"sk-item sk-dashed-wrapped\"><div class=\"sk-label-container\"><div class=\"sk-label sk-toggleable\"><input class=\"sk-toggleable__control sk-hidden--visually\" id=\"sk-estimator-id-38\" type=\"checkbox\" ><label for=\"sk-estimator-id-38\" class=\"sk-toggleable__label sk-toggleable__label-arrow\">Pipeline</label><div class=\"sk-toggleable__content\"><pre>Pipeline(steps=[(&#x27;standardscaler&#x27;, StandardScaler()),\n",
              "                (&#x27;linearsvc&#x27;, LinearSVC(C=1, random_state=42))])</pre></div></div></div><div class=\"sk-serial\"><div class=\"sk-item\"><div class=\"sk-estimator sk-toggleable\"><input class=\"sk-toggleable__control sk-hidden--visually\" id=\"sk-estimator-id-39\" type=\"checkbox\" ><label for=\"sk-estimator-id-39\" class=\"sk-toggleable__label sk-toggleable__label-arrow\">StandardScaler</label><div class=\"sk-toggleable__content\"><pre>StandardScaler()</pre></div></div></div><div class=\"sk-item\"><div class=\"sk-estimator sk-toggleable\"><input class=\"sk-toggleable__control sk-hidden--visually\" id=\"sk-estimator-id-40\" type=\"checkbox\" ><label for=\"sk-estimator-id-40\" class=\"sk-toggleable__label sk-toggleable__label-arrow\">LinearSVC</label><div class=\"sk-toggleable__content\"><pre>LinearSVC(C=1, random_state=42)</pre></div></div></div></div></div></div></div>"
            ]
          },
          "metadata": {},
          "execution_count": 111
        }
      ]
    },
    {
      "cell_type": "code",
      "source": [
        "x_new=[[5.5,1.7],[5.0,1.5]]\n",
        "svm_clf.predict(x_new)"
      ],
      "metadata": {
        "colab": {
          "base_uri": "https://localhost:8080/"
        },
        "id": "KkeeKwS12Mw8",
        "outputId": "5bc50fb4-f9db-4bfd-fe7d-40af037a3b07"
      },
      "execution_count": 112,
      "outputs": [
        {
          "output_type": "execute_result",
          "data": {
            "text/plain": [
              "array([ True, False])"
            ]
          },
          "metadata": {},
          "execution_count": 112
        }
      ]
    },
    {
      "cell_type": "code",
      "source": [
        "svm_clf.decision_function(x_new)"
      ],
      "metadata": {
        "colab": {
          "base_uri": "https://localhost:8080/"
        },
        "id": "mkqAqq9j2a7u",
        "outputId": "1bb1baef-4291-4c54-a759-58b89dbca963"
      },
      "execution_count": 113,
      "outputs": [
        {
          "output_type": "execute_result",
          "data": {
            "text/plain": [
              "array([ 0.66163411, -0.22036063])"
            ]
          },
          "metadata": {},
          "execution_count": 113
        }
      ]
    },
    {
      "cell_type": "markdown",
      "source": [
        "Unlike logistic regression linearSVC doesnt have predict_proba() method to estime the calss probablities.That said,if you use the SVC class instead of LinearSVC and if you set its probablity hyperparameter to True,then the model will fit an extra model at the end of training to map the SVM decision function scores to estimated probablities. under the hood it requires using 5fold cross validation scores to generate out of sample predictions for every instance in the training set, then training a LogisticRegression model,so it will slow down training considerably."
      ],
      "metadata": {
        "id": "DyRJbjY92yKm"
      }
    },
    {
      "cell_type": "markdown",
      "source": [
        "**Nonlinear SVM Classification**"
      ],
      "metadata": {
        "id": "mUGsbOgP4UNy"
      }
    },
    {
      "cell_type": "markdown",
      "source": [
        "Although linear SVM classifiers are efficient and work surprisingly well in many\n",
        "cases, many datasets are not even close to being linearly separable. One approach to\n",
        "handling nonlinear datasets is to add more features, such as polynomial features; in some cases this can result in a linearly separable dataset.\n",
        "\n",
        "To implement this idea using Scikit-Learn, you can create a Pipeline containing a\n",
        "PolynomialFeatures transformer followed by a StandardScaler and a LinearSVC. Lets test this on the moons\n",
        "dataset: this is a toy dataset for binary classification in which the data points are shaped as two interleaving half circles\n"
      ],
      "metadata": {
        "id": "yRLFxf4Y4mSv"
      }
    },
    {
      "cell_type": "code",
      "source": [
        "from sklearn.datasets import make_moons\n",
        "from sklearn.preprocessing import PolynomialFeatures\n",
        "x,y=make_moons(n_samples=100,noise=0.15,random_state=42)\n",
        "polynomial_svm_clf=make_pipeline(\n",
        "    PolynomialFeatures(degree=3),\n",
        "    StandardScaler(),\n",
        "    LinearSVC(C=10,max_iter=10_000,random_state=42)\n",
        ")\n",
        "polynomial_svm_clf.fit(x,y)"
      ],
      "metadata": {
        "colab": {
          "base_uri": "https://localhost:8080/",
          "height": 159
        },
        "id": "DIILoE42IpCw",
        "outputId": "47d068bc-441f-4d37-bf33-682c670dc85b"
      },
      "execution_count": 114,
      "outputs": [
        {
          "output_type": "execute_result",
          "data": {
            "text/plain": [
              "Pipeline(steps=[('polynomialfeatures', PolynomialFeatures(degree=3)),\n",
              "                ('standardscaler', StandardScaler()),\n",
              "                ('linearsvc',\n",
              "                 LinearSVC(C=10, max_iter=10000, random_state=42))])"
            ],
            "text/html": [
              "<style>#sk-container-id-23 {color: black;background-color: white;}#sk-container-id-23 pre{padding: 0;}#sk-container-id-23 div.sk-toggleable {background-color: white;}#sk-container-id-23 label.sk-toggleable__label {cursor: pointer;display: block;width: 100%;margin-bottom: 0;padding: 0.3em;box-sizing: border-box;text-align: center;}#sk-container-id-23 label.sk-toggleable__label-arrow:before {content: \"▸\";float: left;margin-right: 0.25em;color: #696969;}#sk-container-id-23 label.sk-toggleable__label-arrow:hover:before {color: black;}#sk-container-id-23 div.sk-estimator:hover label.sk-toggleable__label-arrow:before {color: black;}#sk-container-id-23 div.sk-toggleable__content {max-height: 0;max-width: 0;overflow: hidden;text-align: left;background-color: #f0f8ff;}#sk-container-id-23 div.sk-toggleable__content pre {margin: 0.2em;color: black;border-radius: 0.25em;background-color: #f0f8ff;}#sk-container-id-23 input.sk-toggleable__control:checked~div.sk-toggleable__content {max-height: 200px;max-width: 100%;overflow: auto;}#sk-container-id-23 input.sk-toggleable__control:checked~label.sk-toggleable__label-arrow:before {content: \"▾\";}#sk-container-id-23 div.sk-estimator input.sk-toggleable__control:checked~label.sk-toggleable__label {background-color: #d4ebff;}#sk-container-id-23 div.sk-label input.sk-toggleable__control:checked~label.sk-toggleable__label {background-color: #d4ebff;}#sk-container-id-23 input.sk-hidden--visually {border: 0;clip: rect(1px 1px 1px 1px);clip: rect(1px, 1px, 1px, 1px);height: 1px;margin: -1px;overflow: hidden;padding: 0;position: absolute;width: 1px;}#sk-container-id-23 div.sk-estimator {font-family: monospace;background-color: #f0f8ff;border: 1px dotted black;border-radius: 0.25em;box-sizing: border-box;margin-bottom: 0.5em;}#sk-container-id-23 div.sk-estimator:hover {background-color: #d4ebff;}#sk-container-id-23 div.sk-parallel-item::after {content: \"\";width: 100%;border-bottom: 1px solid gray;flex-grow: 1;}#sk-container-id-23 div.sk-label:hover label.sk-toggleable__label {background-color: #d4ebff;}#sk-container-id-23 div.sk-serial::before {content: \"\";position: absolute;border-left: 1px solid gray;box-sizing: border-box;top: 0;bottom: 0;left: 50%;z-index: 0;}#sk-container-id-23 div.sk-serial {display: flex;flex-direction: column;align-items: center;background-color: white;padding-right: 0.2em;padding-left: 0.2em;position: relative;}#sk-container-id-23 div.sk-item {position: relative;z-index: 1;}#sk-container-id-23 div.sk-parallel {display: flex;align-items: stretch;justify-content: center;background-color: white;position: relative;}#sk-container-id-23 div.sk-item::before, #sk-container-id-23 div.sk-parallel-item::before {content: \"\";position: absolute;border-left: 1px solid gray;box-sizing: border-box;top: 0;bottom: 0;left: 50%;z-index: -1;}#sk-container-id-23 div.sk-parallel-item {display: flex;flex-direction: column;z-index: 1;position: relative;background-color: white;}#sk-container-id-23 div.sk-parallel-item:first-child::after {align-self: flex-end;width: 50%;}#sk-container-id-23 div.sk-parallel-item:last-child::after {align-self: flex-start;width: 50%;}#sk-container-id-23 div.sk-parallel-item:only-child::after {width: 0;}#sk-container-id-23 div.sk-dashed-wrapped {border: 1px dashed gray;margin: 0 0.4em 0.5em 0.4em;box-sizing: border-box;padding-bottom: 0.4em;background-color: white;}#sk-container-id-23 div.sk-label label {font-family: monospace;font-weight: bold;display: inline-block;line-height: 1.2em;}#sk-container-id-23 div.sk-label-container {text-align: center;}#sk-container-id-23 div.sk-container {/* jupyter's `normalize.less` sets `[hidden] { display: none; }` but bootstrap.min.css set `[hidden] { display: none !important; }` so we also need the `!important` here to be able to override the default hidden behavior on the sphinx rendered scikit-learn.org. See: https://github.com/scikit-learn/scikit-learn/issues/21755 */display: inline-block !important;position: relative;}#sk-container-id-23 div.sk-text-repr-fallback {display: none;}</style><div id=\"sk-container-id-23\" class=\"sk-top-container\"><div class=\"sk-text-repr-fallback\"><pre>Pipeline(steps=[(&#x27;polynomialfeatures&#x27;, PolynomialFeatures(degree=3)),\n",
              "                (&#x27;standardscaler&#x27;, StandardScaler()),\n",
              "                (&#x27;linearsvc&#x27;,\n",
              "                 LinearSVC(C=10, max_iter=10000, random_state=42))])</pre><b>In a Jupyter environment, please rerun this cell to show the HTML representation or trust the notebook. <br />On GitHub, the HTML representation is unable to render, please try loading this page with nbviewer.org.</b></div><div class=\"sk-container\" hidden><div class=\"sk-item sk-dashed-wrapped\"><div class=\"sk-label-container\"><div class=\"sk-label sk-toggleable\"><input class=\"sk-toggleable__control sk-hidden--visually\" id=\"sk-estimator-id-41\" type=\"checkbox\" ><label for=\"sk-estimator-id-41\" class=\"sk-toggleable__label sk-toggleable__label-arrow\">Pipeline</label><div class=\"sk-toggleable__content\"><pre>Pipeline(steps=[(&#x27;polynomialfeatures&#x27;, PolynomialFeatures(degree=3)),\n",
              "                (&#x27;standardscaler&#x27;, StandardScaler()),\n",
              "                (&#x27;linearsvc&#x27;,\n",
              "                 LinearSVC(C=10, max_iter=10000, random_state=42))])</pre></div></div></div><div class=\"sk-serial\"><div class=\"sk-item\"><div class=\"sk-estimator sk-toggleable\"><input class=\"sk-toggleable__control sk-hidden--visually\" id=\"sk-estimator-id-42\" type=\"checkbox\" ><label for=\"sk-estimator-id-42\" class=\"sk-toggleable__label sk-toggleable__label-arrow\">PolynomialFeatures</label><div class=\"sk-toggleable__content\"><pre>PolynomialFeatures(degree=3)</pre></div></div></div><div class=\"sk-item\"><div class=\"sk-estimator sk-toggleable\"><input class=\"sk-toggleable__control sk-hidden--visually\" id=\"sk-estimator-id-43\" type=\"checkbox\" ><label for=\"sk-estimator-id-43\" class=\"sk-toggleable__label sk-toggleable__label-arrow\">StandardScaler</label><div class=\"sk-toggleable__content\"><pre>StandardScaler()</pre></div></div></div><div class=\"sk-item\"><div class=\"sk-estimator sk-toggleable\"><input class=\"sk-toggleable__control sk-hidden--visually\" id=\"sk-estimator-id-44\" type=\"checkbox\" ><label for=\"sk-estimator-id-44\" class=\"sk-toggleable__label sk-toggleable__label-arrow\">LinearSVC</label><div class=\"sk-toggleable__content\"><pre>LinearSVC(C=10, max_iter=10000, random_state=42)</pre></div></div></div></div></div></div></div>"
            ]
          },
          "metadata": {},
          "execution_count": 114
        }
      ]
    },
    {
      "cell_type": "markdown",
      "source": [
        "**Polynomial kernel**"
      ],
      "metadata": {
        "id": "ZYZxx1srJuzN"
      }
    },
    {
      "cell_type": "markdown",
      "source": [
        "Adding polynomial features is simple to implement and can work great with all sorts\n",
        "of Machine Learning algorithms (not just SVMs), but at a low polynomial degree it\n",
        "cannot deal with very complex datasets, and with a high polynomial degree it creates\n",
        "a huge number of features, making the model too slow.\n",
        "\n",
        "when using SVMs you can apply an almost miraculous mathematical\n",
        "technique called the kernel trick (it is explained in a moment). It makes it possible to\n",
        "get the same result as if you added many polynomial features, even with very highdegree polynomials, without actually having to add them. So there is no combinatorial explosion of the number of features since you dont actually add any features. This\n",
        "trick is implemented by the SVC class."
      ],
      "metadata": {
        "id": "KLkOKUh0Lx75"
      }
    },
    {
      "cell_type": "code",
      "source": [
        "from sklearn.svm import SVC\n",
        "poly_kernel_svm_clf=make_pipeline(StandardScaler(),SVC(kernel=\"poly\",degree=3,coef0=1,C=5))\n",
        "poly_kernel_svm_clf.fit(x,y)"
      ],
      "metadata": {
        "colab": {
          "base_uri": "https://localhost:8080/",
          "height": 125
        },
        "id": "H9_59xJGL9tt",
        "outputId": "c7bef381-2a86-4162-a343-21a89cfdd6a9"
      },
      "execution_count": 115,
      "outputs": [
        {
          "output_type": "execute_result",
          "data": {
            "text/plain": [
              "Pipeline(steps=[('standardscaler', StandardScaler()),\n",
              "                ('svc', SVC(C=5, coef0=1, kernel='poly'))])"
            ],
            "text/html": [
              "<style>#sk-container-id-24 {color: black;background-color: white;}#sk-container-id-24 pre{padding: 0;}#sk-container-id-24 div.sk-toggleable {background-color: white;}#sk-container-id-24 label.sk-toggleable__label {cursor: pointer;display: block;width: 100%;margin-bottom: 0;padding: 0.3em;box-sizing: border-box;text-align: center;}#sk-container-id-24 label.sk-toggleable__label-arrow:before {content: \"▸\";float: left;margin-right: 0.25em;color: #696969;}#sk-container-id-24 label.sk-toggleable__label-arrow:hover:before {color: black;}#sk-container-id-24 div.sk-estimator:hover label.sk-toggleable__label-arrow:before {color: black;}#sk-container-id-24 div.sk-toggleable__content {max-height: 0;max-width: 0;overflow: hidden;text-align: left;background-color: #f0f8ff;}#sk-container-id-24 div.sk-toggleable__content pre {margin: 0.2em;color: black;border-radius: 0.25em;background-color: #f0f8ff;}#sk-container-id-24 input.sk-toggleable__control:checked~div.sk-toggleable__content {max-height: 200px;max-width: 100%;overflow: auto;}#sk-container-id-24 input.sk-toggleable__control:checked~label.sk-toggleable__label-arrow:before {content: \"▾\";}#sk-container-id-24 div.sk-estimator input.sk-toggleable__control:checked~label.sk-toggleable__label {background-color: #d4ebff;}#sk-container-id-24 div.sk-label input.sk-toggleable__control:checked~label.sk-toggleable__label {background-color: #d4ebff;}#sk-container-id-24 input.sk-hidden--visually {border: 0;clip: rect(1px 1px 1px 1px);clip: rect(1px, 1px, 1px, 1px);height: 1px;margin: -1px;overflow: hidden;padding: 0;position: absolute;width: 1px;}#sk-container-id-24 div.sk-estimator {font-family: monospace;background-color: #f0f8ff;border: 1px dotted black;border-radius: 0.25em;box-sizing: border-box;margin-bottom: 0.5em;}#sk-container-id-24 div.sk-estimator:hover {background-color: #d4ebff;}#sk-container-id-24 div.sk-parallel-item::after {content: \"\";width: 100%;border-bottom: 1px solid gray;flex-grow: 1;}#sk-container-id-24 div.sk-label:hover label.sk-toggleable__label {background-color: #d4ebff;}#sk-container-id-24 div.sk-serial::before {content: \"\";position: absolute;border-left: 1px solid gray;box-sizing: border-box;top: 0;bottom: 0;left: 50%;z-index: 0;}#sk-container-id-24 div.sk-serial {display: flex;flex-direction: column;align-items: center;background-color: white;padding-right: 0.2em;padding-left: 0.2em;position: relative;}#sk-container-id-24 div.sk-item {position: relative;z-index: 1;}#sk-container-id-24 div.sk-parallel {display: flex;align-items: stretch;justify-content: center;background-color: white;position: relative;}#sk-container-id-24 div.sk-item::before, #sk-container-id-24 div.sk-parallel-item::before {content: \"\";position: absolute;border-left: 1px solid gray;box-sizing: border-box;top: 0;bottom: 0;left: 50%;z-index: -1;}#sk-container-id-24 div.sk-parallel-item {display: flex;flex-direction: column;z-index: 1;position: relative;background-color: white;}#sk-container-id-24 div.sk-parallel-item:first-child::after {align-self: flex-end;width: 50%;}#sk-container-id-24 div.sk-parallel-item:last-child::after {align-self: flex-start;width: 50%;}#sk-container-id-24 div.sk-parallel-item:only-child::after {width: 0;}#sk-container-id-24 div.sk-dashed-wrapped {border: 1px dashed gray;margin: 0 0.4em 0.5em 0.4em;box-sizing: border-box;padding-bottom: 0.4em;background-color: white;}#sk-container-id-24 div.sk-label label {font-family: monospace;font-weight: bold;display: inline-block;line-height: 1.2em;}#sk-container-id-24 div.sk-label-container {text-align: center;}#sk-container-id-24 div.sk-container {/* jupyter's `normalize.less` sets `[hidden] { display: none; }` but bootstrap.min.css set `[hidden] { display: none !important; }` so we also need the `!important` here to be able to override the default hidden behavior on the sphinx rendered scikit-learn.org. See: https://github.com/scikit-learn/scikit-learn/issues/21755 */display: inline-block !important;position: relative;}#sk-container-id-24 div.sk-text-repr-fallback {display: none;}</style><div id=\"sk-container-id-24\" class=\"sk-top-container\"><div class=\"sk-text-repr-fallback\"><pre>Pipeline(steps=[(&#x27;standardscaler&#x27;, StandardScaler()),\n",
              "                (&#x27;svc&#x27;, SVC(C=5, coef0=1, kernel=&#x27;poly&#x27;))])</pre><b>In a Jupyter environment, please rerun this cell to show the HTML representation or trust the notebook. <br />On GitHub, the HTML representation is unable to render, please try loading this page with nbviewer.org.</b></div><div class=\"sk-container\" hidden><div class=\"sk-item sk-dashed-wrapped\"><div class=\"sk-label-container\"><div class=\"sk-label sk-toggleable\"><input class=\"sk-toggleable__control sk-hidden--visually\" id=\"sk-estimator-id-45\" type=\"checkbox\" ><label for=\"sk-estimator-id-45\" class=\"sk-toggleable__label sk-toggleable__label-arrow\">Pipeline</label><div class=\"sk-toggleable__content\"><pre>Pipeline(steps=[(&#x27;standardscaler&#x27;, StandardScaler()),\n",
              "                (&#x27;svc&#x27;, SVC(C=5, coef0=1, kernel=&#x27;poly&#x27;))])</pre></div></div></div><div class=\"sk-serial\"><div class=\"sk-item\"><div class=\"sk-estimator sk-toggleable\"><input class=\"sk-toggleable__control sk-hidden--visually\" id=\"sk-estimator-id-46\" type=\"checkbox\" ><label for=\"sk-estimator-id-46\" class=\"sk-toggleable__label sk-toggleable__label-arrow\">StandardScaler</label><div class=\"sk-toggleable__content\"><pre>StandardScaler()</pre></div></div></div><div class=\"sk-item\"><div class=\"sk-estimator sk-toggleable\"><input class=\"sk-toggleable__control sk-hidden--visually\" id=\"sk-estimator-id-47\" type=\"checkbox\" ><label for=\"sk-estimator-id-47\" class=\"sk-toggleable__label sk-toggleable__label-arrow\">SVC</label><div class=\"sk-toggleable__content\"><pre>SVC(C=5, coef0=1, kernel=&#x27;poly&#x27;)</pre></div></div></div></div></div></div></div>"
            ]
          },
          "metadata": {},
          "execution_count": 115
        }
      ]
    },
    {
      "cell_type": "markdown",
      "source": [
        "The coef0 hyperparameter controls how much the model is infuenced by high degree terms versus low-degree terms."
      ],
      "metadata": {
        "id": "7nxwS03GM8hP"
      }
    },
    {
      "cell_type": "markdown",
      "source": [
        "**Similarity Features**"
      ],
      "metadata": {
        "id": "CAjM4FxfNMrp"
      }
    },
    {
      "cell_type": "markdown",
      "source": [
        "Another technique to tackle nonlinear problems is to add features computed using a\n",
        "similarity function that measures how much each instance resembles a particular\n",
        "landmark.\n",
        "\n",
        "You may wonder how to select the landmarks. The simplest approach is to create a\n",
        "landmark at the location of each and every instance in the dataset. This creates many\n",
        "dimensions and thus increases the chances that the transformed training set will be\n",
        "linearly separable. The downside is that a training set with m instances and n features\n",
        "gets transformed into a training set with m instances and m features (assuming you\n",
        "drop the original features). If your training set is very large, you end up with an\n",
        "equally large number of features."
      ],
      "metadata": {
        "id": "1NMHgqYONROd"
      }
    },
    {
      "cell_type": "markdown",
      "source": [
        "**Gaussian RBF Kernel**"
      ],
      "metadata": {
        "id": "VenagwIINfsh"
      }
    },
    {
      "cell_type": "markdown",
      "source": [
        "Just like the polynomial features method, the similarity features method can be useful\n",
        "with any Machine Learning algorithm, but it may be computationally expensive to\n",
        "compute all the additional features, especially on large training sets. However, once\n",
        "again the kernel trick does its SVM magic: it makes it possible to obtain a similar\n",
        "result as if you had added many similarity features, without actually having to add\n",
        "them. Let’s try the Gaussian RBF kernel using the SVC class:"
      ],
      "metadata": {
        "id": "BgTek8yLtL0X"
      }
    },
    {
      "cell_type": "code",
      "source": [
        "rbf_kernel_svm_clf=make_pipeline(StandardScaler(),SVC(kernel=\"rbf\",gamma=5,C=0.001))\n",
        "rbf_kernel_svm_clf.fit(x,y)"
      ],
      "metadata": {
        "colab": {
          "base_uri": "https://localhost:8080/",
          "height": 125
        },
        "id": "KLKUD5j6uEh3",
        "outputId": "5f2248ee-b07c-4cfe-9ffd-bfce373fac39"
      },
      "execution_count": 116,
      "outputs": [
        {
          "output_type": "execute_result",
          "data": {
            "text/plain": [
              "Pipeline(steps=[('standardscaler', StandardScaler()),\n",
              "                ('svc', SVC(C=0.001, gamma=5))])"
            ],
            "text/html": [
              "<style>#sk-container-id-25 {color: black;background-color: white;}#sk-container-id-25 pre{padding: 0;}#sk-container-id-25 div.sk-toggleable {background-color: white;}#sk-container-id-25 label.sk-toggleable__label {cursor: pointer;display: block;width: 100%;margin-bottom: 0;padding: 0.3em;box-sizing: border-box;text-align: center;}#sk-container-id-25 label.sk-toggleable__label-arrow:before {content: \"▸\";float: left;margin-right: 0.25em;color: #696969;}#sk-container-id-25 label.sk-toggleable__label-arrow:hover:before {color: black;}#sk-container-id-25 div.sk-estimator:hover label.sk-toggleable__label-arrow:before {color: black;}#sk-container-id-25 div.sk-toggleable__content {max-height: 0;max-width: 0;overflow: hidden;text-align: left;background-color: #f0f8ff;}#sk-container-id-25 div.sk-toggleable__content pre {margin: 0.2em;color: black;border-radius: 0.25em;background-color: #f0f8ff;}#sk-container-id-25 input.sk-toggleable__control:checked~div.sk-toggleable__content {max-height: 200px;max-width: 100%;overflow: auto;}#sk-container-id-25 input.sk-toggleable__control:checked~label.sk-toggleable__label-arrow:before {content: \"▾\";}#sk-container-id-25 div.sk-estimator input.sk-toggleable__control:checked~label.sk-toggleable__label {background-color: #d4ebff;}#sk-container-id-25 div.sk-label input.sk-toggleable__control:checked~label.sk-toggleable__label {background-color: #d4ebff;}#sk-container-id-25 input.sk-hidden--visually {border: 0;clip: rect(1px 1px 1px 1px);clip: rect(1px, 1px, 1px, 1px);height: 1px;margin: -1px;overflow: hidden;padding: 0;position: absolute;width: 1px;}#sk-container-id-25 div.sk-estimator {font-family: monospace;background-color: #f0f8ff;border: 1px dotted black;border-radius: 0.25em;box-sizing: border-box;margin-bottom: 0.5em;}#sk-container-id-25 div.sk-estimator:hover {background-color: #d4ebff;}#sk-container-id-25 div.sk-parallel-item::after {content: \"\";width: 100%;border-bottom: 1px solid gray;flex-grow: 1;}#sk-container-id-25 div.sk-label:hover label.sk-toggleable__label {background-color: #d4ebff;}#sk-container-id-25 div.sk-serial::before {content: \"\";position: absolute;border-left: 1px solid gray;box-sizing: border-box;top: 0;bottom: 0;left: 50%;z-index: 0;}#sk-container-id-25 div.sk-serial {display: flex;flex-direction: column;align-items: center;background-color: white;padding-right: 0.2em;padding-left: 0.2em;position: relative;}#sk-container-id-25 div.sk-item {position: relative;z-index: 1;}#sk-container-id-25 div.sk-parallel {display: flex;align-items: stretch;justify-content: center;background-color: white;position: relative;}#sk-container-id-25 div.sk-item::before, #sk-container-id-25 div.sk-parallel-item::before {content: \"\";position: absolute;border-left: 1px solid gray;box-sizing: border-box;top: 0;bottom: 0;left: 50%;z-index: -1;}#sk-container-id-25 div.sk-parallel-item {display: flex;flex-direction: column;z-index: 1;position: relative;background-color: white;}#sk-container-id-25 div.sk-parallel-item:first-child::after {align-self: flex-end;width: 50%;}#sk-container-id-25 div.sk-parallel-item:last-child::after {align-self: flex-start;width: 50%;}#sk-container-id-25 div.sk-parallel-item:only-child::after {width: 0;}#sk-container-id-25 div.sk-dashed-wrapped {border: 1px dashed gray;margin: 0 0.4em 0.5em 0.4em;box-sizing: border-box;padding-bottom: 0.4em;background-color: white;}#sk-container-id-25 div.sk-label label {font-family: monospace;font-weight: bold;display: inline-block;line-height: 1.2em;}#sk-container-id-25 div.sk-label-container {text-align: center;}#sk-container-id-25 div.sk-container {/* jupyter's `normalize.less` sets `[hidden] { display: none; }` but bootstrap.min.css set `[hidden] { display: none !important; }` so we also need the `!important` here to be able to override the default hidden behavior on the sphinx rendered scikit-learn.org. See: https://github.com/scikit-learn/scikit-learn/issues/21755 */display: inline-block !important;position: relative;}#sk-container-id-25 div.sk-text-repr-fallback {display: none;}</style><div id=\"sk-container-id-25\" class=\"sk-top-container\"><div class=\"sk-text-repr-fallback\"><pre>Pipeline(steps=[(&#x27;standardscaler&#x27;, StandardScaler()),\n",
              "                (&#x27;svc&#x27;, SVC(C=0.001, gamma=5))])</pre><b>In a Jupyter environment, please rerun this cell to show the HTML representation or trust the notebook. <br />On GitHub, the HTML representation is unable to render, please try loading this page with nbviewer.org.</b></div><div class=\"sk-container\" hidden><div class=\"sk-item sk-dashed-wrapped\"><div class=\"sk-label-container\"><div class=\"sk-label sk-toggleable\"><input class=\"sk-toggleable__control sk-hidden--visually\" id=\"sk-estimator-id-48\" type=\"checkbox\" ><label for=\"sk-estimator-id-48\" class=\"sk-toggleable__label sk-toggleable__label-arrow\">Pipeline</label><div class=\"sk-toggleable__content\"><pre>Pipeline(steps=[(&#x27;standardscaler&#x27;, StandardScaler()),\n",
              "                (&#x27;svc&#x27;, SVC(C=0.001, gamma=5))])</pre></div></div></div><div class=\"sk-serial\"><div class=\"sk-item\"><div class=\"sk-estimator sk-toggleable\"><input class=\"sk-toggleable__control sk-hidden--visually\" id=\"sk-estimator-id-49\" type=\"checkbox\" ><label for=\"sk-estimator-id-49\" class=\"sk-toggleable__label sk-toggleable__label-arrow\">StandardScaler</label><div class=\"sk-toggleable__content\"><pre>StandardScaler()</pre></div></div></div><div class=\"sk-item\"><div class=\"sk-estimator sk-toggleable\"><input class=\"sk-toggleable__control sk-hidden--visually\" id=\"sk-estimator-id-50\" type=\"checkbox\" ><label for=\"sk-estimator-id-50\" class=\"sk-toggleable__label sk-toggleable__label-arrow\">SVC</label><div class=\"sk-toggleable__content\"><pre>SVC(C=0.001, gamma=5)</pre></div></div></div></div></div></div></div>"
            ]
          },
          "metadata": {},
          "execution_count": 116
        }
      ]
    },
    {
      "cell_type": "markdown",
      "source": [
        "Conversely, a small gamma\n",
        "value makes the bell-shaped curve wider, so instances have a larger range of influence, and the decision boundary ends up smoother. So γ acts like a regularization\n",
        "hyperparameter: if your model is overfitting, you should reduce it, and if it is underfitting, you should increase it"
      ],
      "metadata": {
        "id": "sn_xP4cVuCxk"
      }
    },
    {
      "cell_type": "markdown",
      "source": [
        "**SVM Classes and Computational Complexity**"
      ],
      "metadata": {
        "id": "_CTV-EQsDEbS"
      }
    },
    {
      "cell_type": "markdown",
      "source": [
        "The LinearSVC class is based on the liblinear library, which implements an optimized\n",
        "algorithm for linear SVMs.\n",
        " It does not support the kernel trick, but it scales almost linearly with the number of training instances and the number of features: its training\n",
        "time complexity is roughly O(m × n).\n",
        "The algorithm takes longer if you require a very high precision. This is controlled by\n",
        "the tolerance hyperparameter ϵ (called tol in Scikit-Learn). In most classification\n",
        "tasks, the default tolerance is fine.\n",
        "\n",
        "\n",
        "The SVC class is based on the libsvm library, which implements an algorithm that supports the kernel trick.2\n",
        " The training time complexity is usually between O(m^2× n)\n",
        "and O(m^3× n). Unfortunately, this means that it gets dreadfully slow when the number of training instances gets large (e.g., hundreds of thousands of instances). This\n",
        "algorithm is perfect for complex but small or medium training sets. However, it scales\n",
        "well with the number of features, especially with sparse features (i.e., when each\n",
        "instance has few nonzero features). In this case, the algorithm scales roughly with the\n",
        "average number of nonzero features per instance.\n",
        "\n",
        "The SGDClassifier class also performs large margin classification by default and its hyperparameters-especially the  regularization hyperparameters and the learning rate can be adjusted to produce similar results as the linear SVMs. For training it uses stochastic gradient descent which allows incremental learning and uses little memory, so you can use it to train a model on large dataset that does not fit in RAM.Moreover it scales very well as its computational complexity is O(mxn).\n",
        "\n",
        "![image.png](data:image/png;base64,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)"
      ],
      "metadata": {
        "id": "jWiaqJx3DKWf"
      }
    },
    {
      "cell_type": "markdown",
      "source": [
        "**SVM Regression**"
      ],
      "metadata": {
        "id": "UhneAaGeGOQ3"
      }
    },
    {
      "cell_type": "markdown",
      "source": [
        "SVM Regression\n",
        "tries to fit as many instances as possible on the street while limiting margin violations\n",
        "(i.e., instances off the street). The width of the street is controlled by a hyperparameter ϵ.\n",
        "Reducing ϵ increases the number of support vectors which regularizes the model. Moreover if you add more training instances wihin the margin, it will not effect the models predictionsthus the model is said to be ϵ-insensitive."
      ],
      "metadata": {
        "id": "ay5xntqHGTGn"
      }
    },
    {
      "cell_type": "code",
      "source": [
        "from sklearn.svm import LinearSVR\n",
        "svm_reg=LinearSVR(epsilon=0.5,random_state=42)\n",
        "svm_reg.fit(x,y)"
      ],
      "metadata": {
        "colab": {
          "base_uri": "https://localhost:8080/",
          "height": 74
        },
        "id": "z9Ur40o5HnZJ",
        "outputId": "b07b3406-8018-4841-e5f2-027f0d208486"
      },
      "execution_count": 117,
      "outputs": [
        {
          "output_type": "execute_result",
          "data": {
            "text/plain": [
              "LinearSVR(epsilon=0.5, random_state=42)"
            ],
            "text/html": [
              "<style>#sk-container-id-26 {color: black;background-color: white;}#sk-container-id-26 pre{padding: 0;}#sk-container-id-26 div.sk-toggleable {background-color: white;}#sk-container-id-26 label.sk-toggleable__label {cursor: pointer;display: block;width: 100%;margin-bottom: 0;padding: 0.3em;box-sizing: border-box;text-align: center;}#sk-container-id-26 label.sk-toggleable__label-arrow:before {content: \"▸\";float: left;margin-right: 0.25em;color: #696969;}#sk-container-id-26 label.sk-toggleable__label-arrow:hover:before {color: black;}#sk-container-id-26 div.sk-estimator:hover label.sk-toggleable__label-arrow:before {color: black;}#sk-container-id-26 div.sk-toggleable__content {max-height: 0;max-width: 0;overflow: hidden;text-align: left;background-color: #f0f8ff;}#sk-container-id-26 div.sk-toggleable__content pre {margin: 0.2em;color: black;border-radius: 0.25em;background-color: #f0f8ff;}#sk-container-id-26 input.sk-toggleable__control:checked~div.sk-toggleable__content {max-height: 200px;max-width: 100%;overflow: auto;}#sk-container-id-26 input.sk-toggleable__control:checked~label.sk-toggleable__label-arrow:before {content: \"▾\";}#sk-container-id-26 div.sk-estimator input.sk-toggleable__control:checked~label.sk-toggleable__label {background-color: #d4ebff;}#sk-container-id-26 div.sk-label input.sk-toggleable__control:checked~label.sk-toggleable__label {background-color: #d4ebff;}#sk-container-id-26 input.sk-hidden--visually {border: 0;clip: rect(1px 1px 1px 1px);clip: rect(1px, 1px, 1px, 1px);height: 1px;margin: -1px;overflow: hidden;padding: 0;position: absolute;width: 1px;}#sk-container-id-26 div.sk-estimator {font-family: monospace;background-color: #f0f8ff;border: 1px dotted black;border-radius: 0.25em;box-sizing: border-box;margin-bottom: 0.5em;}#sk-container-id-26 div.sk-estimator:hover {background-color: #d4ebff;}#sk-container-id-26 div.sk-parallel-item::after {content: \"\";width: 100%;border-bottom: 1px solid gray;flex-grow: 1;}#sk-container-id-26 div.sk-label:hover label.sk-toggleable__label {background-color: #d4ebff;}#sk-container-id-26 div.sk-serial::before {content: \"\";position: absolute;border-left: 1px solid gray;box-sizing: border-box;top: 0;bottom: 0;left: 50%;z-index: 0;}#sk-container-id-26 div.sk-serial {display: flex;flex-direction: column;align-items: center;background-color: white;padding-right: 0.2em;padding-left: 0.2em;position: relative;}#sk-container-id-26 div.sk-item {position: relative;z-index: 1;}#sk-container-id-26 div.sk-parallel {display: flex;align-items: stretch;justify-content: center;background-color: white;position: relative;}#sk-container-id-26 div.sk-item::before, #sk-container-id-26 div.sk-parallel-item::before {content: \"\";position: absolute;border-left: 1px solid gray;box-sizing: border-box;top: 0;bottom: 0;left: 50%;z-index: -1;}#sk-container-id-26 div.sk-parallel-item {display: flex;flex-direction: column;z-index: 1;position: relative;background-color: white;}#sk-container-id-26 div.sk-parallel-item:first-child::after {align-self: flex-end;width: 50%;}#sk-container-id-26 div.sk-parallel-item:last-child::after {align-self: flex-start;width: 50%;}#sk-container-id-26 div.sk-parallel-item:only-child::after {width: 0;}#sk-container-id-26 div.sk-dashed-wrapped {border: 1px dashed gray;margin: 0 0.4em 0.5em 0.4em;box-sizing: border-box;padding-bottom: 0.4em;background-color: white;}#sk-container-id-26 div.sk-label label {font-family: monospace;font-weight: bold;display: inline-block;line-height: 1.2em;}#sk-container-id-26 div.sk-label-container {text-align: center;}#sk-container-id-26 div.sk-container {/* jupyter's `normalize.less` sets `[hidden] { display: none; }` but bootstrap.min.css set `[hidden] { display: none !important; }` so we also need the `!important` here to be able to override the default hidden behavior on the sphinx rendered scikit-learn.org. See: https://github.com/scikit-learn/scikit-learn/issues/21755 */display: inline-block !important;position: relative;}#sk-container-id-26 div.sk-text-repr-fallback {display: none;}</style><div id=\"sk-container-id-26\" class=\"sk-top-container\"><div class=\"sk-text-repr-fallback\"><pre>LinearSVR(epsilon=0.5, random_state=42)</pre><b>In a Jupyter environment, please rerun this cell to show the HTML representation or trust the notebook. <br />On GitHub, the HTML representation is unable to render, please try loading this page with nbviewer.org.</b></div><div class=\"sk-container\" hidden><div class=\"sk-item\"><div class=\"sk-estimator sk-toggleable\"><input class=\"sk-toggleable__control sk-hidden--visually\" id=\"sk-estimator-id-51\" type=\"checkbox\" checked><label for=\"sk-estimator-id-51\" class=\"sk-toggleable__label sk-toggleable__label-arrow\">LinearSVR</label><div class=\"sk-toggleable__content\"><pre>LinearSVR(epsilon=0.5, random_state=42)</pre></div></div></div></div></div>"
            ]
          },
          "metadata": {},
          "execution_count": 117
        }
      ]
    },
    {
      "cell_type": "code",
      "source": [
        "from sklearn.svm import SVR\n",
        "svm_poly_reg=SVR(kernel=\"poly\",degree=2,C=0.01,epsilon=0.1)\n",
        "svm_poly_reg.fit(x,y)"
      ],
      "metadata": {
        "colab": {
          "base_uri": "https://localhost:8080/",
          "height": 74
        },
        "id": "nDkytWaUIC8D",
        "outputId": "3f4e3ba5-74a2-4866-b377-59ff99e55b59"
      },
      "execution_count": 118,
      "outputs": [
        {
          "output_type": "execute_result",
          "data": {
            "text/plain": [
              "SVR(C=0.01, degree=2, kernel='poly')"
            ],
            "text/html": [
              "<style>#sk-container-id-27 {color: black;background-color: white;}#sk-container-id-27 pre{padding: 0;}#sk-container-id-27 div.sk-toggleable {background-color: white;}#sk-container-id-27 label.sk-toggleable__label {cursor: pointer;display: block;width: 100%;margin-bottom: 0;padding: 0.3em;box-sizing: border-box;text-align: center;}#sk-container-id-27 label.sk-toggleable__label-arrow:before {content: \"▸\";float: left;margin-right: 0.25em;color: #696969;}#sk-container-id-27 label.sk-toggleable__label-arrow:hover:before {color: black;}#sk-container-id-27 div.sk-estimator:hover label.sk-toggleable__label-arrow:before {color: black;}#sk-container-id-27 div.sk-toggleable__content {max-height: 0;max-width: 0;overflow: hidden;text-align: left;background-color: #f0f8ff;}#sk-container-id-27 div.sk-toggleable__content pre {margin: 0.2em;color: black;border-radius: 0.25em;background-color: #f0f8ff;}#sk-container-id-27 input.sk-toggleable__control:checked~div.sk-toggleable__content {max-height: 200px;max-width: 100%;overflow: auto;}#sk-container-id-27 input.sk-toggleable__control:checked~label.sk-toggleable__label-arrow:before {content: \"▾\";}#sk-container-id-27 div.sk-estimator input.sk-toggleable__control:checked~label.sk-toggleable__label {background-color: #d4ebff;}#sk-container-id-27 div.sk-label input.sk-toggleable__control:checked~label.sk-toggleable__label {background-color: #d4ebff;}#sk-container-id-27 input.sk-hidden--visually {border: 0;clip: rect(1px 1px 1px 1px);clip: rect(1px, 1px, 1px, 1px);height: 1px;margin: -1px;overflow: hidden;padding: 0;position: absolute;width: 1px;}#sk-container-id-27 div.sk-estimator {font-family: monospace;background-color: #f0f8ff;border: 1px dotted black;border-radius: 0.25em;box-sizing: border-box;margin-bottom: 0.5em;}#sk-container-id-27 div.sk-estimator:hover {background-color: #d4ebff;}#sk-container-id-27 div.sk-parallel-item::after {content: \"\";width: 100%;border-bottom: 1px solid gray;flex-grow: 1;}#sk-container-id-27 div.sk-label:hover label.sk-toggleable__label {background-color: #d4ebff;}#sk-container-id-27 div.sk-serial::before {content: \"\";position: absolute;border-left: 1px solid gray;box-sizing: border-box;top: 0;bottom: 0;left: 50%;z-index: 0;}#sk-container-id-27 div.sk-serial {display: flex;flex-direction: column;align-items: center;background-color: white;padding-right: 0.2em;padding-left: 0.2em;position: relative;}#sk-container-id-27 div.sk-item {position: relative;z-index: 1;}#sk-container-id-27 div.sk-parallel {display: flex;align-items: stretch;justify-content: center;background-color: white;position: relative;}#sk-container-id-27 div.sk-item::before, #sk-container-id-27 div.sk-parallel-item::before {content: \"\";position: absolute;border-left: 1px solid gray;box-sizing: border-box;top: 0;bottom: 0;left: 50%;z-index: -1;}#sk-container-id-27 div.sk-parallel-item {display: flex;flex-direction: column;z-index: 1;position: relative;background-color: white;}#sk-container-id-27 div.sk-parallel-item:first-child::after {align-self: flex-end;width: 50%;}#sk-container-id-27 div.sk-parallel-item:last-child::after {align-self: flex-start;width: 50%;}#sk-container-id-27 div.sk-parallel-item:only-child::after {width: 0;}#sk-container-id-27 div.sk-dashed-wrapped {border: 1px dashed gray;margin: 0 0.4em 0.5em 0.4em;box-sizing: border-box;padding-bottom: 0.4em;background-color: white;}#sk-container-id-27 div.sk-label label {font-family: monospace;font-weight: bold;display: inline-block;line-height: 1.2em;}#sk-container-id-27 div.sk-label-container {text-align: center;}#sk-container-id-27 div.sk-container {/* jupyter's `normalize.less` sets `[hidden] { display: none; }` but bootstrap.min.css set `[hidden] { display: none !important; }` so we also need the `!important` here to be able to override the default hidden behavior on the sphinx rendered scikit-learn.org. See: https://github.com/scikit-learn/scikit-learn/issues/21755 */display: inline-block !important;position: relative;}#sk-container-id-27 div.sk-text-repr-fallback {display: none;}</style><div id=\"sk-container-id-27\" class=\"sk-top-container\"><div class=\"sk-text-repr-fallback\"><pre>SVR(C=0.01, degree=2, kernel=&#x27;poly&#x27;)</pre><b>In a Jupyter environment, please rerun this cell to show the HTML representation or trust the notebook. <br />On GitHub, the HTML representation is unable to render, please try loading this page with nbviewer.org.</b></div><div class=\"sk-container\" hidden><div class=\"sk-item\"><div class=\"sk-estimator sk-toggleable\"><input class=\"sk-toggleable__control sk-hidden--visually\" id=\"sk-estimator-id-52\" type=\"checkbox\" checked><label for=\"sk-estimator-id-52\" class=\"sk-toggleable__label sk-toggleable__label-arrow\">SVR</label><div class=\"sk-toggleable__content\"><pre>SVR(C=0.01, degree=2, kernel=&#x27;poly&#x27;)</pre></div></div></div></div></div>"
            ]
          },
          "metadata": {},
          "execution_count": 118
        }
      ]
    },
    {
      "cell_type": "markdown",
      "source": [
        "The SVR class is the regression equivalent of the SVC class, and the LinearSVR class is the regression equivalent\n",
        "of the LinearSVC class. The LinearSVR class scales linearly with the size of the training set (just like the LinearSVC class), while the SVR class gets much too slow when\n",
        "the training set grows large (just like the SVC class)"
      ],
      "metadata": {
        "id": "39Tf-NWPI4Jn"
      }
    },
    {
      "cell_type": "markdown",
      "source": [
        "##**4.Decision Trees**"
      ],
      "metadata": {
        "id": "kEAP_5LpJWGH"
      }
    },
    {
      "cell_type": "markdown",
      "source": [
        " Decision Trees are versatile Machine Learning algorithms that can perform both classification and regression tasks, and even multioutput tasks. They are\n",
        "very powerful algorithms, capable of fitting complex datasets.\n",
        "\n",
        "Decision Trees are also the fundamental components of Random Forests, which are among the most powerful Machine Learning algorithms available\n",
        "today"
      ],
      "metadata": {
        "id": "G6HqBzrhJgoY"
      }
    },
    {
      "cell_type": "markdown",
      "source": [
        "**Training and Visualizing Decision Tree**"
      ],
      "metadata": {
        "id": "sRFw1qKEOV4K"
      }
    },
    {
      "cell_type": "code",
      "source": [
        "from sklearn.datasets import load_iris\n",
        "from sklearn.tree import DecisionTreeClassifier\n",
        "\n",
        "iris=load_iris(as_frame=True)\n",
        "x_iris=iris.data[[\"petal length (cm)\",\"petal width (cm)\"]].values\n",
        "y_iris=iris.target\n",
        "\n",
        "tree_clf=DecisionTreeClassifier(max_depth=2,random_state=42)\n",
        "tree_clf.fit(x_iris,y_iris)"
      ],
      "metadata": {
        "colab": {
          "base_uri": "https://localhost:8080/",
          "height": 74
        },
        "id": "NSKND6qhObu4",
        "outputId": "863b85e4-30bd-4569-9dbf-f087a2f90685"
      },
      "execution_count": 119,
      "outputs": [
        {
          "output_type": "execute_result",
          "data": {
            "text/plain": [
              "DecisionTreeClassifier(max_depth=2, random_state=42)"
            ],
            "text/html": [
              "<style>#sk-container-id-28 {color: black;background-color: white;}#sk-container-id-28 pre{padding: 0;}#sk-container-id-28 div.sk-toggleable {background-color: white;}#sk-container-id-28 label.sk-toggleable__label {cursor: pointer;display: block;width: 100%;margin-bottom: 0;padding: 0.3em;box-sizing: border-box;text-align: center;}#sk-container-id-28 label.sk-toggleable__label-arrow:before {content: \"▸\";float: left;margin-right: 0.25em;color: #696969;}#sk-container-id-28 label.sk-toggleable__label-arrow:hover:before {color: black;}#sk-container-id-28 div.sk-estimator:hover label.sk-toggleable__label-arrow:before {color: black;}#sk-container-id-28 div.sk-toggleable__content {max-height: 0;max-width: 0;overflow: hidden;text-align: left;background-color: #f0f8ff;}#sk-container-id-28 div.sk-toggleable__content pre {margin: 0.2em;color: black;border-radius: 0.25em;background-color: #f0f8ff;}#sk-container-id-28 input.sk-toggleable__control:checked~div.sk-toggleable__content {max-height: 200px;max-width: 100%;overflow: auto;}#sk-container-id-28 input.sk-toggleable__control:checked~label.sk-toggleable__label-arrow:before {content: \"▾\";}#sk-container-id-28 div.sk-estimator input.sk-toggleable__control:checked~label.sk-toggleable__label {background-color: #d4ebff;}#sk-container-id-28 div.sk-label input.sk-toggleable__control:checked~label.sk-toggleable__label {background-color: #d4ebff;}#sk-container-id-28 input.sk-hidden--visually {border: 0;clip: rect(1px 1px 1px 1px);clip: rect(1px, 1px, 1px, 1px);height: 1px;margin: -1px;overflow: hidden;padding: 0;position: absolute;width: 1px;}#sk-container-id-28 div.sk-estimator {font-family: monospace;background-color: #f0f8ff;border: 1px dotted black;border-radius: 0.25em;box-sizing: border-box;margin-bottom: 0.5em;}#sk-container-id-28 div.sk-estimator:hover {background-color: #d4ebff;}#sk-container-id-28 div.sk-parallel-item::after {content: \"\";width: 100%;border-bottom: 1px solid gray;flex-grow: 1;}#sk-container-id-28 div.sk-label:hover label.sk-toggleable__label {background-color: #d4ebff;}#sk-container-id-28 div.sk-serial::before {content: \"\";position: absolute;border-left: 1px solid gray;box-sizing: border-box;top: 0;bottom: 0;left: 50%;z-index: 0;}#sk-container-id-28 div.sk-serial {display: flex;flex-direction: column;align-items: center;background-color: white;padding-right: 0.2em;padding-left: 0.2em;position: relative;}#sk-container-id-28 div.sk-item {position: relative;z-index: 1;}#sk-container-id-28 div.sk-parallel {display: flex;align-items: stretch;justify-content: center;background-color: white;position: relative;}#sk-container-id-28 div.sk-item::before, #sk-container-id-28 div.sk-parallel-item::before {content: \"\";position: absolute;border-left: 1px solid gray;box-sizing: border-box;top: 0;bottom: 0;left: 50%;z-index: -1;}#sk-container-id-28 div.sk-parallel-item {display: flex;flex-direction: column;z-index: 1;position: relative;background-color: white;}#sk-container-id-28 div.sk-parallel-item:first-child::after {align-self: flex-end;width: 50%;}#sk-container-id-28 div.sk-parallel-item:last-child::after {align-self: flex-start;width: 50%;}#sk-container-id-28 div.sk-parallel-item:only-child::after {width: 0;}#sk-container-id-28 div.sk-dashed-wrapped {border: 1px dashed gray;margin: 0 0.4em 0.5em 0.4em;box-sizing: border-box;padding-bottom: 0.4em;background-color: white;}#sk-container-id-28 div.sk-label label {font-family: monospace;font-weight: bold;display: inline-block;line-height: 1.2em;}#sk-container-id-28 div.sk-label-container {text-align: center;}#sk-container-id-28 div.sk-container {/* jupyter's `normalize.less` sets `[hidden] { display: none; }` but bootstrap.min.css set `[hidden] { display: none !important; }` so we also need the `!important` here to be able to override the default hidden behavior on the sphinx rendered scikit-learn.org. See: https://github.com/scikit-learn/scikit-learn/issues/21755 */display: inline-block !important;position: relative;}#sk-container-id-28 div.sk-text-repr-fallback {display: none;}</style><div id=\"sk-container-id-28\" class=\"sk-top-container\"><div class=\"sk-text-repr-fallback\"><pre>DecisionTreeClassifier(max_depth=2, random_state=42)</pre><b>In a Jupyter environment, please rerun this cell to show the HTML representation or trust the notebook. <br />On GitHub, the HTML representation is unable to render, please try loading this page with nbviewer.org.</b></div><div class=\"sk-container\" hidden><div class=\"sk-item\"><div class=\"sk-estimator sk-toggleable\"><input class=\"sk-toggleable__control sk-hidden--visually\" id=\"sk-estimator-id-53\" type=\"checkbox\" checked><label for=\"sk-estimator-id-53\" class=\"sk-toggleable__label sk-toggleable__label-arrow\">DecisionTreeClassifier</label><div class=\"sk-toggleable__content\"><pre>DecisionTreeClassifier(max_depth=2, random_state=42)</pre></div></div></div></div></div>"
            ]
          },
          "metadata": {},
          "execution_count": 119
        }
      ]
    },
    {
      "cell_type": "markdown",
      "source": [
        "You can visualize the trained decision tree by first using the export_graphviz() function output a graph definition file iris_tree.dot."
      ],
      "metadata": {
        "id": "D_gdXrGCPKLA"
      }
    },
    {
      "cell_type": "code",
      "source": [
        "from sklearn.tree import export_graphviz\n",
        "export_graphviz(\n",
        "    tree_clf,\n",
        "    out_file=\"iris_tree.dot\",\n",
        "    feature_names=[\"petal length (cm)\",\"petal width (cm)\"],\n",
        "    class_names=iris.target_names,\n",
        "    rounded=True,\n",
        "    filled=True\n",
        ")"
      ],
      "metadata": {
        "id": "_7Xd66EtPkMF"
      },
      "execution_count": 120,
      "outputs": []
    },
    {
      "cell_type": "code",
      "source": [
        "from graphviz import Source\n",
        "Source.from_file(\"iris_tree.dot\")"
      ],
      "metadata": {
        "colab": {
          "base_uri": "https://localhost:8080/",
          "height": 440
        },
        "id": "lBQ5hnTRQMEp",
        "outputId": "19ed9ac4-d8d8-41d4-cc13-2ecc8d3ef29d"
      },
      "execution_count": 121,
      "outputs": [
        {
          "output_type": "execute_result",
          "data": {
            "image/svg+xml": "<?xml version=\"1.0\" encoding=\"UTF-8\" standalone=\"no\"?>\n<!DOCTYPE svg PUBLIC \"-//W3C//DTD SVG 1.1//EN\"\n \"http://www.w3.org/Graphics/SVG/1.1/DTD/svg11.dtd\">\n<!-- Generated by graphviz version 2.43.0 (0)\n -->\n<!-- Title: Tree Pages: 1 -->\n<svg width=\"351pt\" height=\"314pt\"\n viewBox=\"0.00 0.00 351.00 314.00\" xmlns=\"http://www.w3.org/2000/svg\" xmlns:xlink=\"http://www.w3.org/1999/xlink\">\n<g id=\"graph0\" class=\"graph\" transform=\"scale(1 1) rotate(0) translate(4 310)\">\n<title>Tree</title>\n<polygon fill=\"white\" stroke=\"transparent\" points=\"-4,4 -4,-310 347,-310 347,4 -4,4\"/>\n<!-- 0 -->\n<g id=\"node1\" class=\"node\">\n<title>0</title>\n<path fill=\"#ffffff\" stroke=\"black\" d=\"M209.5,-306C209.5,-306 65.5,-306 65.5,-306 59.5,-306 53.5,-300 53.5,-294 53.5,-294 53.5,-235 53.5,-235 53.5,-229 59.5,-223 65.5,-223 65.5,-223 209.5,-223 209.5,-223 215.5,-223 221.5,-229 221.5,-235 221.5,-235 221.5,-294 221.5,-294 221.5,-300 215.5,-306 209.5,-306\"/>\n<text text-anchor=\"middle\" x=\"137.5\" y=\"-290.8\" font-family=\"Helvetica,sans-Serif\" font-size=\"14.00\">petal length (cm) &lt;= 2.45</text>\n<text text-anchor=\"middle\" x=\"137.5\" y=\"-275.8\" font-family=\"Helvetica,sans-Serif\" font-size=\"14.00\">gini = 0.667</text>\n<text text-anchor=\"middle\" x=\"137.5\" y=\"-260.8\" font-family=\"Helvetica,sans-Serif\" font-size=\"14.00\">samples = 150</text>\n<text text-anchor=\"middle\" x=\"137.5\" y=\"-245.8\" font-family=\"Helvetica,sans-Serif\" font-size=\"14.00\">value = [50, 50, 50]</text>\n<text text-anchor=\"middle\" x=\"137.5\" y=\"-230.8\" font-family=\"Helvetica,sans-Serif\" font-size=\"14.00\">class = setosa</text>\n</g>\n<!-- 1 -->\n<g id=\"node2\" class=\"node\">\n<title>1</title>\n<path fill=\"#e58139\" stroke=\"black\" d=\"M105,-179.5C105,-179.5 12,-179.5 12,-179.5 6,-179.5 0,-173.5 0,-167.5 0,-167.5 0,-123.5 0,-123.5 0,-117.5 6,-111.5 12,-111.5 12,-111.5 105,-111.5 105,-111.5 111,-111.5 117,-117.5 117,-123.5 117,-123.5 117,-167.5 117,-167.5 117,-173.5 111,-179.5 105,-179.5\"/>\n<text text-anchor=\"middle\" x=\"58.5\" y=\"-164.3\" font-family=\"Helvetica,sans-Serif\" font-size=\"14.00\">gini = 0.0</text>\n<text text-anchor=\"middle\" x=\"58.5\" y=\"-149.3\" font-family=\"Helvetica,sans-Serif\" font-size=\"14.00\">samples = 50</text>\n<text text-anchor=\"middle\" x=\"58.5\" y=\"-134.3\" font-family=\"Helvetica,sans-Serif\" font-size=\"14.00\">value = [50, 0, 0]</text>\n<text text-anchor=\"middle\" x=\"58.5\" y=\"-119.3\" font-family=\"Helvetica,sans-Serif\" font-size=\"14.00\">class = setosa</text>\n</g>\n<!-- 0&#45;&gt;1 -->\n<g id=\"edge1\" class=\"edge\">\n<title>0&#45;&gt;1</title>\n<path fill=\"none\" stroke=\"black\" d=\"M110.09,-222.91C102.49,-211.65 94.23,-199.42 86.59,-188.11\"/>\n<polygon fill=\"black\" stroke=\"black\" points=\"89.39,-186 80.89,-179.67 83.59,-189.91 89.39,-186\"/>\n<text text-anchor=\"middle\" x=\"76.14\" y=\"-200.51\" font-family=\"Helvetica,sans-Serif\" font-size=\"14.00\">True</text>\n</g>\n<!-- 2 -->\n<g id=\"node3\" class=\"node\">\n<title>2</title>\n<path fill=\"#ffffff\" stroke=\"black\" d=\"M286,-187C286,-187 147,-187 147,-187 141,-187 135,-181 135,-175 135,-175 135,-116 135,-116 135,-110 141,-104 147,-104 147,-104 286,-104 286,-104 292,-104 298,-110 298,-116 298,-116 298,-175 298,-175 298,-181 292,-187 286,-187\"/>\n<text text-anchor=\"middle\" x=\"216.5\" y=\"-171.8\" font-family=\"Helvetica,sans-Serif\" font-size=\"14.00\">petal width (cm) &lt;= 1.75</text>\n<text text-anchor=\"middle\" x=\"216.5\" y=\"-156.8\" font-family=\"Helvetica,sans-Serif\" font-size=\"14.00\">gini = 0.5</text>\n<text text-anchor=\"middle\" x=\"216.5\" y=\"-141.8\" font-family=\"Helvetica,sans-Serif\" font-size=\"14.00\">samples = 100</text>\n<text text-anchor=\"middle\" x=\"216.5\" y=\"-126.8\" font-family=\"Helvetica,sans-Serif\" font-size=\"14.00\">value = [0, 50, 50]</text>\n<text text-anchor=\"middle\" x=\"216.5\" y=\"-111.8\" font-family=\"Helvetica,sans-Serif\" font-size=\"14.00\">class = versicolor</text>\n</g>\n<!-- 0&#45;&gt;2 -->\n<g id=\"edge2\" class=\"edge\">\n<title>0&#45;&gt;2</title>\n<path fill=\"none\" stroke=\"black\" d=\"M164.91,-222.91C170.91,-214.01 177.33,-204.51 183.53,-195.33\"/>\n<polygon fill=\"black\" stroke=\"black\" points=\"186.44,-197.27 189.14,-187.02 180.64,-193.35 186.44,-197.27\"/>\n<text text-anchor=\"middle\" x=\"193.9\" y=\"-207.86\" font-family=\"Helvetica,sans-Serif\" font-size=\"14.00\">False</text>\n</g>\n<!-- 3 -->\n<g id=\"node4\" class=\"node\">\n<title>3</title>\n<path fill=\"#4de88e\" stroke=\"black\" d=\"M196,-68C196,-68 99,-68 99,-68 93,-68 87,-62 87,-56 87,-56 87,-12 87,-12 87,-6 93,0 99,0 99,0 196,0 196,0 202,0 208,-6 208,-12 208,-12 208,-56 208,-56 208,-62 202,-68 196,-68\"/>\n<text text-anchor=\"middle\" x=\"147.5\" y=\"-52.8\" font-family=\"Helvetica,sans-Serif\" font-size=\"14.00\">gini = 0.168</text>\n<text text-anchor=\"middle\" x=\"147.5\" y=\"-37.8\" font-family=\"Helvetica,sans-Serif\" font-size=\"14.00\">samples = 54</text>\n<text text-anchor=\"middle\" x=\"147.5\" y=\"-22.8\" font-family=\"Helvetica,sans-Serif\" font-size=\"14.00\">value = [0, 49, 5]</text>\n<text text-anchor=\"middle\" x=\"147.5\" y=\"-7.8\" font-family=\"Helvetica,sans-Serif\" font-size=\"14.00\">class = versicolor</text>\n</g>\n<!-- 2&#45;&gt;3 -->\n<g id=\"edge3\" class=\"edge\">\n<title>2&#45;&gt;3</title>\n<path fill=\"none\" stroke=\"black\" d=\"M190.81,-103.73C185.29,-94.97 179.45,-85.7 173.91,-76.91\"/>\n<polygon fill=\"black\" stroke=\"black\" points=\"176.78,-74.89 168.48,-68.3 170.85,-78.63 176.78,-74.89\"/>\n</g>\n<!-- 4 -->\n<g id=\"node5\" class=\"node\">\n<title>4</title>\n<path fill=\"#843de6\" stroke=\"black\" d=\"M331,-68C331,-68 238,-68 238,-68 232,-68 226,-62 226,-56 226,-56 226,-12 226,-12 226,-6 232,0 238,0 238,0 331,0 331,0 337,0 343,-6 343,-12 343,-12 343,-56 343,-56 343,-62 337,-68 331,-68\"/>\n<text text-anchor=\"middle\" x=\"284.5\" y=\"-52.8\" font-family=\"Helvetica,sans-Serif\" font-size=\"14.00\">gini = 0.043</text>\n<text text-anchor=\"middle\" x=\"284.5\" y=\"-37.8\" font-family=\"Helvetica,sans-Serif\" font-size=\"14.00\">samples = 46</text>\n<text text-anchor=\"middle\" x=\"284.5\" y=\"-22.8\" font-family=\"Helvetica,sans-Serif\" font-size=\"14.00\">value = [0, 1, 45]</text>\n<text text-anchor=\"middle\" x=\"284.5\" y=\"-7.8\" font-family=\"Helvetica,sans-Serif\" font-size=\"14.00\">class = virginica</text>\n</g>\n<!-- 2&#45;&gt;4 -->\n<g id=\"edge4\" class=\"edge\">\n<title>2&#45;&gt;4</title>\n<path fill=\"none\" stroke=\"black\" d=\"M241.82,-103.73C247.26,-94.97 253.01,-85.7 258.48,-76.91\"/>\n<polygon fill=\"black\" stroke=\"black\" points=\"261.52,-78.64 263.82,-68.3 255.57,-74.95 261.52,-78.64\"/>\n</g>\n</g>\n</svg>\n",
            "text/plain": [
              "<graphviz.sources.Source at 0x7c981ae1f130>"
            ]
          },
          "metadata": {},
          "execution_count": 121
        }
      ]
    },
    {
      "cell_type": "markdown",
      "source": [
        "**Making Predictions**"
      ],
      "metadata": {
        "id": "rvq8Pk1-QcNo"
      }
    },
    {
      "cell_type": "markdown",
      "source": [
        "Suppose you find\n",
        "an iris flower and you want to classify it. You start at the root node (depth 0, at the\n",
        "top): this node asks whether the flower’s petal length is smaller than 2.45 cm. If it is,\n",
        "then you move down to the root’s left child node (depth 1, left). In this case, it is a leaf\n",
        "node (i.e., it does not have any children nodes), so it does not ask any questions: you\n",
        "can simply look at the predicted class for that node and the Decision Tree predicts\n",
        "that your flower is an Iris-Setosa (class=setosa).\n",
        "\n",
        "\n",
        "Now suppose you find another flower, but this time the petal length is greater than\n",
        "2.45 cm. You must move down to the root’s right child node (depth 1, right), which is\n",
        "not a leaf node, so it asks another question: is the petal width smaller than 1.75 cm? If\n",
        "it is, then your flower is most likely an Iris-Versicolor (depth 2, left). If not, it is likely\n",
        "an Iris-Virginica (depth 2, right).\n",
        "\n",
        "A\n",
        "node’s value attribute tells you how many training instances of each class this node\n",
        "applies to: for example, the bottom-right node applies to 0 Iris-Setosa, 1 IrisVersicolor, and 45 Iris-Virginica. Finally, a node’s gini attribute measures its impurity: a node is “pure” (gini=0) if all training instances it applies to belong to the same\n",
        "class.\n",
        "\n",
        "Gini Impurity:\n",
        "![image.png](data:image/png;base64,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)\n",
        "\n",
        "In this equation:\n",
        "\n",
        "> Gi is the Gini impurity of the ith node.\n",
        "> pi,k is the ratio of class k instance among the training instances in the ith node.\n",
        "\n",
        "Scikit-Learn uses the CART algorithm, which produces only binary\n",
        "trees: nonleaf nodes always have two children (i.e., questions only\n",
        "have yes/no answers). However, other algorithms such as ID3 can\n",
        "produce Decision Trees with nodes that have more than two children.\n"
      ],
      "metadata": {
        "id": "Pl1xJH9UQg8j"
      }
    },
    {
      "cell_type": "markdown",
      "source": [
        "**Estimating Class Probabilities**"
      ],
      "metadata": {
        "id": "hELYpoQLTNMR"
      }
    },
    {
      "cell_type": "markdown",
      "source": [
        "A Decision Tree can also estimate the probability that an instance belongs to a particular class k: first it traverses the tree to find the leaf node for this instance, and then it\n",
        "returns the ratio of training instances of class k in this node."
      ],
      "metadata": {
        "id": "lwQksYDWTcJM"
      }
    },
    {
      "cell_type": "code",
      "source": [
        "tree_clf.predict_proba([[5,1.5]]).round(3)"
      ],
      "metadata": {
        "colab": {
          "base_uri": "https://localhost:8080/"
        },
        "id": "F__98lpCTlzj",
        "outputId": "2af3ba09-63c1-412b-c628-b5e74121b12d"
      },
      "execution_count": 122,
      "outputs": [
        {
          "output_type": "execute_result",
          "data": {
            "text/plain": [
              "array([[0.   , 0.907, 0.093]])"
            ]
          },
          "metadata": {},
          "execution_count": 122
        }
      ]
    },
    {
      "cell_type": "code",
      "source": [
        "tree_clf.predict([[5,1.5]])"
      ],
      "metadata": {
        "colab": {
          "base_uri": "https://localhost:8080/"
        },
        "id": "2SnGVHrhTupE",
        "outputId": "a1168184-d2fe-46ff-f821-30fb695cd8fc"
      },
      "execution_count": 123,
      "outputs": [
        {
          "output_type": "execute_result",
          "data": {
            "text/plain": [
              "array([1])"
            ]
          },
          "metadata": {},
          "execution_count": 123
        }
      ]
    },
    {
      "cell_type": "markdown",
      "source": [
        "**The CART Training Algorithm**"
      ],
      "metadata": {
        "id": "XFy6gDuOT5yv"
      }
    },
    {
      "cell_type": "markdown",
      "source": [
        " Scikit-Learn uses the Classification And Regression Tree (CART) algorithm to train\n",
        "Decision Trees (also called “growing” trees). The idea is really quite simple: the algorithm first splits the training set in two subsets using a single feature k and a threshold tk\n",
        " (e.g., “petal length ≤ 2.45 cm”).\n",
        "\n",
        " How does it choose k and tk?\n",
        "\n",
        "  It searches for the\n",
        "pair (k, tk) that produces the purest subsets (weighted by their size).\n",
        "\n",
        "CART cost function:\n",
        "\n",
        "![image.png](data:image/png;base64,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)\n",
        "\n",
        "Once it has successfully split the training set in two, it splits the subsets using the\n",
        "same logic, then the sub-subsets and so on, recursively. It stops recursing once it reaches the maximum depth (defined by the max_depth hyperparameter), or if it cannot\n",
        "find a split that will reduce impurity. A few other hyperparameters (described in a\n",
        "moment) control additional stopping conditions (min_samples_split, min_sam\n",
        "ples_leaf, min_weight_fraction_leaf, and max_leaf_nodes)."
      ],
      "metadata": {
        "id": "zQS5jYEnUKvL"
      }
    },
    {
      "cell_type": "markdown",
      "source": [
        "**Computational Complexity**"
      ],
      "metadata": {
        "id": "dBNiQXjeaJ1A"
      }
    },
    {
      "cell_type": "markdown",
      "source": [
        "Making predictions requires traversing the Decision Tree from the root to a leaf.\n",
        "Decision Trees are generally approximately balanced, so traversing the Decision Tree\n",
        "requires going through roughly O(log2\n",
        "(m)) nodes.3\n",
        " Since each node only requires\n",
        "checking the value of one feature, the overall prediction complexity is just O(log2\n",
        "(m)),\n",
        "independent of the number of features. So predictions are very fast, even when dealing with large training sets.\n",
        "However, the training algorithm compares all features (or less if max_features is set)\n",
        "on all samples at each node. This results in a training complexity of O(n × m log(m)).\n",
        "For small training sets (less than a few thousand instances), Scikit-Learn can speed up\n",
        "training by presorting the data (set presort=True), but this slows down training considerably for larger training sets."
      ],
      "metadata": {
        "id": "dRMeZiEoaj7z"
      }
    },
    {
      "cell_type": "markdown",
      "source": [
        "**Gini Impurity or Entropy**"
      ],
      "metadata": {
        "id": "8f63nm5XavoT"
      }
    },
    {
      "cell_type": "markdown",
      "source": [
        "In Machine Learning, it is frequently used as an impurity measure: a set’s entropy is zero when it contains instances of only one class.\n",
        "\n",
        "So should you use Gini impurity or entropy?\n",
        "\n",
        " The truth is, most of the time it does not\n",
        "make a big difference: they lead to similar trees. Gini impurity is slightly faster to\n",
        "compute, so it is a good default. However, when they differ, Gini impurity tends to\n",
        "isolate the most frequent class in its own branch of the tree, while entropy tends to\n",
        "produce slightly more balanced trees.\n"
      ],
      "metadata": {
        "id": "aYVszUsea3Yy"
      }
    },
    {
      "cell_type": "markdown",
      "source": [
        "**Regularization Hyperparameters**"
      ],
      "metadata": {
        "id": "Hm1kKqLU7pev"
      }
    },
    {
      "cell_type": "markdown",
      "source": [
        "Decision Trees make very few assumptions about the training data (as opposed to linear models, which obviously assume that the data is linear, for example). If left\n",
        "unconstrained, the tree structure will adapt itself to the training data, fitting it very\n",
        "closely, and most likely overfitting it. Such a model is often called a nonparametric\n",
        "model, not because it does not have any parameters (it often has a lot) but because the\n",
        "number of parameters is not determined prior to training, so the model structure is\n",
        "free to stick closely to the data. In contrast, a parametric model such as a linear model\n",
        "has a predetermined number of parameters, so its degree of freedom is limited,\n",
        "reducing the risk of overfitting (but increasing the risk of underfitting).\n",
        "\n",
        "To avoid overfitting the training data, you need to restrict the Decision Tree’s freedom\n",
        "during training. As you know by now, this is called regularization. The regularization\n",
        "hyperparameters depend on the algorithm used, but generally you can at least restrict\n",
        "the maximum depth of the Decision Tree. In Scikit-Learn, this is controlled by the\n",
        "max_depth hyperparameter (the default value is None, which means unlimited).\n",
        "Reducing max_depth will regularize the model and thus reduce the risk of overfitting.\n",
        "\n",
        "The DecisionTreeClassifier class has a few other parameters that similarly restrict\n",
        "the shape of the Decision Tree: min_samples_split (the minimum number of samples a node must have before it can be split), min_samples_leaf (the minimum number of samples a leaf node must have), min_weight_fraction_leaf (same as\n",
        "min_samples_leaf but expressed as a fraction of the total number of weighted instances), max_leaf_nodes (maximum number of leaf nodes), and max_features\n",
        "(maximum number of features that are evaluated for splitting at each node). Increasing min_* hyperparameters or reducing max_* hyperparameters will regularize the\n",
        "model.\n",
        "\n",
        "Lets test regularization on the moons dataset."
      ],
      "metadata": {
        "id": "oWD4LSb87zmU"
      }
    },
    {
      "cell_type": "code",
      "source": [
        "from sklearn.datasets import make_moons\n",
        "x_moons,y_moons=make_moons(n_samples=150,noise=0.2,random_state=42)\n",
        "\n",
        "tree_clf1=DecisionTreeClassifier(random_state=42)\n",
        "tree_clf2=DecisionTreeClassifier(min_samples_leaf=5,random_state=42)\n",
        "tree_clf1.fit(x_moons,y_moons)\n",
        "tree_clf2.fit(x_moons,y_moons)"
      ],
      "metadata": {
        "colab": {
          "base_uri": "https://localhost:8080/",
          "height": 74
        },
        "id": "00V5kmxf8dHZ",
        "outputId": "0454e1de-1a67-4151-e85f-65886c5990b0"
      },
      "execution_count": 124,
      "outputs": [
        {
          "output_type": "execute_result",
          "data": {
            "text/plain": [
              "DecisionTreeClassifier(min_samples_leaf=5, random_state=42)"
            ],
            "text/html": [
              "<style>#sk-container-id-29 {color: black;background-color: white;}#sk-container-id-29 pre{padding: 0;}#sk-container-id-29 div.sk-toggleable {background-color: white;}#sk-container-id-29 label.sk-toggleable__label {cursor: pointer;display: block;width: 100%;margin-bottom: 0;padding: 0.3em;box-sizing: border-box;text-align: center;}#sk-container-id-29 label.sk-toggleable__label-arrow:before {content: \"▸\";float: left;margin-right: 0.25em;color: #696969;}#sk-container-id-29 label.sk-toggleable__label-arrow:hover:before {color: black;}#sk-container-id-29 div.sk-estimator:hover label.sk-toggleable__label-arrow:before {color: black;}#sk-container-id-29 div.sk-toggleable__content {max-height: 0;max-width: 0;overflow: hidden;text-align: left;background-color: #f0f8ff;}#sk-container-id-29 div.sk-toggleable__content pre {margin: 0.2em;color: black;border-radius: 0.25em;background-color: #f0f8ff;}#sk-container-id-29 input.sk-toggleable__control:checked~div.sk-toggleable__content {max-height: 200px;max-width: 100%;overflow: auto;}#sk-container-id-29 input.sk-toggleable__control:checked~label.sk-toggleable__label-arrow:before {content: \"▾\";}#sk-container-id-29 div.sk-estimator input.sk-toggleable__control:checked~label.sk-toggleable__label {background-color: #d4ebff;}#sk-container-id-29 div.sk-label input.sk-toggleable__control:checked~label.sk-toggleable__label {background-color: #d4ebff;}#sk-container-id-29 input.sk-hidden--visually {border: 0;clip: rect(1px 1px 1px 1px);clip: rect(1px, 1px, 1px, 1px);height: 1px;margin: -1px;overflow: hidden;padding: 0;position: absolute;width: 1px;}#sk-container-id-29 div.sk-estimator {font-family: monospace;background-color: #f0f8ff;border: 1px dotted black;border-radius: 0.25em;box-sizing: border-box;margin-bottom: 0.5em;}#sk-container-id-29 div.sk-estimator:hover {background-color: #d4ebff;}#sk-container-id-29 div.sk-parallel-item::after {content: \"\";width: 100%;border-bottom: 1px solid gray;flex-grow: 1;}#sk-container-id-29 div.sk-label:hover label.sk-toggleable__label {background-color: #d4ebff;}#sk-container-id-29 div.sk-serial::before {content: \"\";position: absolute;border-left: 1px solid gray;box-sizing: border-box;top: 0;bottom: 0;left: 50%;z-index: 0;}#sk-container-id-29 div.sk-serial {display: flex;flex-direction: column;align-items: center;background-color: white;padding-right: 0.2em;padding-left: 0.2em;position: relative;}#sk-container-id-29 div.sk-item {position: relative;z-index: 1;}#sk-container-id-29 div.sk-parallel {display: flex;align-items: stretch;justify-content: center;background-color: white;position: relative;}#sk-container-id-29 div.sk-item::before, #sk-container-id-29 div.sk-parallel-item::before {content: \"\";position: absolute;border-left: 1px solid gray;box-sizing: border-box;top: 0;bottom: 0;left: 50%;z-index: -1;}#sk-container-id-29 div.sk-parallel-item {display: flex;flex-direction: column;z-index: 1;position: relative;background-color: white;}#sk-container-id-29 div.sk-parallel-item:first-child::after {align-self: flex-end;width: 50%;}#sk-container-id-29 div.sk-parallel-item:last-child::after {align-self: flex-start;width: 50%;}#sk-container-id-29 div.sk-parallel-item:only-child::after {width: 0;}#sk-container-id-29 div.sk-dashed-wrapped {border: 1px dashed gray;margin: 0 0.4em 0.5em 0.4em;box-sizing: border-box;padding-bottom: 0.4em;background-color: white;}#sk-container-id-29 div.sk-label label {font-family: monospace;font-weight: bold;display: inline-block;line-height: 1.2em;}#sk-container-id-29 div.sk-label-container {text-align: center;}#sk-container-id-29 div.sk-container {/* jupyter's `normalize.less` sets `[hidden] { display: none; }` but bootstrap.min.css set `[hidden] { display: none !important; }` so we also need the `!important` here to be able to override the default hidden behavior on the sphinx rendered scikit-learn.org. See: https://github.com/scikit-learn/scikit-learn/issues/21755 */display: inline-block !important;position: relative;}#sk-container-id-29 div.sk-text-repr-fallback {display: none;}</style><div id=\"sk-container-id-29\" class=\"sk-top-container\"><div class=\"sk-text-repr-fallback\"><pre>DecisionTreeClassifier(min_samples_leaf=5, random_state=42)</pre><b>In a Jupyter environment, please rerun this cell to show the HTML representation or trust the notebook. <br />On GitHub, the HTML representation is unable to render, please try loading this page with nbviewer.org.</b></div><div class=\"sk-container\" hidden><div class=\"sk-item\"><div class=\"sk-estimator sk-toggleable\"><input class=\"sk-toggleable__control sk-hidden--visually\" id=\"sk-estimator-id-54\" type=\"checkbox\" checked><label for=\"sk-estimator-id-54\" class=\"sk-toggleable__label sk-toggleable__label-arrow\">DecisionTreeClassifier</label><div class=\"sk-toggleable__content\"><pre>DecisionTreeClassifier(min_samples_leaf=5, random_state=42)</pre></div></div></div></div></div>"
            ]
          },
          "metadata": {},
          "execution_count": 124
        }
      ]
    },
    {
      "cell_type": "code",
      "source": [
        "x_moons_test,y_moons_test=make_moons(n_samples=1000,noise=0.2,random_state=42)\n",
        "tree_clf1.score(x_moons_test,y_moons_test)"
      ],
      "metadata": {
        "colab": {
          "base_uri": "https://localhost:8080/"
        },
        "id": "xh32eRxg9JUB",
        "outputId": "296cf558-d123-4239-f506-c5f6e449a157"
      },
      "execution_count": 125,
      "outputs": [
        {
          "output_type": "execute_result",
          "data": {
            "text/plain": [
              "0.901"
            ]
          },
          "metadata": {},
          "execution_count": 125
        }
      ]
    },
    {
      "cell_type": "code",
      "source": [
        "tree_clf2.score(x_moons_test,y_moons_test)"
      ],
      "metadata": {
        "colab": {
          "base_uri": "https://localhost:8080/"
        },
        "id": "ELRy2rIg9kJw",
        "outputId": "5bd9fad3-0f39-48c2-d4d8-b67c2581539d"
      },
      "execution_count": 126,
      "outputs": [
        {
          "output_type": "execute_result",
          "data": {
            "text/plain": [
              "0.918"
            ]
          },
          "metadata": {},
          "execution_count": 126
        }
      ]
    },
    {
      "cell_type": "markdown",
      "source": [
        "**Decision Tree Regressor**"
      ],
      "metadata": {
        "id": "6tra23QX-Z40"
      }
    },
    {
      "cell_type": "markdown",
      "source": [
        "Decision Trees are also capable of performing regression tasks. Let’s build a regression tree using Scikit-Learn’s DecisionTreeRegressor class, training it on a noisy\n",
        "quadratic dataset with max_depth=2:"
      ],
      "metadata": {
        "id": "6PsDGs5o-g-v"
      }
    },
    {
      "cell_type": "code",
      "source": [
        "import numpy as np\n",
        "from sklearn.tree import DecisionTreeRegressor\n",
        "\n",
        "np.random.seed(42)\n",
        "x_quad=np.random.rand(200,1)-0.5\n",
        "y_quad=x_quad**2 + 0.025*np.random.randn(200,1)\n",
        "\n",
        "tree_reg=DecisionTreeRegressor(max_depth=2,random_state=42)\n",
        "tree_reg.fit(x_quad,y_quad)"
      ],
      "metadata": {
        "colab": {
          "base_uri": "https://localhost:8080/",
          "height": 74
        },
        "id": "Zy5dPvS2-mGn",
        "outputId": "147b2e55-c3f3-4cab-cc35-254f7ba639fd"
      },
      "execution_count": 127,
      "outputs": [
        {
          "output_type": "execute_result",
          "data": {
            "text/plain": [
              "DecisionTreeRegressor(max_depth=2, random_state=42)"
            ],
            "text/html": [
              "<style>#sk-container-id-30 {color: black;background-color: white;}#sk-container-id-30 pre{padding: 0;}#sk-container-id-30 div.sk-toggleable {background-color: white;}#sk-container-id-30 label.sk-toggleable__label {cursor: pointer;display: block;width: 100%;margin-bottom: 0;padding: 0.3em;box-sizing: border-box;text-align: center;}#sk-container-id-30 label.sk-toggleable__label-arrow:before {content: \"▸\";float: left;margin-right: 0.25em;color: #696969;}#sk-container-id-30 label.sk-toggleable__label-arrow:hover:before {color: black;}#sk-container-id-30 div.sk-estimator:hover label.sk-toggleable__label-arrow:before {color: black;}#sk-container-id-30 div.sk-toggleable__content {max-height: 0;max-width: 0;overflow: hidden;text-align: left;background-color: #f0f8ff;}#sk-container-id-30 div.sk-toggleable__content pre {margin: 0.2em;color: black;border-radius: 0.25em;background-color: #f0f8ff;}#sk-container-id-30 input.sk-toggleable__control:checked~div.sk-toggleable__content {max-height: 200px;max-width: 100%;overflow: auto;}#sk-container-id-30 input.sk-toggleable__control:checked~label.sk-toggleable__label-arrow:before {content: \"▾\";}#sk-container-id-30 div.sk-estimator input.sk-toggleable__control:checked~label.sk-toggleable__label {background-color: #d4ebff;}#sk-container-id-30 div.sk-label input.sk-toggleable__control:checked~label.sk-toggleable__label {background-color: #d4ebff;}#sk-container-id-30 input.sk-hidden--visually {border: 0;clip: rect(1px 1px 1px 1px);clip: rect(1px, 1px, 1px, 1px);height: 1px;margin: -1px;overflow: hidden;padding: 0;position: absolute;width: 1px;}#sk-container-id-30 div.sk-estimator {font-family: monospace;background-color: #f0f8ff;border: 1px dotted black;border-radius: 0.25em;box-sizing: border-box;margin-bottom: 0.5em;}#sk-container-id-30 div.sk-estimator:hover {background-color: #d4ebff;}#sk-container-id-30 div.sk-parallel-item::after {content: \"\";width: 100%;border-bottom: 1px solid gray;flex-grow: 1;}#sk-container-id-30 div.sk-label:hover label.sk-toggleable__label {background-color: #d4ebff;}#sk-container-id-30 div.sk-serial::before {content: \"\";position: absolute;border-left: 1px solid gray;box-sizing: border-box;top: 0;bottom: 0;left: 50%;z-index: 0;}#sk-container-id-30 div.sk-serial {display: flex;flex-direction: column;align-items: center;background-color: white;padding-right: 0.2em;padding-left: 0.2em;position: relative;}#sk-container-id-30 div.sk-item {position: relative;z-index: 1;}#sk-container-id-30 div.sk-parallel {display: flex;align-items: stretch;justify-content: center;background-color: white;position: relative;}#sk-container-id-30 div.sk-item::before, #sk-container-id-30 div.sk-parallel-item::before {content: \"\";position: absolute;border-left: 1px solid gray;box-sizing: border-box;top: 0;bottom: 0;left: 50%;z-index: -1;}#sk-container-id-30 div.sk-parallel-item {display: flex;flex-direction: column;z-index: 1;position: relative;background-color: white;}#sk-container-id-30 div.sk-parallel-item:first-child::after {align-self: flex-end;width: 50%;}#sk-container-id-30 div.sk-parallel-item:last-child::after {align-self: flex-start;width: 50%;}#sk-container-id-30 div.sk-parallel-item:only-child::after {width: 0;}#sk-container-id-30 div.sk-dashed-wrapped {border: 1px dashed gray;margin: 0 0.4em 0.5em 0.4em;box-sizing: border-box;padding-bottom: 0.4em;background-color: white;}#sk-container-id-30 div.sk-label label {font-family: monospace;font-weight: bold;display: inline-block;line-height: 1.2em;}#sk-container-id-30 div.sk-label-container {text-align: center;}#sk-container-id-30 div.sk-container {/* jupyter's `normalize.less` sets `[hidden] { display: none; }` but bootstrap.min.css set `[hidden] { display: none !important; }` so we also need the `!important` here to be able to override the default hidden behavior on the sphinx rendered scikit-learn.org. See: https://github.com/scikit-learn/scikit-learn/issues/21755 */display: inline-block !important;position: relative;}#sk-container-id-30 div.sk-text-repr-fallback {display: none;}</style><div id=\"sk-container-id-30\" class=\"sk-top-container\"><div class=\"sk-text-repr-fallback\"><pre>DecisionTreeRegressor(max_depth=2, random_state=42)</pre><b>In a Jupyter environment, please rerun this cell to show the HTML representation or trust the notebook. <br />On GitHub, the HTML representation is unable to render, please try loading this page with nbviewer.org.</b></div><div class=\"sk-container\" hidden><div class=\"sk-item\"><div class=\"sk-estimator sk-toggleable\"><input class=\"sk-toggleable__control sk-hidden--visually\" id=\"sk-estimator-id-55\" type=\"checkbox\" checked><label for=\"sk-estimator-id-55\" class=\"sk-toggleable__label sk-toggleable__label-arrow\">DecisionTreeRegressor</label><div class=\"sk-toggleable__content\"><pre>DecisionTreeRegressor(max_depth=2, random_state=42)</pre></div></div></div></div></div>"
            ]
          },
          "metadata": {},
          "execution_count": 127
        }
      ]
    },
    {
      "cell_type": "markdown",
      "source": [
        "The CART algorithm works mostly the same way as earlier, except that instead of trying to split the training set in a way that minimizes impurity, it now tries to split the\n",
        "training set in a way that minimizes the MSE.\n",
        "\n"
      ],
      "metadata": {
        "id": "U3QsqupV_4Sp"
      }
    },
    {
      "cell_type": "markdown",
      "source": [
        "**Decision Trees Have a High Variance**"
      ],
      "metadata": {
        "id": "05QjXEFyABdy"
      }
    },
    {
      "cell_type": "markdown",
      "source": [
        "The main issue with decision trees is that they have quite a high variance: small changes to the hyperparameters or to the data may produce very different models.In fact, since the training algorithm used by Scikit-Learn is stochastic-it randomly selects the set of features to evaluate at each node-even retraining the same decision tree on the exact same data may produce a very different model.\n",
        "\n",
        "Luckily by averaging predictions over many trees,its possible to reduce variance significantly. Such an ensemble of trees is caled a random forest,and its one of the most powerful types of models available today."
      ],
      "metadata": {
        "id": "HDWDxnJLAS0B"
      }
    },
    {
      "cell_type": "markdown",
      "source": [
        "##**5.Ensemble Learning and Random Forests**"
      ],
      "metadata": {
        "id": "QrV5F3FHB8Qn"
      }
    },
    {
      "cell_type": "markdown",
      "source": [
        "If you aggregate\n",
        "the predictions of a group of predictors (such as classifiers or regressors), you will\n",
        "often get better predictions than with the best individual predictor. A group of predictors is called an ensemble; thus, this technique is called Ensemble Learning, and an\n",
        "Ensemble Learning algorithm is called an Ensemble method.\n",
        "\n",
        "For example, you can train a group of Decision Tree classifiers, each on a different\n",
        "random subset of the training set. To make predictions, you just obtain the predictions of all individual trees, then predict the class that gets the most vote is the ensemble prediction. Such an ensemble of decision trees is called random forest, and despite its simplicity this is one of the most powerful machine learning algorithms available today."
      ],
      "metadata": {
        "id": "XAK8pvolCE-I"
      }
    },
    {
      "cell_type": "markdown",
      "source": [
        "**Voting Classifiers**"
      ],
      "metadata": {
        "id": "ku8PPMI5DiyT"
      }
    },
    {
      "cell_type": "markdown",
      "source": [
        "A very simple way to create an even better classifier is to aggregate the predictions of\n",
        "each classifier and predict the class that gets the most votes. This majority-vote classifier is called a hard voting classifier.\n",
        "\n",
        "Somewhat surprisingly, this voting classifier often achieves a higher accuracy than the\n",
        "best classifier in the ensemble. In fact, even if each classifier is a weak learner (meaning it does only slightly better than random guessing), the ensemble can still be a\n",
        "strong learner (achieving high accuracy), provided there are a sufficient number of\n",
        "weak learners and they are sufficiently diverse.\n",
        "\n",
        "suppose you build an ensemble containing 1,000 classifiers that are individually correct only 51% of the time (barely better than random guessing). If you predict the majority voted class, you can hope for up to 75% accuracy! However, this is\n",
        "only true if all classifiers are perfectly independent, making uncorrelated errors,\n",
        "which is clearly not the case since they are trained on the same data. They are likely to\n",
        "make the same types of errors, so there will be many majority votes for the wrong\n",
        "class, reducing the ensemble’s accuracy.\n",
        "\n",
        "Ensemble methods work best when the predictors are as independent from one another as possible. One way to get diverse classifiers\n",
        "is to train them using very different algorithms. This increases the\n",
        "chance that they will make very different types of errors, improving\n",
        "the ensemble’s accuracy.\n",
        "\n",
        "Scikit-Learn provides a VotingClassifier class that's quite easy to use: just give it a list of name/predictor pairs, and use it like a normal classifier."
      ],
      "metadata": {
        "id": "pKlFG3A_Dn9R"
      }
    },
    {
      "cell_type": "code",
      "source": [
        "from sklearn.datasets import make_moons\n",
        "from sklearn.ensemble import RandomForestClassifier,VotingClassifier\n",
        "from sklearn.linear_model import LogisticRegression\n",
        "from sklearn.model_selection import train_test_split\n",
        "from sklearn.svm import SVC\n",
        "\n",
        "x,y=make_moons(n_samples=500,noise=0.30,random_state=42)\n",
        "x_train,x_test,y_train,y_test=train_test_split(x,y,random_state=42)\n",
        "\n",
        "voting_clf=VotingClassifier(\n",
        "    estimators=[\n",
        "        ('lr',LogisticRegression(random_state=42)),\n",
        "        ('rf',RandomForestClassifier(random_state=42)),\n",
        "        ('svc',SVC(random_state=42))\n",
        "    ]\n",
        ")\n",
        "voting_clf.fit(x_train,y_train)\n"
      ],
      "metadata": {
        "colab": {
          "base_uri": "https://localhost:8080/",
          "height": 109
        },
        "id": "3maTW58SFXgE",
        "outputId": "cbc0384d-004b-4dba-c8a5-ad48aee1e2dc"
      },
      "execution_count": 128,
      "outputs": [
        {
          "output_type": "execute_result",
          "data": {
            "text/plain": [
              "VotingClassifier(estimators=[('lr', LogisticRegression(random_state=42)),\n",
              "                             ('rf', RandomForestClassifier(random_state=42)),\n",
              "                             ('svc', SVC(random_state=42))])"
            ],
            "text/html": [
              "<style>#sk-container-id-31 {color: black;background-color: white;}#sk-container-id-31 pre{padding: 0;}#sk-container-id-31 div.sk-toggleable {background-color: white;}#sk-container-id-31 label.sk-toggleable__label {cursor: pointer;display: block;width: 100%;margin-bottom: 0;padding: 0.3em;box-sizing: border-box;text-align: center;}#sk-container-id-31 label.sk-toggleable__label-arrow:before {content: \"▸\";float: left;margin-right: 0.25em;color: #696969;}#sk-container-id-31 label.sk-toggleable__label-arrow:hover:before {color: black;}#sk-container-id-31 div.sk-estimator:hover label.sk-toggleable__label-arrow:before {color: black;}#sk-container-id-31 div.sk-toggleable__content {max-height: 0;max-width: 0;overflow: hidden;text-align: left;background-color: #f0f8ff;}#sk-container-id-31 div.sk-toggleable__content pre {margin: 0.2em;color: black;border-radius: 0.25em;background-color: #f0f8ff;}#sk-container-id-31 input.sk-toggleable__control:checked~div.sk-toggleable__content {max-height: 200px;max-width: 100%;overflow: auto;}#sk-container-id-31 input.sk-toggleable__control:checked~label.sk-toggleable__label-arrow:before {content: \"▾\";}#sk-container-id-31 div.sk-estimator input.sk-toggleable__control:checked~label.sk-toggleable__label {background-color: #d4ebff;}#sk-container-id-31 div.sk-label input.sk-toggleable__control:checked~label.sk-toggleable__label {background-color: #d4ebff;}#sk-container-id-31 input.sk-hidden--visually {border: 0;clip: rect(1px 1px 1px 1px);clip: rect(1px, 1px, 1px, 1px);height: 1px;margin: -1px;overflow: hidden;padding: 0;position: absolute;width: 1px;}#sk-container-id-31 div.sk-estimator {font-family: monospace;background-color: #f0f8ff;border: 1px dotted black;border-radius: 0.25em;box-sizing: border-box;margin-bottom: 0.5em;}#sk-container-id-31 div.sk-estimator:hover {background-color: #d4ebff;}#sk-container-id-31 div.sk-parallel-item::after {content: \"\";width: 100%;border-bottom: 1px solid gray;flex-grow: 1;}#sk-container-id-31 div.sk-label:hover label.sk-toggleable__label {background-color: #d4ebff;}#sk-container-id-31 div.sk-serial::before {content: \"\";position: absolute;border-left: 1px solid gray;box-sizing: border-box;top: 0;bottom: 0;left: 50%;z-index: 0;}#sk-container-id-31 div.sk-serial {display: flex;flex-direction: column;align-items: center;background-color: white;padding-right: 0.2em;padding-left: 0.2em;position: relative;}#sk-container-id-31 div.sk-item {position: relative;z-index: 1;}#sk-container-id-31 div.sk-parallel {display: flex;align-items: stretch;justify-content: center;background-color: white;position: relative;}#sk-container-id-31 div.sk-item::before, #sk-container-id-31 div.sk-parallel-item::before {content: \"\";position: absolute;border-left: 1px solid gray;box-sizing: border-box;top: 0;bottom: 0;left: 50%;z-index: -1;}#sk-container-id-31 div.sk-parallel-item {display: flex;flex-direction: column;z-index: 1;position: relative;background-color: white;}#sk-container-id-31 div.sk-parallel-item:first-child::after {align-self: flex-end;width: 50%;}#sk-container-id-31 div.sk-parallel-item:last-child::after {align-self: flex-start;width: 50%;}#sk-container-id-31 div.sk-parallel-item:only-child::after {width: 0;}#sk-container-id-31 div.sk-dashed-wrapped {border: 1px dashed gray;margin: 0 0.4em 0.5em 0.4em;box-sizing: border-box;padding-bottom: 0.4em;background-color: white;}#sk-container-id-31 div.sk-label label {font-family: monospace;font-weight: bold;display: inline-block;line-height: 1.2em;}#sk-container-id-31 div.sk-label-container {text-align: center;}#sk-container-id-31 div.sk-container {/* jupyter's `normalize.less` sets `[hidden] { display: none; }` but bootstrap.min.css set `[hidden] { display: none !important; }` so we also need the `!important` here to be able to override the default hidden behavior on the sphinx rendered scikit-learn.org. See: https://github.com/scikit-learn/scikit-learn/issues/21755 */display: inline-block !important;position: relative;}#sk-container-id-31 div.sk-text-repr-fallback {display: none;}</style><div id=\"sk-container-id-31\" class=\"sk-top-container\"><div class=\"sk-text-repr-fallback\"><pre>VotingClassifier(estimators=[(&#x27;lr&#x27;, LogisticRegression(random_state=42)),\n",
              "                             (&#x27;rf&#x27;, RandomForestClassifier(random_state=42)),\n",
              "                             (&#x27;svc&#x27;, SVC(random_state=42))])</pre><b>In a Jupyter environment, please rerun this cell to show the HTML representation or trust the notebook. <br />On GitHub, the HTML representation is unable to render, please try loading this page with nbviewer.org.</b></div><div class=\"sk-container\" hidden><div class=\"sk-item sk-dashed-wrapped\"><div class=\"sk-label-container\"><div class=\"sk-label sk-toggleable\"><input class=\"sk-toggleable__control sk-hidden--visually\" id=\"sk-estimator-id-56\" type=\"checkbox\" ><label for=\"sk-estimator-id-56\" class=\"sk-toggleable__label sk-toggleable__label-arrow\">VotingClassifier</label><div class=\"sk-toggleable__content\"><pre>VotingClassifier(estimators=[(&#x27;lr&#x27;, LogisticRegression(random_state=42)),\n",
              "                             (&#x27;rf&#x27;, RandomForestClassifier(random_state=42)),\n",
              "                             (&#x27;svc&#x27;, SVC(random_state=42))])</pre></div></div></div><div class=\"sk-parallel\"><div class=\"sk-parallel-item\"><div class=\"sk-item\"><div class=\"sk-label-container\"><div class=\"sk-label sk-toggleable\"><label>lr</label></div></div><div class=\"sk-serial\"><div class=\"sk-item\"><div class=\"sk-estimator sk-toggleable\"><input class=\"sk-toggleable__control sk-hidden--visually\" id=\"sk-estimator-id-57\" type=\"checkbox\" ><label for=\"sk-estimator-id-57\" class=\"sk-toggleable__label sk-toggleable__label-arrow\">LogisticRegression</label><div class=\"sk-toggleable__content\"><pre>LogisticRegression(random_state=42)</pre></div></div></div></div></div></div><div class=\"sk-parallel-item\"><div class=\"sk-item\"><div class=\"sk-label-container\"><div class=\"sk-label sk-toggleable\"><label>rf</label></div></div><div class=\"sk-serial\"><div class=\"sk-item\"><div class=\"sk-estimator sk-toggleable\"><input class=\"sk-toggleable__control sk-hidden--visually\" id=\"sk-estimator-id-58\" type=\"checkbox\" ><label for=\"sk-estimator-id-58\" class=\"sk-toggleable__label sk-toggleable__label-arrow\">RandomForestClassifier</label><div class=\"sk-toggleable__content\"><pre>RandomForestClassifier(random_state=42)</pre></div></div></div></div></div></div><div class=\"sk-parallel-item\"><div class=\"sk-item\"><div class=\"sk-label-container\"><div class=\"sk-label sk-toggleable\"><label>svc</label></div></div><div class=\"sk-serial\"><div class=\"sk-item\"><div class=\"sk-estimator sk-toggleable\"><input class=\"sk-toggleable__control sk-hidden--visually\" id=\"sk-estimator-id-59\" type=\"checkbox\" ><label for=\"sk-estimator-id-59\" class=\"sk-toggleable__label sk-toggleable__label-arrow\">SVC</label><div class=\"sk-toggleable__content\"><pre>SVC(random_state=42)</pre></div></div></div></div></div></div></div></div></div></div>"
            ]
          },
          "metadata": {},
          "execution_count": 128
        }
      ]
    },
    {
      "cell_type": "markdown",
      "source": [
        "When you fit a VotingClassifier,it clones every estimator and fits the clones.The original estimators are available via the estimators attribute, while the fitted clones are available via the estimators_attribute.If you prefer a dict rather than a list you can use named_estimators_ instead."
      ],
      "metadata": {
        "id": "VwEl7pf9HqgX"
      }
    },
    {
      "cell_type": "code",
      "source": [
        "for name,clf in voting_clf.named_estimators_.items():\n",
        "  print(name,\"=\",clf.score(x_test,y_test))"
      ],
      "metadata": {
        "colab": {
          "base_uri": "https://localhost:8080/"
        },
        "id": "J3wiCbfWIVNv",
        "outputId": "d075bd92-ed18-4fe1-db85-0e66eda63d16"
      },
      "execution_count": 129,
      "outputs": [
        {
          "output_type": "stream",
          "name": "stdout",
          "text": [
            "lr = 0.864\n",
            "rf = 0.896\n",
            "svc = 0.896\n"
          ]
        }
      ]
    },
    {
      "cell_type": "markdown",
      "source": [
        "When you call the voting classifiers predict() method it performs hard voting. For example the voting classifier predicts class 1 for the first instance of the test set, because two out of three classifiers predict that class:"
      ],
      "metadata": {
        "id": "_rs-hoRrM0_q"
      }
    },
    {
      "cell_type": "code",
      "source": [
        "voting_clf.predict(x_test[:1])"
      ],
      "metadata": {
        "colab": {
          "base_uri": "https://localhost:8080/"
        },
        "id": "008hy1g4NP1o",
        "outputId": "ac5451f5-860b-4df5-cacf-d9169f38649e"
      },
      "execution_count": 130,
      "outputs": [
        {
          "output_type": "execute_result",
          "data": {
            "text/plain": [
              "array([1])"
            ]
          },
          "metadata": {},
          "execution_count": 130
        }
      ]
    },
    {
      "cell_type": "code",
      "source": [
        "[clf.predict(x_test[:1]) for clf in voting_clf.estimators_]"
      ],
      "metadata": {
        "colab": {
          "base_uri": "https://localhost:8080/"
        },
        "id": "-jwai-vWNWD6",
        "outputId": "09ae0062-f5b8-451a-f34a-4e1c57c3a3b5"
      },
      "execution_count": 131,
      "outputs": [
        {
          "output_type": "execute_result",
          "data": {
            "text/plain": [
              "[array([1]), array([1]), array([0])]"
            ]
          },
          "metadata": {},
          "execution_count": 131
        }
      ]
    },
    {
      "cell_type": "code",
      "source": [
        "voting_clf.score(x_test,y_test)"
      ],
      "metadata": {
        "colab": {
          "base_uri": "https://localhost:8080/"
        },
        "id": "geA0hW4PNjME",
        "outputId": "20eb4f30-751a-4830-9467-081eb721e4da"
      },
      "execution_count": 132,
      "outputs": [
        {
          "output_type": "execute_result",
          "data": {
            "text/plain": [
              "0.912"
            ]
          },
          "metadata": {},
          "execution_count": 132
        }
      ]
    },
    {
      "cell_type": "markdown",
      "source": [
        "If all classifiers are able to estimate class probabilities (i.e., they have a pre\n",
        "dict_proba() method), then you can tell Scikit-Learn to predict the class with the\n",
        "highest class probability, averaged over all the individual classifiers. This is called soft\n",
        "voting. It often achieves higher performance than hard voting because it gives more\n",
        "weight to highly confident votes. All you need to do is replace voting=\"hard\" with\n",
        "voting=\"soft\" and ensure that all classifiers can estimate class probabilities. This is\n",
        "not the case of the SVC class by default, so you need to set its probability hyperparameter to True (this will make the SVC class use cross-validation to estimate class probabilities, slowing down training, and it will add a predict_proba() method)."
      ],
      "metadata": {
        "id": "wWUof4lBNqkq"
      }
    },
    {
      "cell_type": "code",
      "source": [
        "voting_clf.voting=\"soft\"\n",
        "voting_clf.named_estimators[\"svc\"].probability=True\n",
        "voting_clf.fit(x_train,y_train)\n",
        "voting_clf.score(x_test,y_test)"
      ],
      "metadata": {
        "colab": {
          "base_uri": "https://localhost:8080/"
        },
        "id": "mps4AkTkN7Ng",
        "outputId": "c855aefb-46e6-4178-d83f-13308291421b"
      },
      "execution_count": 133,
      "outputs": [
        {
          "output_type": "execute_result",
          "data": {
            "text/plain": [
              "0.92"
            ]
          },
          "metadata": {},
          "execution_count": 133
        }
      ]
    },
    {
      "cell_type": "markdown",
      "source": [
        "**Bagging and Pasting**"
      ],
      "metadata": {
        "id": "T1_ocu7eOSxI"
      }
    },
    {
      "cell_type": "markdown",
      "source": [
        "Another approach is to use the same training algorithm for every\n",
        "predictor, but to train them on different random subsets of the training set. When\n",
        "sampling is performed with replacement, this method is called bagging.\n",
        "\n",
        "When sampling is performed without replacement it is called pasting.\n",
        "\n",
        "In other words, both bagging and pasting allow training instances to be sampled several times across multiple predictors, but only bagging allows training instances to be\n",
        "sampled several times for the same predictor.\n",
        "\n",
        "Once all predictors are trained, the ensemble can make a prediction for a new\n",
        "instance by simply aggregating the predictions of all predictors. The aggregation\n",
        "function is typically the statistical mode (i.e., the most frequent prediction, just like a\n",
        "hard voting classifier) for classification, or the average for regression. Each individual predictor has a higher bias than if it were trained on the original training set, but\n",
        "aggregation reduces both bias and variance.\n",
        " Generally, the net result is that the\n",
        "ensemble has a similar bias but a lower variance than a single predictor trained on the\n",
        "original training set.\n",
        "\n",
        "Predictions can be made in parallel this is one of the reasons bagging and pasting are such popular methods:they scale very well."
      ],
      "metadata": {
        "id": "uM1Pbd05OW9m"
      }
    },
    {
      "cell_type": "markdown",
      "source": [
        "Scikit-Learn offers a simple API for both bagging and pasting with the BaggingClas\n",
        "sifier class (or BaggingRegressor for regression). The following code trains an\n",
        "ensemble of 500 Decision Tree classifiers,5\n",
        "each trained on 100 training instances randomly sampled from the training set with replacement (this is an example of bagging,\n",
        "but if you want to use pasting instead, just set bootstrap=False). The n_jobs parameter tells Scikit-Learn the number of CPU cores to use for training and predictions\n",
        "(–1 tells Scikit-Learn to use all available cores)"
      ],
      "metadata": {
        "id": "Vs9-FO54QQP9"
      }
    },
    {
      "cell_type": "code",
      "source": [
        "from sklearn.ensemble import BaggingClassifier\n",
        "from sklearn.tree import DecisionTreeClassifier\n",
        "\n",
        "bag_clf=BaggingClassifier(DecisionTreeClassifier(),n_estimators=500,max_samples=100,n_jobs=-1,random_state=42)\n",
        "bag_clf.fit(x_train,y_train)"
      ],
      "metadata": {
        "colab": {
          "base_uri": "https://localhost:8080/",
          "height": 117
        },
        "id": "HnTlBcqEZhhb",
        "outputId": "6821ccb9-efaf-48d3-d131-924b039b9c51"
      },
      "execution_count": 134,
      "outputs": [
        {
          "output_type": "execute_result",
          "data": {
            "text/plain": [
              "BaggingClassifier(estimator=DecisionTreeClassifier(), max_samples=100,\n",
              "                  n_estimators=500, n_jobs=-1, random_state=42)"
            ],
            "text/html": [
              "<style>#sk-container-id-32 {color: black;background-color: white;}#sk-container-id-32 pre{padding: 0;}#sk-container-id-32 div.sk-toggleable {background-color: white;}#sk-container-id-32 label.sk-toggleable__label {cursor: pointer;display: block;width: 100%;margin-bottom: 0;padding: 0.3em;box-sizing: border-box;text-align: center;}#sk-container-id-32 label.sk-toggleable__label-arrow:before {content: \"▸\";float: left;margin-right: 0.25em;color: #696969;}#sk-container-id-32 label.sk-toggleable__label-arrow:hover:before {color: black;}#sk-container-id-32 div.sk-estimator:hover label.sk-toggleable__label-arrow:before {color: black;}#sk-container-id-32 div.sk-toggleable__content {max-height: 0;max-width: 0;overflow: hidden;text-align: left;background-color: #f0f8ff;}#sk-container-id-32 div.sk-toggleable__content pre {margin: 0.2em;color: black;border-radius: 0.25em;background-color: #f0f8ff;}#sk-container-id-32 input.sk-toggleable__control:checked~div.sk-toggleable__content {max-height: 200px;max-width: 100%;overflow: auto;}#sk-container-id-32 input.sk-toggleable__control:checked~label.sk-toggleable__label-arrow:before {content: \"▾\";}#sk-container-id-32 div.sk-estimator input.sk-toggleable__control:checked~label.sk-toggleable__label {background-color: #d4ebff;}#sk-container-id-32 div.sk-label input.sk-toggleable__control:checked~label.sk-toggleable__label {background-color: #d4ebff;}#sk-container-id-32 input.sk-hidden--visually {border: 0;clip: rect(1px 1px 1px 1px);clip: rect(1px, 1px, 1px, 1px);height: 1px;margin: -1px;overflow: hidden;padding: 0;position: absolute;width: 1px;}#sk-container-id-32 div.sk-estimator {font-family: monospace;background-color: #f0f8ff;border: 1px dotted black;border-radius: 0.25em;box-sizing: border-box;margin-bottom: 0.5em;}#sk-container-id-32 div.sk-estimator:hover {background-color: #d4ebff;}#sk-container-id-32 div.sk-parallel-item::after {content: \"\";width: 100%;border-bottom: 1px solid gray;flex-grow: 1;}#sk-container-id-32 div.sk-label:hover label.sk-toggleable__label {background-color: #d4ebff;}#sk-container-id-32 div.sk-serial::before {content: \"\";position: absolute;border-left: 1px solid gray;box-sizing: border-box;top: 0;bottom: 0;left: 50%;z-index: 0;}#sk-container-id-32 div.sk-serial {display: flex;flex-direction: column;align-items: center;background-color: white;padding-right: 0.2em;padding-left: 0.2em;position: relative;}#sk-container-id-32 div.sk-item {position: relative;z-index: 1;}#sk-container-id-32 div.sk-parallel {display: flex;align-items: stretch;justify-content: center;background-color: white;position: relative;}#sk-container-id-32 div.sk-item::before, #sk-container-id-32 div.sk-parallel-item::before {content: \"\";position: absolute;border-left: 1px solid gray;box-sizing: border-box;top: 0;bottom: 0;left: 50%;z-index: -1;}#sk-container-id-32 div.sk-parallel-item {display: flex;flex-direction: column;z-index: 1;position: relative;background-color: white;}#sk-container-id-32 div.sk-parallel-item:first-child::after {align-self: flex-end;width: 50%;}#sk-container-id-32 div.sk-parallel-item:last-child::after {align-self: flex-start;width: 50%;}#sk-container-id-32 div.sk-parallel-item:only-child::after {width: 0;}#sk-container-id-32 div.sk-dashed-wrapped {border: 1px dashed gray;margin: 0 0.4em 0.5em 0.4em;box-sizing: border-box;padding-bottom: 0.4em;background-color: white;}#sk-container-id-32 div.sk-label label {font-family: monospace;font-weight: bold;display: inline-block;line-height: 1.2em;}#sk-container-id-32 div.sk-label-container {text-align: center;}#sk-container-id-32 div.sk-container {/* jupyter's `normalize.less` sets `[hidden] { display: none; }` but bootstrap.min.css set `[hidden] { display: none !important; }` so we also need the `!important` here to be able to override the default hidden behavior on the sphinx rendered scikit-learn.org. See: https://github.com/scikit-learn/scikit-learn/issues/21755 */display: inline-block !important;position: relative;}#sk-container-id-32 div.sk-text-repr-fallback {display: none;}</style><div id=\"sk-container-id-32\" class=\"sk-top-container\"><div class=\"sk-text-repr-fallback\"><pre>BaggingClassifier(estimator=DecisionTreeClassifier(), max_samples=100,\n",
              "                  n_estimators=500, n_jobs=-1, random_state=42)</pre><b>In a Jupyter environment, please rerun this cell to show the HTML representation or trust the notebook. <br />On GitHub, the HTML representation is unable to render, please try loading this page with nbviewer.org.</b></div><div class=\"sk-container\" hidden><div class=\"sk-item sk-dashed-wrapped\"><div class=\"sk-label-container\"><div class=\"sk-label sk-toggleable\"><input class=\"sk-toggleable__control sk-hidden--visually\" id=\"sk-estimator-id-60\" type=\"checkbox\" ><label for=\"sk-estimator-id-60\" class=\"sk-toggleable__label sk-toggleable__label-arrow\">BaggingClassifier</label><div class=\"sk-toggleable__content\"><pre>BaggingClassifier(estimator=DecisionTreeClassifier(), max_samples=100,\n",
              "                  n_estimators=500, n_jobs=-1, random_state=42)</pre></div></div></div><div class=\"sk-parallel\"><div class=\"sk-parallel-item\"><div class=\"sk-item\"><div class=\"sk-label-container\"><div class=\"sk-label sk-toggleable\"><input class=\"sk-toggleable__control sk-hidden--visually\" id=\"sk-estimator-id-61\" type=\"checkbox\" ><label for=\"sk-estimator-id-61\" class=\"sk-toggleable__label sk-toggleable__label-arrow\">estimator: DecisionTreeClassifier</label><div class=\"sk-toggleable__content\"><pre>DecisionTreeClassifier()</pre></div></div></div><div class=\"sk-serial\"><div class=\"sk-item\"><div class=\"sk-estimator sk-toggleable\"><input class=\"sk-toggleable__control sk-hidden--visually\" id=\"sk-estimator-id-62\" type=\"checkbox\" ><label for=\"sk-estimator-id-62\" class=\"sk-toggleable__label sk-toggleable__label-arrow\">DecisionTreeClassifier</label><div class=\"sk-toggleable__content\"><pre>DecisionTreeClassifier()</pre></div></div></div></div></div></div></div></div></div></div>"
            ]
          },
          "metadata": {},
          "execution_count": 134
        }
      ]
    },
    {
      "cell_type": "markdown",
      "source": [
        "The BaggingClassifier automatically performs soft voting\n",
        "instead of hard voting if the base classifier can estimate class probabilities (i.e., if it has a predict_proba() method), which is the case\n",
        "with Decision Trees classifiers."
      ],
      "metadata": {
        "id": "Yc4plOECa5kn"
      }
    },
    {
      "cell_type": "markdown",
      "source": [
        "the ensemble’s predictions will likely\n",
        "generalize much better than the single Decision Tree’s predictions: the ensemble has a\n",
        "comparable bias but a smaller variance (it makes roughly the same number of errors\n",
        "on the training set, but the decision boundary is less irregular).\n",
        "\n",
        "Bagging introduces a bit more diversity in the subsets that each predictor is\n",
        "trained on, so bagging ends up with a slightly higher bias than pasting, but this also\n",
        "means that predictors end up being less correlated so the ensemble’s variance is\n",
        "reduced. Overall, bagging often results in better models, which explains why it is gen‐\n",
        "erally preferred. However, if you have spare time and CPU power you can use crossvalidation to evaluate both bagging and pasting and select the one that works best."
      ],
      "metadata": {
        "id": "zpL_Pp21a851"
      }
    },
    {
      "cell_type": "markdown",
      "source": [
        "**Out of Bag Evaluation**"
      ],
      "metadata": {
        "id": "KwMpwofDbPV8"
      }
    },
    {
      "cell_type": "markdown",
      "source": [
        "With bagging, some instances may be sampled several times for any given predictor,\n",
        "while others may not be sampled at all. By default a BaggingClassifier samples m\n",
        "training instances with replacement (bootstrap=True), where m is the size of the\n",
        "training set. This means that only about 63% of the training instances are sampled on\n",
        "average for each predictor.6\n",
        " The remaining 37% of the training instances that are not\n",
        "sampled are called out-of-bag (oob) instances. Note that they are not the same 37%\n",
        "for all predictors.\n",
        "Since a predictor never sees the oob instances during training, it can be evaluated on\n",
        "these instances, without the need for a separate validation set. You can evaluate the\n",
        "ensemble itself by averaging out the oob evaluations of each predictor.\n",
        "In Scikit-Learn, you can set oob_score=True when creating a BaggingClassifier to\n",
        "request an automatic oob evaluation after training."
      ],
      "metadata": {
        "id": "4t1YFQeJbTsN"
      }
    },
    {
      "cell_type": "code",
      "source": [
        "bag_clf=BaggingClassifier(DecisionTreeClassifier(),n_estimators=500,oob_score=True,n_jobs=-1,random_state=42)\n",
        "bag_clf.fit(x_train,y_train)\n",
        "bag_clf.oob_score_"
      ],
      "metadata": {
        "colab": {
          "base_uri": "https://localhost:8080/"
        },
        "id": "CSa-hQY2b2gX",
        "outputId": "51b3865c-a5a2-48d8-f71e-7f196cb8f596"
      },
      "execution_count": 135,
      "outputs": [
        {
          "output_type": "execute_result",
          "data": {
            "text/plain": [
              "0.896"
            ]
          },
          "metadata": {},
          "execution_count": 135
        }
      ]
    },
    {
      "cell_type": "code",
      "source": [
        "from sklearn.metrics import accuracy_score\n",
        "y_pred=bag_clf.predict(x_test)\n",
        "accuracy_score(y_test,y_pred)"
      ],
      "metadata": {
        "colab": {
          "base_uri": "https://localhost:8080/"
        },
        "id": "zazKkhWwcgPI",
        "outputId": "b9260fe2-e806-44db-b71c-232b39709594"
      },
      "execution_count": 136,
      "outputs": [
        {
          "output_type": "execute_result",
          "data": {
            "text/plain": [
              "0.92"
            ]
          },
          "metadata": {},
          "execution_count": 136
        }
      ]
    },
    {
      "cell_type": "markdown",
      "source": [
        "The oob decision function for each training instance is also available through the\n",
        "oob_decision_function_ variable. In this case (since the base estimator has a pre\n",
        "dict_proba() method) the decision function returns the class probabilities for each\n",
        "training instance. For example, the oob evaluation estimates that the first training\n",
        "instance has a 68.25% probability of belonging to the positive class (and 31.75% of\n",
        "belonging to the negative class)."
      ],
      "metadata": {
        "id": "f6_b6FVldH_Q"
      }
    },
    {
      "cell_type": "code",
      "source": [
        "bag_clf.oob_decision_function_[:3]"
      ],
      "metadata": {
        "colab": {
          "base_uri": "https://localhost:8080/"
        },
        "id": "m4Ey46pAdOAM",
        "outputId": "c420a078-825e-45f0-8fed-ba8f1284a5ae"
      },
      "execution_count": 137,
      "outputs": [
        {
          "output_type": "execute_result",
          "data": {
            "text/plain": [
              "array([[0.32352941, 0.67647059],\n",
              "       [0.3375    , 0.6625    ],\n",
              "       [1.        , 0.        ]])"
            ]
          },
          "metadata": {},
          "execution_count": 137
        }
      ]
    },
    {
      "cell_type": "markdown",
      "source": [
        "**Random Patches and Random Subspaces**"
      ],
      "metadata": {
        "id": "lRYWKMN2dX53"
      }
    },
    {
      "cell_type": "markdown",
      "source": [
        "The BaggingClassifier class supports sampling the features as well. This is controlled by two hyperparameters: max_features and bootstrap_features. They work\n",
        "the same way as max_samples and bootstrap, but for feature sampling instead of\n",
        "instance sampling. Thus, each predictor will be trained on a random subset of the\n",
        "input features.\n",
        "This is particularly useful when you are dealing with high-dimensional inputs (such\n",
        "as images). Sampling both training instances and features is called the Random\n",
        "Patches method.\n",
        "7\n",
        " Keeping all training instances (i.e., bootstrap=False and max_sam\n",
        "ples=1.0) but sampling features (i.e., bootstrap_features=True and/or max_fea\n",
        "tures smaller than 1.0) is called the Random Subspaces method.\n",
        "Sampling features results in even more predictor diversity, trading a bit more bias for\n",
        "a lower variance."
      ],
      "metadata": {
        "id": "u6jenEMtde6v"
      }
    },
    {
      "cell_type": "markdown",
      "source": [
        "**Random Forests**"
      ],
      "metadata": {
        "id": "IfgetxJ7dvdd"
      }
    },
    {
      "cell_type": "markdown",
      "source": [
        " you can  use the RandomForestClassifier\n",
        "class, which is more convenient and optimized for Decision Trees10 (similarly, there is\n",
        "a RandomForestRegressor class for regression tasks). The following code trains a\n",
        "Random Forest classifier with 500 trees (each limited to maximum 16 nodes), using\n",
        "all available CPU cores"
      ],
      "metadata": {
        "id": "aIeEw6vteMH0"
      }
    },
    {
      "cell_type": "code",
      "source": [
        "from sklearn.ensemble import RandomForestClassifier\n",
        "rnd_clf=RandomForestClassifier(n_estimators=500,max_leaf_nodes=16,n_jobs=-1,random_state=42)\n",
        "rnd_clf.fit(x_train,y_train)\n",
        "y_pred_rf=rnd_clf.predict(x_test)"
      ],
      "metadata": {
        "id": "VKMmD1c5MpJ_"
      },
      "execution_count": 138,
      "outputs": []
    },
    {
      "cell_type": "markdown",
      "source": [
        "With a few exceptions, a RandomForestClassifier has all the hyperparameters of a\n",
        "DecisionTreeClassifier (to control how trees are grown), plus all the hyperparameters of a BaggingClassifier to control the ensemble itself."
      ],
      "metadata": {
        "id": "Rx4CVaKyNgnB"
      }
    },
    {
      "cell_type": "markdown",
      "source": [
        "**Extra Trees**"
      ],
      "metadata": {
        "id": "5zpI2qDzOuNq"
      }
    },
    {
      "cell_type": "markdown",
      "source": [
        "It is possible to make\n",
        "trees even more random by also using random thresholds for each feature rather than\n",
        "searching for the best possible thresholds (like regular Decision Trees do).\n",
        "\n",
        "A forest of such extremely random trees is simply called an Extremely Randomized\n",
        "Trees ensemble (or Extra-Trees for short). Once again, this trades more bias for a\n",
        "lower variance. It also makes Extra-Trees much faster to train than regular Random\n",
        "Forests since finding the best possible threshold for each feature at every node is one\n",
        "of the most time-consuming tasks of growing a tree."
      ],
      "metadata": {
        "id": "WJf5oRzPOwhA"
      }
    },
    {
      "cell_type": "markdown",
      "source": [
        "**Feature Importance**"
      ],
      "metadata": {
        "id": "d6P6UbqEPAnT"
      }
    },
    {
      "cell_type": "markdown",
      "source": [
        "Yet another great quality of Random Forests is that they make it easy to measure the\n",
        "relative importance of each feature. Scikit-Learn measures a feature’s importance by\n",
        "looking at how much the tree nodes that use that feature reduce impurity on average\n",
        "(across all trees in the forest). More precisely, it is a weighted average, where each\n",
        "node’s weight is equal to the number of training samples that are associated with it.\n",
        "\n",
        "Scikit-Learn computes this score automatically for each feature after training, then it\n",
        "scales the results so that the sum of all importances is equal to 1. You can access the\n",
        "result using the feature_importances_ variable."
      ],
      "metadata": {
        "id": "E2J5LmQIPDq1"
      }
    },
    {
      "cell_type": "code",
      "source": [
        "from sklearn.datasets import load_iris\n",
        "iris=load_iris(as_frame=True)\n",
        "rnd_clf=RandomForestClassifier(n_estimators=500,random_state=42)\n",
        "rnd_clf.fit(iris.data,iris.target)\n",
        "for score,name in zip(rnd_clf.feature_importances_,iris.data.columns):\n",
        "  print(round(score,2),name)"
      ],
      "metadata": {
        "colab": {
          "base_uri": "https://localhost:8080/"
        },
        "id": "pM8WJSIrPo_e",
        "outputId": "5bf8ec9b-4009-4902-a173-0b6da8f6cb7d"
      },
      "execution_count": 139,
      "outputs": [
        {
          "output_type": "stream",
          "name": "stdout",
          "text": [
            "0.11 sepal length (cm)\n",
            "0.02 sepal width (cm)\n",
            "0.44 petal length (cm)\n",
            "0.42 petal width (cm)\n"
          ]
        }
      ]
    },
    {
      "cell_type": "markdown",
      "source": [
        "**Boosting**"
      ],
      "metadata": {
        "id": "YoC-2TxhQz9D"
      }
    },
    {
      "cell_type": "markdown",
      "source": [
        "Boosting (originally called hypothesis boosting) refers to any Ensemble method that\n",
        "can combine several weak learners into a strong learner. The general idea of most\n",
        "boosting methods is to train predictors sequentially, each trying to correct its predecessor."
      ],
      "metadata": {
        "id": "FNnw8nrBQ2d1"
      }
    },
    {
      "cell_type": "markdown",
      "source": [
        "**AdaBoost**"
      ],
      "metadata": {
        "id": "gmGcR9nkQ-6m"
      }
    },
    {
      "cell_type": "markdown",
      "source": [
        "One way for a new predictor to correct its predecessor is to pay a bit more attention\n",
        "to the training instances that the predecessor underfitted. This results in new predictors focusing more and more on the hard cases. This is the technique used by AdaBoost.\n",
        "\n",
        "For example, to build an AdaBoost classifier, a first base classifier (such as a Decision\n",
        "Tree) is trained and used to make predictions on the training set. The relative weight\n",
        "of misclassified training instances is then increased. A second classifier is trained\n",
        "using the updated weights and again it makes predictions on the training set, weights\n",
        "are updated, and so on.\n",
        "\n",
        "The first classifier gets many instances wrong, so their weights get boosted. The second classifier therefore does a better job on these instances, and\n",
        "so on.\n",
        "\n",
        "Once all predictors are trained, the ensemble makes predictions very much like bagging or pasting, except that predictors have different weights depending on their\n",
        "overall accuracy on the weighted training set.\n",
        "\n",
        "There is one important drawback to this sequential learning technique: it cannot be parallelized (or only partially), since each predictor can only be trained after the previous predictor has been\n",
        "trained and evaluated. As a result, it does not scale as well as bagging or pasting."
      ],
      "metadata": {
        "id": "10jE9Ng6RDeU"
      }
    },
    {
      "cell_type": "code",
      "source": [
        "from sklearn.ensemble import AdaBoostClassifier\n",
        "ada_clf=AdaBoostClassifier(DecisionTreeClassifier(max_depth=1),n_estimators=30,learning_rate=0.5,random_state=42)\n",
        "ada_clf.fit(x_train,y_train)"
      ],
      "metadata": {
        "colab": {
          "base_uri": "https://localhost:8080/",
          "height": 117
        },
        "id": "FEY25ufLSVKG",
        "outputId": "663d1931-6b6a-4d70-9298-e7b190f88d82"
      },
      "execution_count": 140,
      "outputs": [
        {
          "output_type": "execute_result",
          "data": {
            "text/plain": [
              "AdaBoostClassifier(estimator=DecisionTreeClassifier(max_depth=1),\n",
              "                   learning_rate=0.5, n_estimators=30, random_state=42)"
            ],
            "text/html": [
              "<style>#sk-container-id-33 {color: black;background-color: white;}#sk-container-id-33 pre{padding: 0;}#sk-container-id-33 div.sk-toggleable {background-color: white;}#sk-container-id-33 label.sk-toggleable__label {cursor: pointer;display: block;width: 100%;margin-bottom: 0;padding: 0.3em;box-sizing: border-box;text-align: center;}#sk-container-id-33 label.sk-toggleable__label-arrow:before {content: \"▸\";float: left;margin-right: 0.25em;color: #696969;}#sk-container-id-33 label.sk-toggleable__label-arrow:hover:before {color: black;}#sk-container-id-33 div.sk-estimator:hover label.sk-toggleable__label-arrow:before {color: black;}#sk-container-id-33 div.sk-toggleable__content {max-height: 0;max-width: 0;overflow: hidden;text-align: left;background-color: #f0f8ff;}#sk-container-id-33 div.sk-toggleable__content pre {margin: 0.2em;color: black;border-radius: 0.25em;background-color: #f0f8ff;}#sk-container-id-33 input.sk-toggleable__control:checked~div.sk-toggleable__content {max-height: 200px;max-width: 100%;overflow: auto;}#sk-container-id-33 input.sk-toggleable__control:checked~label.sk-toggleable__label-arrow:before {content: \"▾\";}#sk-container-id-33 div.sk-estimator input.sk-toggleable__control:checked~label.sk-toggleable__label {background-color: #d4ebff;}#sk-container-id-33 div.sk-label input.sk-toggleable__control:checked~label.sk-toggleable__label {background-color: #d4ebff;}#sk-container-id-33 input.sk-hidden--visually {border: 0;clip: rect(1px 1px 1px 1px);clip: rect(1px, 1px, 1px, 1px);height: 1px;margin: -1px;overflow: hidden;padding: 0;position: absolute;width: 1px;}#sk-container-id-33 div.sk-estimator {font-family: monospace;background-color: #f0f8ff;border: 1px dotted black;border-radius: 0.25em;box-sizing: border-box;margin-bottom: 0.5em;}#sk-container-id-33 div.sk-estimator:hover {background-color: #d4ebff;}#sk-container-id-33 div.sk-parallel-item::after {content: \"\";width: 100%;border-bottom: 1px solid gray;flex-grow: 1;}#sk-container-id-33 div.sk-label:hover label.sk-toggleable__label {background-color: #d4ebff;}#sk-container-id-33 div.sk-serial::before {content: \"\";position: absolute;border-left: 1px solid gray;box-sizing: border-box;top: 0;bottom: 0;left: 50%;z-index: 0;}#sk-container-id-33 div.sk-serial {display: flex;flex-direction: column;align-items: center;background-color: white;padding-right: 0.2em;padding-left: 0.2em;position: relative;}#sk-container-id-33 div.sk-item {position: relative;z-index: 1;}#sk-container-id-33 div.sk-parallel {display: flex;align-items: stretch;justify-content: center;background-color: white;position: relative;}#sk-container-id-33 div.sk-item::before, #sk-container-id-33 div.sk-parallel-item::before {content: \"\";position: absolute;border-left: 1px solid gray;box-sizing: border-box;top: 0;bottom: 0;left: 50%;z-index: -1;}#sk-container-id-33 div.sk-parallel-item {display: flex;flex-direction: column;z-index: 1;position: relative;background-color: white;}#sk-container-id-33 div.sk-parallel-item:first-child::after {align-self: flex-end;width: 50%;}#sk-container-id-33 div.sk-parallel-item:last-child::after {align-self: flex-start;width: 50%;}#sk-container-id-33 div.sk-parallel-item:only-child::after {width: 0;}#sk-container-id-33 div.sk-dashed-wrapped {border: 1px dashed gray;margin: 0 0.4em 0.5em 0.4em;box-sizing: border-box;padding-bottom: 0.4em;background-color: white;}#sk-container-id-33 div.sk-label label {font-family: monospace;font-weight: bold;display: inline-block;line-height: 1.2em;}#sk-container-id-33 div.sk-label-container {text-align: center;}#sk-container-id-33 div.sk-container {/* jupyter's `normalize.less` sets `[hidden] { display: none; }` but bootstrap.min.css set `[hidden] { display: none !important; }` so we also need the `!important` here to be able to override the default hidden behavior on the sphinx rendered scikit-learn.org. See: https://github.com/scikit-learn/scikit-learn/issues/21755 */display: inline-block !important;position: relative;}#sk-container-id-33 div.sk-text-repr-fallback {display: none;}</style><div id=\"sk-container-id-33\" class=\"sk-top-container\"><div class=\"sk-text-repr-fallback\"><pre>AdaBoostClassifier(estimator=DecisionTreeClassifier(max_depth=1),\n",
              "                   learning_rate=0.5, n_estimators=30, random_state=42)</pre><b>In a Jupyter environment, please rerun this cell to show the HTML representation or trust the notebook. <br />On GitHub, the HTML representation is unable to render, please try loading this page with nbviewer.org.</b></div><div class=\"sk-container\" hidden><div class=\"sk-item sk-dashed-wrapped\"><div class=\"sk-label-container\"><div class=\"sk-label sk-toggleable\"><input class=\"sk-toggleable__control sk-hidden--visually\" id=\"sk-estimator-id-63\" type=\"checkbox\" ><label for=\"sk-estimator-id-63\" class=\"sk-toggleable__label sk-toggleable__label-arrow\">AdaBoostClassifier</label><div class=\"sk-toggleable__content\"><pre>AdaBoostClassifier(estimator=DecisionTreeClassifier(max_depth=1),\n",
              "                   learning_rate=0.5, n_estimators=30, random_state=42)</pre></div></div></div><div class=\"sk-parallel\"><div class=\"sk-parallel-item\"><div class=\"sk-item\"><div class=\"sk-label-container\"><div class=\"sk-label sk-toggleable\"><input class=\"sk-toggleable__control sk-hidden--visually\" id=\"sk-estimator-id-64\" type=\"checkbox\" ><label for=\"sk-estimator-id-64\" class=\"sk-toggleable__label sk-toggleable__label-arrow\">estimator: DecisionTreeClassifier</label><div class=\"sk-toggleable__content\"><pre>DecisionTreeClassifier(max_depth=1)</pre></div></div></div><div class=\"sk-serial\"><div class=\"sk-item\"><div class=\"sk-estimator sk-toggleable\"><input class=\"sk-toggleable__control sk-hidden--visually\" id=\"sk-estimator-id-65\" type=\"checkbox\" ><label for=\"sk-estimator-id-65\" class=\"sk-toggleable__label sk-toggleable__label-arrow\">DecisionTreeClassifier</label><div class=\"sk-toggleable__content\"><pre>DecisionTreeClassifier(max_depth=1)</pre></div></div></div></div></div></div></div></div></div></div>"
            ]
          },
          "metadata": {},
          "execution_count": 140
        }
      ]
    },
    {
      "cell_type": "markdown",
      "source": [
        "**Gradient Boosting**"
      ],
      "metadata": {
        "id": "hgtwK8tGS2bs"
      }
    },
    {
      "cell_type": "markdown",
      "source": [
        "Just like AdaBoost,\n",
        "Gradient Boosting works by sequentially adding predictors to an ensemble, each one\n",
        "correcting its predecessor. However, instead of tweaking the instance weights at every\n",
        "iteration like AdaBoost does, this method tries to fit the new predictor to the residual\n",
        "errors made by the previous predictor."
      ],
      "metadata": {
        "id": "EYrXlKfoS-o4"
      }
    },
    {
      "cell_type": "code",
      "source": [
        "import numpy as np\n",
        "from sklearn.tree import DecisionTreeRegressor\n",
        "np.random.seed(42)\n",
        "x=np.random.rand(100,1)-0.5\n",
        "y=3*x[:,0]**2+0.05*np.random.randn(100) ##y=3x^2+Gaussian Noise\n",
        "\n",
        "tree_reg1=DecisionTreeRegressor(max_depth=2,random_state=42)\n",
        "tree_reg1.fit(x,y)"
      ],
      "metadata": {
        "colab": {
          "base_uri": "https://localhost:8080/",
          "height": 74
        },
        "id": "Xc7Ql6QgTb5f",
        "outputId": "a5b13d72-3f40-4433-9eb9-d426ae7a34ae"
      },
      "execution_count": 141,
      "outputs": [
        {
          "output_type": "execute_result",
          "data": {
            "text/plain": [
              "DecisionTreeRegressor(max_depth=2, random_state=42)"
            ],
            "text/html": [
              "<style>#sk-container-id-34 {color: black;background-color: white;}#sk-container-id-34 pre{padding: 0;}#sk-container-id-34 div.sk-toggleable {background-color: white;}#sk-container-id-34 label.sk-toggleable__label {cursor: pointer;display: block;width: 100%;margin-bottom: 0;padding: 0.3em;box-sizing: border-box;text-align: center;}#sk-container-id-34 label.sk-toggleable__label-arrow:before {content: \"▸\";float: left;margin-right: 0.25em;color: #696969;}#sk-container-id-34 label.sk-toggleable__label-arrow:hover:before {color: black;}#sk-container-id-34 div.sk-estimator:hover label.sk-toggleable__label-arrow:before {color: black;}#sk-container-id-34 div.sk-toggleable__content {max-height: 0;max-width: 0;overflow: hidden;text-align: left;background-color: #f0f8ff;}#sk-container-id-34 div.sk-toggleable__content pre {margin: 0.2em;color: black;border-radius: 0.25em;background-color: #f0f8ff;}#sk-container-id-34 input.sk-toggleable__control:checked~div.sk-toggleable__content {max-height: 200px;max-width: 100%;overflow: auto;}#sk-container-id-34 input.sk-toggleable__control:checked~label.sk-toggleable__label-arrow:before {content: \"▾\";}#sk-container-id-34 div.sk-estimator input.sk-toggleable__control:checked~label.sk-toggleable__label {background-color: #d4ebff;}#sk-container-id-34 div.sk-label input.sk-toggleable__control:checked~label.sk-toggleable__label {background-color: #d4ebff;}#sk-container-id-34 input.sk-hidden--visually {border: 0;clip: rect(1px 1px 1px 1px);clip: rect(1px, 1px, 1px, 1px);height: 1px;margin: -1px;overflow: hidden;padding: 0;position: absolute;width: 1px;}#sk-container-id-34 div.sk-estimator {font-family: monospace;background-color: #f0f8ff;border: 1px dotted black;border-radius: 0.25em;box-sizing: border-box;margin-bottom: 0.5em;}#sk-container-id-34 div.sk-estimator:hover {background-color: #d4ebff;}#sk-container-id-34 div.sk-parallel-item::after {content: \"\";width: 100%;border-bottom: 1px solid gray;flex-grow: 1;}#sk-container-id-34 div.sk-label:hover label.sk-toggleable__label {background-color: #d4ebff;}#sk-container-id-34 div.sk-serial::before {content: \"\";position: absolute;border-left: 1px solid gray;box-sizing: border-box;top: 0;bottom: 0;left: 50%;z-index: 0;}#sk-container-id-34 div.sk-serial {display: flex;flex-direction: column;align-items: center;background-color: white;padding-right: 0.2em;padding-left: 0.2em;position: relative;}#sk-container-id-34 div.sk-item {position: relative;z-index: 1;}#sk-container-id-34 div.sk-parallel {display: flex;align-items: stretch;justify-content: center;background-color: white;position: relative;}#sk-container-id-34 div.sk-item::before, #sk-container-id-34 div.sk-parallel-item::before {content: \"\";position: absolute;border-left: 1px solid gray;box-sizing: border-box;top: 0;bottom: 0;left: 50%;z-index: -1;}#sk-container-id-34 div.sk-parallel-item {display: flex;flex-direction: column;z-index: 1;position: relative;background-color: white;}#sk-container-id-34 div.sk-parallel-item:first-child::after {align-self: flex-end;width: 50%;}#sk-container-id-34 div.sk-parallel-item:last-child::after {align-self: flex-start;width: 50%;}#sk-container-id-34 div.sk-parallel-item:only-child::after {width: 0;}#sk-container-id-34 div.sk-dashed-wrapped {border: 1px dashed gray;margin: 0 0.4em 0.5em 0.4em;box-sizing: border-box;padding-bottom: 0.4em;background-color: white;}#sk-container-id-34 div.sk-label label {font-family: monospace;font-weight: bold;display: inline-block;line-height: 1.2em;}#sk-container-id-34 div.sk-label-container {text-align: center;}#sk-container-id-34 div.sk-container {/* jupyter's `normalize.less` sets `[hidden] { display: none; }` but bootstrap.min.css set `[hidden] { display: none !important; }` so we also need the `!important` here to be able to override the default hidden behavior on the sphinx rendered scikit-learn.org. See: https://github.com/scikit-learn/scikit-learn/issues/21755 */display: inline-block !important;position: relative;}#sk-container-id-34 div.sk-text-repr-fallback {display: none;}</style><div id=\"sk-container-id-34\" class=\"sk-top-container\"><div class=\"sk-text-repr-fallback\"><pre>DecisionTreeRegressor(max_depth=2, random_state=42)</pre><b>In a Jupyter environment, please rerun this cell to show the HTML representation or trust the notebook. <br />On GitHub, the HTML representation is unable to render, please try loading this page with nbviewer.org.</b></div><div class=\"sk-container\" hidden><div class=\"sk-item\"><div class=\"sk-estimator sk-toggleable\"><input class=\"sk-toggleable__control sk-hidden--visually\" id=\"sk-estimator-id-66\" type=\"checkbox\" checked><label for=\"sk-estimator-id-66\" class=\"sk-toggleable__label sk-toggleable__label-arrow\">DecisionTreeRegressor</label><div class=\"sk-toggleable__content\"><pre>DecisionTreeRegressor(max_depth=2, random_state=42)</pre></div></div></div></div></div>"
            ]
          },
          "metadata": {},
          "execution_count": 141
        }
      ]
    },
    {
      "cell_type": "markdown",
      "source": [
        "Next we will train a second DecisionTreeRegressor on the residual errors made by first predictor"
      ],
      "metadata": {
        "id": "Lb_IJ01AUb4K"
      }
    },
    {
      "cell_type": "code",
      "source": [
        "y2=y-tree_reg1.predict(x)\n",
        "tree_reg2=DecisionTreeRegressor(max_depth=2,random_state=43)\n",
        "tree_reg2.fit(x,y2)"
      ],
      "metadata": {
        "colab": {
          "base_uri": "https://localhost:8080/",
          "height": 74
        },
        "id": "aiJcgW6EUnkS",
        "outputId": "af1c08a7-1274-4b9d-c079-e97496ca9117"
      },
      "execution_count": 142,
      "outputs": [
        {
          "output_type": "execute_result",
          "data": {
            "text/plain": [
              "DecisionTreeRegressor(max_depth=2, random_state=43)"
            ],
            "text/html": [
              "<style>#sk-container-id-35 {color: black;background-color: white;}#sk-container-id-35 pre{padding: 0;}#sk-container-id-35 div.sk-toggleable {background-color: white;}#sk-container-id-35 label.sk-toggleable__label {cursor: pointer;display: block;width: 100%;margin-bottom: 0;padding: 0.3em;box-sizing: border-box;text-align: center;}#sk-container-id-35 label.sk-toggleable__label-arrow:before {content: \"▸\";float: left;margin-right: 0.25em;color: #696969;}#sk-container-id-35 label.sk-toggleable__label-arrow:hover:before {color: black;}#sk-container-id-35 div.sk-estimator:hover label.sk-toggleable__label-arrow:before {color: black;}#sk-container-id-35 div.sk-toggleable__content {max-height: 0;max-width: 0;overflow: hidden;text-align: left;background-color: #f0f8ff;}#sk-container-id-35 div.sk-toggleable__content pre {margin: 0.2em;color: black;border-radius: 0.25em;background-color: #f0f8ff;}#sk-container-id-35 input.sk-toggleable__control:checked~div.sk-toggleable__content {max-height: 200px;max-width: 100%;overflow: auto;}#sk-container-id-35 input.sk-toggleable__control:checked~label.sk-toggleable__label-arrow:before {content: \"▾\";}#sk-container-id-35 div.sk-estimator input.sk-toggleable__control:checked~label.sk-toggleable__label {background-color: #d4ebff;}#sk-container-id-35 div.sk-label input.sk-toggleable__control:checked~label.sk-toggleable__label {background-color: #d4ebff;}#sk-container-id-35 input.sk-hidden--visually {border: 0;clip: rect(1px 1px 1px 1px);clip: rect(1px, 1px, 1px, 1px);height: 1px;margin: -1px;overflow: hidden;padding: 0;position: absolute;width: 1px;}#sk-container-id-35 div.sk-estimator {font-family: monospace;background-color: #f0f8ff;border: 1px dotted black;border-radius: 0.25em;box-sizing: border-box;margin-bottom: 0.5em;}#sk-container-id-35 div.sk-estimator:hover {background-color: #d4ebff;}#sk-container-id-35 div.sk-parallel-item::after {content: \"\";width: 100%;border-bottom: 1px solid gray;flex-grow: 1;}#sk-container-id-35 div.sk-label:hover label.sk-toggleable__label {background-color: #d4ebff;}#sk-container-id-35 div.sk-serial::before {content: \"\";position: absolute;border-left: 1px solid gray;box-sizing: border-box;top: 0;bottom: 0;left: 50%;z-index: 0;}#sk-container-id-35 div.sk-serial {display: flex;flex-direction: column;align-items: center;background-color: white;padding-right: 0.2em;padding-left: 0.2em;position: relative;}#sk-container-id-35 div.sk-item {position: relative;z-index: 1;}#sk-container-id-35 div.sk-parallel {display: flex;align-items: stretch;justify-content: center;background-color: white;position: relative;}#sk-container-id-35 div.sk-item::before, #sk-container-id-35 div.sk-parallel-item::before {content: \"\";position: absolute;border-left: 1px solid gray;box-sizing: border-box;top: 0;bottom: 0;left: 50%;z-index: -1;}#sk-container-id-35 div.sk-parallel-item {display: flex;flex-direction: column;z-index: 1;position: relative;background-color: white;}#sk-container-id-35 div.sk-parallel-item:first-child::after {align-self: flex-end;width: 50%;}#sk-container-id-35 div.sk-parallel-item:last-child::after {align-self: flex-start;width: 50%;}#sk-container-id-35 div.sk-parallel-item:only-child::after {width: 0;}#sk-container-id-35 div.sk-dashed-wrapped {border: 1px dashed gray;margin: 0 0.4em 0.5em 0.4em;box-sizing: border-box;padding-bottom: 0.4em;background-color: white;}#sk-container-id-35 div.sk-label label {font-family: monospace;font-weight: bold;display: inline-block;line-height: 1.2em;}#sk-container-id-35 div.sk-label-container {text-align: center;}#sk-container-id-35 div.sk-container {/* jupyter's `normalize.less` sets `[hidden] { display: none; }` but bootstrap.min.css set `[hidden] { display: none !important; }` so we also need the `!important` here to be able to override the default hidden behavior on the sphinx rendered scikit-learn.org. See: https://github.com/scikit-learn/scikit-learn/issues/21755 */display: inline-block !important;position: relative;}#sk-container-id-35 div.sk-text-repr-fallback {display: none;}</style><div id=\"sk-container-id-35\" class=\"sk-top-container\"><div class=\"sk-text-repr-fallback\"><pre>DecisionTreeRegressor(max_depth=2, random_state=43)</pre><b>In a Jupyter environment, please rerun this cell to show the HTML representation or trust the notebook. <br />On GitHub, the HTML representation is unable to render, please try loading this page with nbviewer.org.</b></div><div class=\"sk-container\" hidden><div class=\"sk-item\"><div class=\"sk-estimator sk-toggleable\"><input class=\"sk-toggleable__control sk-hidden--visually\" id=\"sk-estimator-id-67\" type=\"checkbox\" checked><label for=\"sk-estimator-id-67\" class=\"sk-toggleable__label sk-toggleable__label-arrow\">DecisionTreeRegressor</label><div class=\"sk-toggleable__content\"><pre>DecisionTreeRegressor(max_depth=2, random_state=43)</pre></div></div></div></div></div>"
            ]
          },
          "metadata": {},
          "execution_count": 142
        }
      ]
    },
    {
      "cell_type": "markdown",
      "source": [
        "And then we will train a third regressor on the residual errors made by second predictor"
      ],
      "metadata": {
        "id": "7wteZ6U_U4JT"
      }
    },
    {
      "cell_type": "code",
      "source": [
        "y3=y2-tree_reg2.predict(x)\n",
        "tree_reg3=DecisionTreeRegressor(max_depth=2,random_state=44)\n",
        "tree_reg3.fit(x,y3)\n"
      ],
      "metadata": {
        "colab": {
          "base_uri": "https://localhost:8080/",
          "height": 74
        },
        "id": "hGmMTW8dVBR-",
        "outputId": "65512c2b-7427-4c50-e464-4721365249f0"
      },
      "execution_count": 143,
      "outputs": [
        {
          "output_type": "execute_result",
          "data": {
            "text/plain": [
              "DecisionTreeRegressor(max_depth=2, random_state=44)"
            ],
            "text/html": [
              "<style>#sk-container-id-36 {color: black;background-color: white;}#sk-container-id-36 pre{padding: 0;}#sk-container-id-36 div.sk-toggleable {background-color: white;}#sk-container-id-36 label.sk-toggleable__label {cursor: pointer;display: block;width: 100%;margin-bottom: 0;padding: 0.3em;box-sizing: border-box;text-align: center;}#sk-container-id-36 label.sk-toggleable__label-arrow:before {content: \"▸\";float: left;margin-right: 0.25em;color: #696969;}#sk-container-id-36 label.sk-toggleable__label-arrow:hover:before {color: black;}#sk-container-id-36 div.sk-estimator:hover label.sk-toggleable__label-arrow:before {color: black;}#sk-container-id-36 div.sk-toggleable__content {max-height: 0;max-width: 0;overflow: hidden;text-align: left;background-color: #f0f8ff;}#sk-container-id-36 div.sk-toggleable__content pre {margin: 0.2em;color: black;border-radius: 0.25em;background-color: #f0f8ff;}#sk-container-id-36 input.sk-toggleable__control:checked~div.sk-toggleable__content {max-height: 200px;max-width: 100%;overflow: auto;}#sk-container-id-36 input.sk-toggleable__control:checked~label.sk-toggleable__label-arrow:before {content: \"▾\";}#sk-container-id-36 div.sk-estimator input.sk-toggleable__control:checked~label.sk-toggleable__label {background-color: #d4ebff;}#sk-container-id-36 div.sk-label input.sk-toggleable__control:checked~label.sk-toggleable__label {background-color: #d4ebff;}#sk-container-id-36 input.sk-hidden--visually {border: 0;clip: rect(1px 1px 1px 1px);clip: rect(1px, 1px, 1px, 1px);height: 1px;margin: -1px;overflow: hidden;padding: 0;position: absolute;width: 1px;}#sk-container-id-36 div.sk-estimator {font-family: monospace;background-color: #f0f8ff;border: 1px dotted black;border-radius: 0.25em;box-sizing: border-box;margin-bottom: 0.5em;}#sk-container-id-36 div.sk-estimator:hover {background-color: #d4ebff;}#sk-container-id-36 div.sk-parallel-item::after {content: \"\";width: 100%;border-bottom: 1px solid gray;flex-grow: 1;}#sk-container-id-36 div.sk-label:hover label.sk-toggleable__label {background-color: #d4ebff;}#sk-container-id-36 div.sk-serial::before {content: \"\";position: absolute;border-left: 1px solid gray;box-sizing: border-box;top: 0;bottom: 0;left: 50%;z-index: 0;}#sk-container-id-36 div.sk-serial {display: flex;flex-direction: column;align-items: center;background-color: white;padding-right: 0.2em;padding-left: 0.2em;position: relative;}#sk-container-id-36 div.sk-item {position: relative;z-index: 1;}#sk-container-id-36 div.sk-parallel {display: flex;align-items: stretch;justify-content: center;background-color: white;position: relative;}#sk-container-id-36 div.sk-item::before, #sk-container-id-36 div.sk-parallel-item::before {content: \"\";position: absolute;border-left: 1px solid gray;box-sizing: border-box;top: 0;bottom: 0;left: 50%;z-index: -1;}#sk-container-id-36 div.sk-parallel-item {display: flex;flex-direction: column;z-index: 1;position: relative;background-color: white;}#sk-container-id-36 div.sk-parallel-item:first-child::after {align-self: flex-end;width: 50%;}#sk-container-id-36 div.sk-parallel-item:last-child::after {align-self: flex-start;width: 50%;}#sk-container-id-36 div.sk-parallel-item:only-child::after {width: 0;}#sk-container-id-36 div.sk-dashed-wrapped {border: 1px dashed gray;margin: 0 0.4em 0.5em 0.4em;box-sizing: border-box;padding-bottom: 0.4em;background-color: white;}#sk-container-id-36 div.sk-label label {font-family: monospace;font-weight: bold;display: inline-block;line-height: 1.2em;}#sk-container-id-36 div.sk-label-container {text-align: center;}#sk-container-id-36 div.sk-container {/* jupyter's `normalize.less` sets `[hidden] { display: none; }` but bootstrap.min.css set `[hidden] { display: none !important; }` so we also need the `!important` here to be able to override the default hidden behavior on the sphinx rendered scikit-learn.org. See: https://github.com/scikit-learn/scikit-learn/issues/21755 */display: inline-block !important;position: relative;}#sk-container-id-36 div.sk-text-repr-fallback {display: none;}</style><div id=\"sk-container-id-36\" class=\"sk-top-container\"><div class=\"sk-text-repr-fallback\"><pre>DecisionTreeRegressor(max_depth=2, random_state=44)</pre><b>In a Jupyter environment, please rerun this cell to show the HTML representation or trust the notebook. <br />On GitHub, the HTML representation is unable to render, please try loading this page with nbviewer.org.</b></div><div class=\"sk-container\" hidden><div class=\"sk-item\"><div class=\"sk-estimator sk-toggleable\"><input class=\"sk-toggleable__control sk-hidden--visually\" id=\"sk-estimator-id-68\" type=\"checkbox\" checked><label for=\"sk-estimator-id-68\" class=\"sk-toggleable__label sk-toggleable__label-arrow\">DecisionTreeRegressor</label><div class=\"sk-toggleable__content\"><pre>DecisionTreeRegressor(max_depth=2, random_state=44)</pre></div></div></div></div></div>"
            ]
          },
          "metadata": {},
          "execution_count": 143
        }
      ]
    },
    {
      "cell_type": "markdown",
      "source": [
        "Now we have an ensemble containing three trees. It can make predictions on a new instance simply by adding up the predictions of all trees."
      ],
      "metadata": {
        "id": "smUJJQogVdvo"
      }
    },
    {
      "cell_type": "code",
      "source": [
        "x_new=np.array([[-0.4],[0.],[0.5]])\n",
        "sum(tree.predict(x_new) for tree in (tree_reg1,tree_reg2,tree_reg3))"
      ],
      "metadata": {
        "colab": {
          "base_uri": "https://localhost:8080/"
        },
        "id": "wk_38vyRVvw6",
        "outputId": "e98cbf9a-e077-4b50-c772-0c038bd61ffc"
      },
      "execution_count": 144,
      "outputs": [
        {
          "output_type": "execute_result",
          "data": {
            "text/plain": [
              "array([0.49484029, 0.04021166, 0.75026781])"
            ]
          },
          "metadata": {},
          "execution_count": 144
        }
      ]
    },
    {
      "cell_type": "markdown",
      "source": [
        " In the first row, the ensemble has just one\n",
        "tree, so its predictions are exactly the same as the first tree’s predictions. In the second\n",
        "row, a new tree is trained on the residual errors of the first tree.Similarly, in the third row another tree is trained on the residual errors of\n",
        "the second tree.\n",
        "\n",
        "A simpler way to train GBRT ensembles is to use Scikit-Learn’s GradientBoostingRe\n",
        "gressor class. Much like the RandomForestRegressor class, it has hyperparameters to\n",
        "control the growth of Decision Trees (e.g., max_depth, min_samples_leaf, and so on),\n",
        "as well as hyperparameters to control the ensemble training, such as the number of\n",
        "trees (n_estimators)."
      ],
      "metadata": {
        "id": "w6oissWFWLjF"
      }
    },
    {
      "cell_type": "code",
      "source": [
        "from sklearn.ensemble import GradientBoostingRegressor\n",
        "gbrt=GradientBoostingRegressor(max_depth=2,n_estimators=3,learning_rate=1.0,random_state=42)\n",
        "gbrt.fit(x,y)"
      ],
      "metadata": {
        "colab": {
          "base_uri": "https://localhost:8080/",
          "height": 92
        },
        "id": "ZG8ncnTbXFqn",
        "outputId": "e22becc9-14be-4224-f846-46e6241989d2"
      },
      "execution_count": 145,
      "outputs": [
        {
          "output_type": "execute_result",
          "data": {
            "text/plain": [
              "GradientBoostingRegressor(learning_rate=1.0, max_depth=2, n_estimators=3,\n",
              "                          random_state=42)"
            ],
            "text/html": [
              "<style>#sk-container-id-37 {color: black;background-color: white;}#sk-container-id-37 pre{padding: 0;}#sk-container-id-37 div.sk-toggleable {background-color: white;}#sk-container-id-37 label.sk-toggleable__label {cursor: pointer;display: block;width: 100%;margin-bottom: 0;padding: 0.3em;box-sizing: border-box;text-align: center;}#sk-container-id-37 label.sk-toggleable__label-arrow:before {content: \"▸\";float: left;margin-right: 0.25em;color: #696969;}#sk-container-id-37 label.sk-toggleable__label-arrow:hover:before {color: black;}#sk-container-id-37 div.sk-estimator:hover label.sk-toggleable__label-arrow:before {color: black;}#sk-container-id-37 div.sk-toggleable__content {max-height: 0;max-width: 0;overflow: hidden;text-align: left;background-color: #f0f8ff;}#sk-container-id-37 div.sk-toggleable__content pre {margin: 0.2em;color: black;border-radius: 0.25em;background-color: #f0f8ff;}#sk-container-id-37 input.sk-toggleable__control:checked~div.sk-toggleable__content {max-height: 200px;max-width: 100%;overflow: auto;}#sk-container-id-37 input.sk-toggleable__control:checked~label.sk-toggleable__label-arrow:before {content: \"▾\";}#sk-container-id-37 div.sk-estimator input.sk-toggleable__control:checked~label.sk-toggleable__label {background-color: #d4ebff;}#sk-container-id-37 div.sk-label input.sk-toggleable__control:checked~label.sk-toggleable__label {background-color: #d4ebff;}#sk-container-id-37 input.sk-hidden--visually {border: 0;clip: rect(1px 1px 1px 1px);clip: rect(1px, 1px, 1px, 1px);height: 1px;margin: -1px;overflow: hidden;padding: 0;position: absolute;width: 1px;}#sk-container-id-37 div.sk-estimator {font-family: monospace;background-color: #f0f8ff;border: 1px dotted black;border-radius: 0.25em;box-sizing: border-box;margin-bottom: 0.5em;}#sk-container-id-37 div.sk-estimator:hover {background-color: #d4ebff;}#sk-container-id-37 div.sk-parallel-item::after {content: \"\";width: 100%;border-bottom: 1px solid gray;flex-grow: 1;}#sk-container-id-37 div.sk-label:hover label.sk-toggleable__label {background-color: #d4ebff;}#sk-container-id-37 div.sk-serial::before {content: \"\";position: absolute;border-left: 1px solid gray;box-sizing: border-box;top: 0;bottom: 0;left: 50%;z-index: 0;}#sk-container-id-37 div.sk-serial {display: flex;flex-direction: column;align-items: center;background-color: white;padding-right: 0.2em;padding-left: 0.2em;position: relative;}#sk-container-id-37 div.sk-item {position: relative;z-index: 1;}#sk-container-id-37 div.sk-parallel {display: flex;align-items: stretch;justify-content: center;background-color: white;position: relative;}#sk-container-id-37 div.sk-item::before, #sk-container-id-37 div.sk-parallel-item::before {content: \"\";position: absolute;border-left: 1px solid gray;box-sizing: border-box;top: 0;bottom: 0;left: 50%;z-index: -1;}#sk-container-id-37 div.sk-parallel-item {display: flex;flex-direction: column;z-index: 1;position: relative;background-color: white;}#sk-container-id-37 div.sk-parallel-item:first-child::after {align-self: flex-end;width: 50%;}#sk-container-id-37 div.sk-parallel-item:last-child::after {align-self: flex-start;width: 50%;}#sk-container-id-37 div.sk-parallel-item:only-child::after {width: 0;}#sk-container-id-37 div.sk-dashed-wrapped {border: 1px dashed gray;margin: 0 0.4em 0.5em 0.4em;box-sizing: border-box;padding-bottom: 0.4em;background-color: white;}#sk-container-id-37 div.sk-label label {font-family: monospace;font-weight: bold;display: inline-block;line-height: 1.2em;}#sk-container-id-37 div.sk-label-container {text-align: center;}#sk-container-id-37 div.sk-container {/* jupyter's `normalize.less` sets `[hidden] { display: none; }` but bootstrap.min.css set `[hidden] { display: none !important; }` so we also need the `!important` here to be able to override the default hidden behavior on the sphinx rendered scikit-learn.org. See: https://github.com/scikit-learn/scikit-learn/issues/21755 */display: inline-block !important;position: relative;}#sk-container-id-37 div.sk-text-repr-fallback {display: none;}</style><div id=\"sk-container-id-37\" class=\"sk-top-container\"><div class=\"sk-text-repr-fallback\"><pre>GradientBoostingRegressor(learning_rate=1.0, max_depth=2, n_estimators=3,\n",
              "                          random_state=42)</pre><b>In a Jupyter environment, please rerun this cell to show the HTML representation or trust the notebook. <br />On GitHub, the HTML representation is unable to render, please try loading this page with nbviewer.org.</b></div><div class=\"sk-container\" hidden><div class=\"sk-item\"><div class=\"sk-estimator sk-toggleable\"><input class=\"sk-toggleable__control sk-hidden--visually\" id=\"sk-estimator-id-69\" type=\"checkbox\" checked><label for=\"sk-estimator-id-69\" class=\"sk-toggleable__label sk-toggleable__label-arrow\">GradientBoostingRegressor</label><div class=\"sk-toggleable__content\"><pre>GradientBoostingRegressor(learning_rate=1.0, max_depth=2, n_estimators=3,\n",
              "                          random_state=42)</pre></div></div></div></div></div>"
            ]
          },
          "metadata": {},
          "execution_count": 145
        }
      ]
    },
    {
      "cell_type": "markdown",
      "source": [
        "The learning_rate hyperparameter scales the contribution of each tree. If you set it\n",
        "to a low value, such as 0.1, you will need more trees in the ensemble to fit the training set, but the predictions will usually generalize better. This is a regularization technique called shrinkage.\n",
        "\n",
        "To find the optimal number of treees you colud perform cross validation using GridSearchCV or RandomizedSearchCV as usual but theres a simpler way: if you set the n_iter_no_change hyperparameter to an integer value, say 10 then the GradientBoostingRegressor will automatically stop adding more trees during training if it sees that the last 10 trees didn't help. This is simply early stopping but with a little bit of patience it tolerates having no progress for a few iterations before it stops.Let's train the ensemble using early stopping."
      ],
      "metadata": {
        "id": "Dyy_mxJDWKfK"
      }
    },
    {
      "cell_type": "code",
      "source": [
        "gbrt_best=GradientBoostingRegressor(\n",
        "    max_depth=2,learning_rate=0.05,n_estimators=500,\n",
        "    n_iter_no_change=10,random_state=42)\n",
        "gbrt_best.fit(x,y)"
      ],
      "metadata": {
        "colab": {
          "base_uri": "https://localhost:8080/",
          "height": 92
        },
        "id": "BVr4wX_voAmm",
        "outputId": "f976a946-0739-40be-98de-ae7045dab346"
      },
      "execution_count": 146,
      "outputs": [
        {
          "output_type": "execute_result",
          "data": {
            "text/plain": [
              "GradientBoostingRegressor(learning_rate=0.05, max_depth=2, n_estimators=500,\n",
              "                          n_iter_no_change=10, random_state=42)"
            ],
            "text/html": [
              "<style>#sk-container-id-38 {color: black;background-color: white;}#sk-container-id-38 pre{padding: 0;}#sk-container-id-38 div.sk-toggleable {background-color: white;}#sk-container-id-38 label.sk-toggleable__label {cursor: pointer;display: block;width: 100%;margin-bottom: 0;padding: 0.3em;box-sizing: border-box;text-align: center;}#sk-container-id-38 label.sk-toggleable__label-arrow:before {content: \"▸\";float: left;margin-right: 0.25em;color: #696969;}#sk-container-id-38 label.sk-toggleable__label-arrow:hover:before {color: black;}#sk-container-id-38 div.sk-estimator:hover label.sk-toggleable__label-arrow:before {color: black;}#sk-container-id-38 div.sk-toggleable__content {max-height: 0;max-width: 0;overflow: hidden;text-align: left;background-color: #f0f8ff;}#sk-container-id-38 div.sk-toggleable__content pre {margin: 0.2em;color: black;border-radius: 0.25em;background-color: #f0f8ff;}#sk-container-id-38 input.sk-toggleable__control:checked~div.sk-toggleable__content {max-height: 200px;max-width: 100%;overflow: auto;}#sk-container-id-38 input.sk-toggleable__control:checked~label.sk-toggleable__label-arrow:before {content: \"▾\";}#sk-container-id-38 div.sk-estimator input.sk-toggleable__control:checked~label.sk-toggleable__label {background-color: #d4ebff;}#sk-container-id-38 div.sk-label input.sk-toggleable__control:checked~label.sk-toggleable__label {background-color: #d4ebff;}#sk-container-id-38 input.sk-hidden--visually {border: 0;clip: rect(1px 1px 1px 1px);clip: rect(1px, 1px, 1px, 1px);height: 1px;margin: -1px;overflow: hidden;padding: 0;position: absolute;width: 1px;}#sk-container-id-38 div.sk-estimator {font-family: monospace;background-color: #f0f8ff;border: 1px dotted black;border-radius: 0.25em;box-sizing: border-box;margin-bottom: 0.5em;}#sk-container-id-38 div.sk-estimator:hover {background-color: #d4ebff;}#sk-container-id-38 div.sk-parallel-item::after {content: \"\";width: 100%;border-bottom: 1px solid gray;flex-grow: 1;}#sk-container-id-38 div.sk-label:hover label.sk-toggleable__label {background-color: #d4ebff;}#sk-container-id-38 div.sk-serial::before {content: \"\";position: absolute;border-left: 1px solid gray;box-sizing: border-box;top: 0;bottom: 0;left: 50%;z-index: 0;}#sk-container-id-38 div.sk-serial {display: flex;flex-direction: column;align-items: center;background-color: white;padding-right: 0.2em;padding-left: 0.2em;position: relative;}#sk-container-id-38 div.sk-item {position: relative;z-index: 1;}#sk-container-id-38 div.sk-parallel {display: flex;align-items: stretch;justify-content: center;background-color: white;position: relative;}#sk-container-id-38 div.sk-item::before, #sk-container-id-38 div.sk-parallel-item::before {content: \"\";position: absolute;border-left: 1px solid gray;box-sizing: border-box;top: 0;bottom: 0;left: 50%;z-index: -1;}#sk-container-id-38 div.sk-parallel-item {display: flex;flex-direction: column;z-index: 1;position: relative;background-color: white;}#sk-container-id-38 div.sk-parallel-item:first-child::after {align-self: flex-end;width: 50%;}#sk-container-id-38 div.sk-parallel-item:last-child::after {align-self: flex-start;width: 50%;}#sk-container-id-38 div.sk-parallel-item:only-child::after {width: 0;}#sk-container-id-38 div.sk-dashed-wrapped {border: 1px dashed gray;margin: 0 0.4em 0.5em 0.4em;box-sizing: border-box;padding-bottom: 0.4em;background-color: white;}#sk-container-id-38 div.sk-label label {font-family: monospace;font-weight: bold;display: inline-block;line-height: 1.2em;}#sk-container-id-38 div.sk-label-container {text-align: center;}#sk-container-id-38 div.sk-container {/* jupyter's `normalize.less` sets `[hidden] { display: none; }` but bootstrap.min.css set `[hidden] { display: none !important; }` so we also need the `!important` here to be able to override the default hidden behavior on the sphinx rendered scikit-learn.org. See: https://github.com/scikit-learn/scikit-learn/issues/21755 */display: inline-block !important;position: relative;}#sk-container-id-38 div.sk-text-repr-fallback {display: none;}</style><div id=\"sk-container-id-38\" class=\"sk-top-container\"><div class=\"sk-text-repr-fallback\"><pre>GradientBoostingRegressor(learning_rate=0.05, max_depth=2, n_estimators=500,\n",
              "                          n_iter_no_change=10, random_state=42)</pre><b>In a Jupyter environment, please rerun this cell to show the HTML representation or trust the notebook. <br />On GitHub, the HTML representation is unable to render, please try loading this page with nbviewer.org.</b></div><div class=\"sk-container\" hidden><div class=\"sk-item\"><div class=\"sk-estimator sk-toggleable\"><input class=\"sk-toggleable__control sk-hidden--visually\" id=\"sk-estimator-id-70\" type=\"checkbox\" checked><label for=\"sk-estimator-id-70\" class=\"sk-toggleable__label sk-toggleable__label-arrow\">GradientBoostingRegressor</label><div class=\"sk-toggleable__content\"><pre>GradientBoostingRegressor(learning_rate=0.05, max_depth=2, n_estimators=500,\n",
              "                          n_iter_no_change=10, random_state=42)</pre></div></div></div></div></div>"
            ]
          },
          "metadata": {},
          "execution_count": 146
        }
      ]
    },
    {
      "cell_type": "markdown",
      "source": [
        "If yo set n_iter_no_change too low,training may stop too early and the model will underfit.But if you set it too high it will overfit instead.We also fit a fairly small learning rate and a high number of estimators but the actual number of estimators in the trained ensemble is much lower,thanks to early stopping."
      ],
      "metadata": {
        "id": "hf0GmmYooa8G"
      }
    },
    {
      "cell_type": "code",
      "source": [
        "gbrt_best.n_estimators_"
      ],
      "metadata": {
        "colab": {
          "base_uri": "https://localhost:8080/"
        },
        "id": "VvoKWjzVpJW3",
        "outputId": "4210bbd7-9628-4b5b-9bb1-a2634c6bed01"
      },
      "execution_count": 147,
      "outputs": [
        {
          "output_type": "execute_result",
          "data": {
            "text/plain": [
              "92"
            ]
          },
          "metadata": {},
          "execution_count": 147
        }
      ]
    },
    {
      "cell_type": "markdown",
      "source": [
        "When n_iter_no_change is set the fit() method automatically splits the training set into a smaller training set and a validation set: this allows it to ecvaluate the models performance each time it adds a new tree. the size of the validation set is controlled by the valiudation_fraction hyperparameter which is 10% by default. The tol hyperparameter determines the maximum performance improvement that still counts as negligible it defaults to 0.0001.\n",
        "\n",
        "This technique trades a higher bias for lower variance.It also speeds up training considerably.This is called stochastic gradient boosting."
      ],
      "metadata": {
        "id": "nUr_nxOSpRu1"
      }
    },
    {
      "cell_type": "markdown",
      "source": [
        "**Histogram Based Gradient Boosting**"
      ],
      "metadata": {
        "id": "fj8DywnyqynV"
      }
    },
    {
      "cell_type": "markdown",
      "source": [
        "It works by binning the input features,replacing them with integers.The number of bins is controlled by the max_bins hyperparameter which defaults to 255 and cannot be set any higher than this.Binning can greatly reduce the number of possible thresholds that the training algorithm needs to evaluate. Moreover,working with integers makes it possible to use faster and more memory-efficient data structures.And the way the bins are built removes the need for sorting the features when training each tree.\n",
        "\n",
        "As a result this implementation has a computational of O(bxm) instead of O(nxmxlog(m)) where b is the number of bins m is the number of training instances and n is the number of feeatures. In practice this means that HGB can train hundreds of times faster than regular GBRT on large datasets.However binning causes a precision loss,which acts as a regularizer:depending on the datasets,this may help reduce overfitting or it may cause underfitting.\n",
        "\n",
        "Scikit-Learn provides two classes for HGB: HistGradientBoostingRegressor and HistGradientBoostingClassifer.\n",
        "They are similar to  GradientBoostingRegressor and GradientBoostingClassifier,with notable differences:\n",
        "\n",
        ">Early stopping is automatically activated if the number of instances is greater than 10,000.You can turn early stopping always on or always off by setting the early_stopping hyperparameter to True or False.\n",
        "\n",
        ">Subsampling is not supported.\n",
        "\n",
        ">n_estimators is renames to max_iter.\n",
        "\n",
        ">The only decision tree  hyperparameters that can  be tweaked are max_leaf_nodes, min_samples_leaf and max_depth."
      ],
      "metadata": {
        "id": "5b69ZN5TrMji"
      }
    },
    {
      "cell_type": "markdown",
      "source": [
        "**stacking**"
      ],
      "metadata": {
        "id": "RQ6y7f7awITY"
      }
    },
    {
      "cell_type": "markdown",
      "source": [
        "It is based on a simple idea: instead of using trivial functions\n",
        "(such as hard voting) to aggregate the predictions of all predictors in an ensemble,\n",
        "why don’t we train a model to perform this aggregation?shows such an\n",
        "ensemble performing a regression task on a new instance. Each of the bottom three\n",
        "predictors predicts a different value (3.1, 2.7, and 2.9), and then the final predictor\n",
        "(called a blender, or a meta learner) takes these predictions as inputs and makes the\n",
        "final prediction (3.0)\n",
        "\n",
        "![image.png](data:image/png;base64,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)"
      ],
      "metadata": {
        "id": "mBPiBXDKwLKK"
      }
    },
    {
      "cell_type": "markdown",
      "source": [
        "To train the blender you first need to build the blending training set. You can use cross_val_predict() on every predictor in the ensemble to get out of sample predictions for eachinstance in the original training set and can be used as the Input features to train the blender; and the target can be simply copied from original training set.\n",
        "\n",
        "Regardless of the number of features in the trainig set,the blending trianing set will contain one input feature per predictor.Once the blender is trained the base predictors are retrained one last time on the ful original training set."
      ],
      "metadata": {
        "id": "EkegnYIBwcOr"
      }
    },
    {
      "cell_type": "markdown",
      "source": [
        "Scikit Learn provides two classes for stacking ensembles.StackingClassifier and StackingRegressor."
      ],
      "metadata": {
        "id": "wKMSdQozyI6A"
      }
    },
    {
      "cell_type": "code",
      "source": [
        "from sklearn.ensemble import StackingClassifier\n",
        "stacking=StackingClassifier(\n",
        "    estimators=[\n",
        "        ('lr',LogisticRegression(random_state=42)),\n",
        "        ('rf',RandomForestClassifier(random_state=42)),\n",
        "        ('svc',SVC(probability=True,random_state=42))\n",
        "    ],\n",
        "    final_estimator=RandomForestClassifier(random_state=43),cv=5\n",
        ")\n",
        "stacking.fit(x_train,y_train)"
      ],
      "metadata": {
        "colab": {
          "base_uri": "https://localhost:8080/",
          "height": 161
        },
        "id": "wZt0MI6lyX2-",
        "outputId": "ecc04b95-1d71-49de-e16d-1c2482af5988"
      },
      "execution_count": 153,
      "outputs": [
        {
          "output_type": "execute_result",
          "data": {
            "text/plain": [
              "StackingClassifier(cv=5,\n",
              "                   estimators=[('lr', LogisticRegression(random_state=42)),\n",
              "                               ('rf', RandomForestClassifier(random_state=42)),\n",
              "                               ('svc', SVC(probability=True, random_state=42))],\n",
              "                   final_estimator=RandomForestClassifier(random_state=43))"
            ],
            "text/html": [
              "<style>#sk-container-id-39 {color: black;background-color: white;}#sk-container-id-39 pre{padding: 0;}#sk-container-id-39 div.sk-toggleable {background-color: white;}#sk-container-id-39 label.sk-toggleable__label {cursor: pointer;display: block;width: 100%;margin-bottom: 0;padding: 0.3em;box-sizing: border-box;text-align: center;}#sk-container-id-39 label.sk-toggleable__label-arrow:before {content: \"▸\";float: left;margin-right: 0.25em;color: #696969;}#sk-container-id-39 label.sk-toggleable__label-arrow:hover:before {color: black;}#sk-container-id-39 div.sk-estimator:hover label.sk-toggleable__label-arrow:before {color: black;}#sk-container-id-39 div.sk-toggleable__content {max-height: 0;max-width: 0;overflow: hidden;text-align: left;background-color: #f0f8ff;}#sk-container-id-39 div.sk-toggleable__content pre {margin: 0.2em;color: black;border-radius: 0.25em;background-color: #f0f8ff;}#sk-container-id-39 input.sk-toggleable__control:checked~div.sk-toggleable__content {max-height: 200px;max-width: 100%;overflow: auto;}#sk-container-id-39 input.sk-toggleable__control:checked~label.sk-toggleable__label-arrow:before {content: \"▾\";}#sk-container-id-39 div.sk-estimator input.sk-toggleable__control:checked~label.sk-toggleable__label {background-color: #d4ebff;}#sk-container-id-39 div.sk-label input.sk-toggleable__control:checked~label.sk-toggleable__label {background-color: #d4ebff;}#sk-container-id-39 input.sk-hidden--visually {border: 0;clip: rect(1px 1px 1px 1px);clip: rect(1px, 1px, 1px, 1px);height: 1px;margin: -1px;overflow: hidden;padding: 0;position: absolute;width: 1px;}#sk-container-id-39 div.sk-estimator {font-family: monospace;background-color: #f0f8ff;border: 1px dotted black;border-radius: 0.25em;box-sizing: border-box;margin-bottom: 0.5em;}#sk-container-id-39 div.sk-estimator:hover {background-color: #d4ebff;}#sk-container-id-39 div.sk-parallel-item::after {content: \"\";width: 100%;border-bottom: 1px solid gray;flex-grow: 1;}#sk-container-id-39 div.sk-label:hover label.sk-toggleable__label {background-color: #d4ebff;}#sk-container-id-39 div.sk-serial::before {content: \"\";position: absolute;border-left: 1px solid gray;box-sizing: border-box;top: 0;bottom: 0;left: 50%;z-index: 0;}#sk-container-id-39 div.sk-serial {display: flex;flex-direction: column;align-items: center;background-color: white;padding-right: 0.2em;padding-left: 0.2em;position: relative;}#sk-container-id-39 div.sk-item {position: relative;z-index: 1;}#sk-container-id-39 div.sk-parallel {display: flex;align-items: stretch;justify-content: center;background-color: white;position: relative;}#sk-container-id-39 div.sk-item::before, #sk-container-id-39 div.sk-parallel-item::before {content: \"\";position: absolute;border-left: 1px solid gray;box-sizing: border-box;top: 0;bottom: 0;left: 50%;z-index: -1;}#sk-container-id-39 div.sk-parallel-item {display: flex;flex-direction: column;z-index: 1;position: relative;background-color: white;}#sk-container-id-39 div.sk-parallel-item:first-child::after {align-self: flex-end;width: 50%;}#sk-container-id-39 div.sk-parallel-item:last-child::after {align-self: flex-start;width: 50%;}#sk-container-id-39 div.sk-parallel-item:only-child::after {width: 0;}#sk-container-id-39 div.sk-dashed-wrapped {border: 1px dashed gray;margin: 0 0.4em 0.5em 0.4em;box-sizing: border-box;padding-bottom: 0.4em;background-color: white;}#sk-container-id-39 div.sk-label label {font-family: monospace;font-weight: bold;display: inline-block;line-height: 1.2em;}#sk-container-id-39 div.sk-label-container {text-align: center;}#sk-container-id-39 div.sk-container {/* jupyter's `normalize.less` sets `[hidden] { display: none; }` but bootstrap.min.css set `[hidden] { display: none !important; }` so we also need the `!important` here to be able to override the default hidden behavior on the sphinx rendered scikit-learn.org. See: https://github.com/scikit-learn/scikit-learn/issues/21755 */display: inline-block !important;position: relative;}#sk-container-id-39 div.sk-text-repr-fallback {display: none;}</style><div id=\"sk-container-id-39\" class=\"sk-top-container\"><div class=\"sk-text-repr-fallback\"><pre>StackingClassifier(cv=5,\n",
              "                   estimators=[(&#x27;lr&#x27;, LogisticRegression(random_state=42)),\n",
              "                               (&#x27;rf&#x27;, RandomForestClassifier(random_state=42)),\n",
              "                               (&#x27;svc&#x27;, SVC(probability=True, random_state=42))],\n",
              "                   final_estimator=RandomForestClassifier(random_state=43))</pre><b>In a Jupyter environment, please rerun this cell to show the HTML representation or trust the notebook. <br />On GitHub, the HTML representation is unable to render, please try loading this page with nbviewer.org.</b></div><div class=\"sk-container\" hidden><div class=\"sk-item sk-dashed-wrapped\"><div class=\"sk-label-container\"><div class=\"sk-label sk-toggleable\"><input class=\"sk-toggleable__control sk-hidden--visually\" id=\"sk-estimator-id-71\" type=\"checkbox\" ><label for=\"sk-estimator-id-71\" class=\"sk-toggleable__label sk-toggleable__label-arrow\">StackingClassifier</label><div class=\"sk-toggleable__content\"><pre>StackingClassifier(cv=5,\n",
              "                   estimators=[(&#x27;lr&#x27;, LogisticRegression(random_state=42)),\n",
              "                               (&#x27;rf&#x27;, RandomForestClassifier(random_state=42)),\n",
              "                               (&#x27;svc&#x27;, SVC(probability=True, random_state=42))],\n",
              "                   final_estimator=RandomForestClassifier(random_state=43))</pre></div></div></div><div class=\"sk-serial\"><div class=\"sk-item\"><div class=\"sk-parallel\"><div class=\"sk-parallel-item\"><div class=\"sk-item\"><div class=\"sk-label-container\"><div class=\"sk-label sk-toggleable\"><label>lr</label></div></div><div class=\"sk-serial\"><div class=\"sk-item\"><div class=\"sk-estimator sk-toggleable\"><input class=\"sk-toggleable__control sk-hidden--visually\" id=\"sk-estimator-id-72\" type=\"checkbox\" ><label for=\"sk-estimator-id-72\" class=\"sk-toggleable__label sk-toggleable__label-arrow\">LogisticRegression</label><div class=\"sk-toggleable__content\"><pre>LogisticRegression(random_state=42)</pre></div></div></div></div></div></div><div class=\"sk-parallel-item\"><div class=\"sk-item\"><div class=\"sk-label-container\"><div class=\"sk-label sk-toggleable\"><label>rf</label></div></div><div class=\"sk-serial\"><div class=\"sk-item\"><div class=\"sk-estimator sk-toggleable\"><input class=\"sk-toggleable__control sk-hidden--visually\" id=\"sk-estimator-id-73\" type=\"checkbox\" ><label for=\"sk-estimator-id-73\" class=\"sk-toggleable__label sk-toggleable__label-arrow\">RandomForestClassifier</label><div class=\"sk-toggleable__content\"><pre>RandomForestClassifier(random_state=42)</pre></div></div></div></div></div></div><div class=\"sk-parallel-item\"><div class=\"sk-item\"><div class=\"sk-label-container\"><div class=\"sk-label sk-toggleable\"><label>svc</label></div></div><div class=\"sk-serial\"><div class=\"sk-item\"><div class=\"sk-estimator sk-toggleable\"><input class=\"sk-toggleable__control sk-hidden--visually\" id=\"sk-estimator-id-74\" type=\"checkbox\" ><label for=\"sk-estimator-id-74\" class=\"sk-toggleable__label sk-toggleable__label-arrow\">SVC</label><div class=\"sk-toggleable__content\"><pre>SVC(probability=True, random_state=42)</pre></div></div></div></div></div></div></div></div><div class=\"sk-item\"><div class=\"sk-parallel\"><div class=\"sk-parallel-item\"><div class=\"sk-item\"><div class=\"sk-label-container\"><div class=\"sk-label sk-toggleable\"><label>final_estimator</label></div></div><div class=\"sk-serial\"><div class=\"sk-item\"><div class=\"sk-estimator sk-toggleable\"><input class=\"sk-toggleable__control sk-hidden--visually\" id=\"sk-estimator-id-75\" type=\"checkbox\" ><label for=\"sk-estimator-id-75\" class=\"sk-toggleable__label sk-toggleable__label-arrow\">RandomForestClassifier</label><div class=\"sk-toggleable__content\"><pre>RandomForestClassifier(random_state=43)</pre></div></div></div></div></div></div></div></div></div></div></div></div>"
            ]
          },
          "metadata": {},
          "execution_count": 153
        }
      ]
    },
    {
      "cell_type": "code",
      "source": [
        "stacking.score(x_test,y_test)"
      ],
      "metadata": {
        "colab": {
          "base_uri": "https://localhost:8080/"
        },
        "id": "sLssxpZTzUVb",
        "outputId": "894dc587-0384-4690-f4c7-d6b39ef61657"
      },
      "execution_count": 154,
      "outputs": [
        {
          "output_type": "execute_result",
          "data": {
            "text/plain": [
              "0.928"
            ]
          },
          "metadata": {},
          "execution_count": 154
        }
      ]
    },
    {
      "cell_type": "markdown",
      "source": [
        "This is bit better than the voting classifier using soft voting"
      ],
      "metadata": {
        "id": "FhPGlf2dzZnW"
      }
    }
  ]
}